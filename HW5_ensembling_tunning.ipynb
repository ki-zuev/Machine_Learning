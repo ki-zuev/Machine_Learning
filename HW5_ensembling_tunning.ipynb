{
  "cells": [
    {
      "cell_type": "markdown",
      "metadata": {
        "id": "ZYAwGxR-N-u3"
      },
      "source": [
        "# HW5 ENSEMBLING, TUNNING"
      ]
    },
    {
      "cell_type": "markdown",
      "metadata": {
        "id": "pyUMcokLt7u9"
      },
      "source": [
        "# Импорт библиотек"
      ]
    },
    {
      "cell_type": "code",
      "execution_count": 43,
      "metadata": {
        "id": "I9iVG2EDt7u-"
      },
      "outputs": [],
      "source": [
        "from IPython.display import clear_output\n",
        "!pip install lightgbm==3.0\n",
        "!pip install gdown\n",
        "!pip install optuna\n",
        "!pip install catboost\n",
        "!pip install pytorch-tabnet\n",
        "!pip install -U imbalanced-learn\n",
        "clear_output()"
      ]
    },
    {
      "cell_type": "code",
      "execution_count": 44,
      "metadata": {
        "id": "fVvqxbMQt7u_"
      },
      "outputs": [],
      "source": [
        "import catboost\n",
        "import itertools\n",
        "import imblearn\n",
        "import lightgbm\n",
        "import matplotlib.pyplot as plt\n",
        "import numpy as np\n",
        "import optuna\n",
        "import pandas as pd\n",
        "import scipy\n",
        "import seaborn as sns\n",
        "import sklearn\n",
        "import sklearn.datasets\n",
        "import xgboost\n",
        "\n",
        "from sklearn.ensemble import RandomForestClassifier, BaggingClassifier, VotingClassifier, ExtraTreesClassifier\n",
        "from sklearn.linear_model import LogisticRegression, SGDClassifier\n",
        "from sklearn.tree import DecisionTreeClassifier, DecisionTreeRegressor\n",
        "from sklearn.model_selection import train_test_split, KFold, StratifiedKFold, GridSearchCV, cross_validate, cross_val_score\n",
        "from sklearn.metrics import mean_squared_error, accuracy_score, balanced_accuracy_score, average_precision_score\n",
        "from sklearn.neighbors import KNeighborsClassifier\n",
        "from sklearn.svm import SVC\n",
        "from sklearn.naive_bayes import GaussianNB\n",
        "from sklearn.metrics import matthews_corrcoef\n",
        "from pytorch_tabnet.tab_model import  TabNetRegressor"
      ]
    },
    {
      "cell_type": "markdown",
      "metadata": {
        "id": "S8zf9cmBt7vB"
      },
      "source": [
        "Функция для визуализации результата (можете модифицировать).\n"
      ]
    },
    {
      "cell_type": "code",
      "execution_count": 45,
      "metadata": {
        "id": "GmD6oXo7t7vB"
      },
      "outputs": [],
      "source": [
        "def plot_regression_predictions(tree_reg, x, y, max_depth, x_range = [0, 1],\n",
        "                                y_range = [-1, 1]):\n",
        "    \"\"\"\n",
        "    Visualize data and model predictions\n",
        "    :param tree_reg: trained model,\n",
        "    :param x: features\n",
        "    :param y: true values\n",
        "    :param max_depth: max tree depth\n",
        "    :param x_range: x range\n",
        "    :param y_range: y range\n",
        "    \"\"\"\n",
        "    x_pred = np.linspace(x_range[0], x_range[1], 500).reshape(-1, 1)\n",
        "    y_pred = tree_reg.predict(x_pred)\n",
        "\n",
        "    plt.xlim(x_range)\n",
        "    plt.ylim(y_range)\n",
        "\n",
        "    plt.xlabel(\"$x$\", fontsize=18)\n",
        "    plt.ylabel(\"$y$\", fontsize=18, rotation=0)\n",
        "\n",
        "    plt.plot(x, y, \"b.\", label=\"data\")\n",
        "    plt.plot(x_pred, y_pred, \"r.-\", linewidth=2, label=f\"max_depth = {max_depth}\")\n",
        "    plt.legend()"
      ]
    },
    {
      "cell_type": "markdown",
      "metadata": {
        "id": "Q7ybGDxjt7vD"
      },
      "source": [
        "# Задание 1. Bootstrap"
      ]
    },
    {
      "cell_type": "markdown",
      "metadata": {
        "id": "iOsT5kjRt7vD"
      },
      "source": [
        "В этом задании используйте датасет breast_cancer &mdash; классический датасет для задачи бинарной классификации. Обучите модели:\n",
        "\n",
        " - `DecisionTreeClassifier`\n",
        " -`RandomForestClassifier`\n",
        " -`LigthGBMClassifier`\n",
        " -`SVC`\n",
        " -`BaggingClassifier` с базовым класификатором - SVC .\n",
        "\n",
        "Параметры моделей можете оставить по умолчанию или задать сами.\n",
        "\n",
        "Для каждой модели посчитайте [корреляцию Мэтьюса](https://en.wikipedia.org/wiki/Phi_coefficient) &mdash; метрику для оценки качества бинарной классификации, в частности, устойчивую к дисбалансу классов, ([`sklearn.metrics.matthews_corrcoef`](https://scikit-learn.org/stable/modules/generated/sklearn.metrics.matthews_corrcoef.html), подробнее почитать про его пользу можно [здесь](https://bmcgenomics.biomedcentral.com/articles/10.1186/s12864-019-6413-7)) для предсказанного ею класса и реального\n",
        "\n",
        "С помощью bootstrap-подхода постройте 90% доверительные интервалы для качества полученных моделей. Используйте функцию `bootstrap_metric` из лекции ().\n",
        "\n",
        "Постройте [боксплоты](https://seaborn.pydata.org/generated/seaborn.boxplot.html) для качества полученных моделей"
      ]
    },
    {
      "cell_type": "code",
      "execution_count": 46,
      "metadata": {
        "colab": {
          "base_uri": "https://localhost:8080/"
        },
        "id": "5MxDjBybt7vD",
        "outputId": "cab555a4-f1f0-414e-c6cf-ab186cb59883"
      },
      "outputs": [
        {
          "output_type": "stream",
          "name": "stdout",
          "text": [
            ".. _breast_cancer_dataset:\n",
            "\n",
            "Breast cancer wisconsin (diagnostic) dataset\n",
            "--------------------------------------------\n",
            "\n",
            "**Data Set Characteristics:**\n",
            "\n",
            "    :Number of Instances: 569\n",
            "\n",
            "    :Number of Attributes: 30 numeric, predictive attributes and the class\n",
            "\n",
            "    :Attribute Information:\n",
            "        - radius (mean of distances from center to points on the perimeter)\n",
            "        - texture (standard deviation of gray-scale values)\n",
            "        - perimeter\n",
            "        - area\n",
            "        - smoothness (local variation in radius lengths)\n",
            "        - compactness (perimeter^2 / area - 1.0)\n",
            "        - concavity (severity of concave portions of the contour)\n",
            "        - concave points (number of concave portions of the contour)\n",
            "        - symmetry\n",
            "        - fractal dimension (\"coastline approximation\" - 1)\n",
            "\n",
            "        The mean, standard error, and \"worst\" or largest (mean of the three\n",
            "        worst/largest values) of these features were computed for each image,\n",
            "        resulting in 30 features.  For instance, field 0 is Mean Radius, field\n",
            "        10 is Radius SE, field 20 is Worst Radius.\n",
            "\n",
            "        - class:\n",
            "                - WDBC-Malignant\n",
            "                - WDBC-Benign\n",
            "\n",
            "    :Summary Statistics:\n",
            "\n",
            "    ===================================== ====== ======\n",
            "                                           Min    Max\n",
            "    ===================================== ====== ======\n",
            "    radius (mean):                        6.981  28.11\n",
            "    texture (mean):                       9.71   39.28\n",
            "    perimeter (mean):                     43.79  188.5\n",
            "    area (mean):                          143.5  2501.0\n",
            "    smoothness (mean):                    0.053  0.163\n",
            "    compactness (mean):                   0.019  0.345\n",
            "    concavity (mean):                     0.0    0.427\n",
            "    concave points (mean):                0.0    0.201\n",
            "    symmetry (mean):                      0.106  0.304\n",
            "    fractal dimension (mean):             0.05   0.097\n",
            "    radius (standard error):              0.112  2.873\n",
            "    texture (standard error):             0.36   4.885\n",
            "    perimeter (standard error):           0.757  21.98\n",
            "    area (standard error):                6.802  542.2\n",
            "    smoothness (standard error):          0.002  0.031\n",
            "    compactness (standard error):         0.002  0.135\n",
            "    concavity (standard error):           0.0    0.396\n",
            "    concave points (standard error):      0.0    0.053\n",
            "    symmetry (standard error):            0.008  0.079\n",
            "    fractal dimension (standard error):   0.001  0.03\n",
            "    radius (worst):                       7.93   36.04\n",
            "    texture (worst):                      12.02  49.54\n",
            "    perimeter (worst):                    50.41  251.2\n",
            "    area (worst):                         185.2  4254.0\n",
            "    smoothness (worst):                   0.071  0.223\n",
            "    compactness (worst):                  0.027  1.058\n",
            "    concavity (worst):                    0.0    1.252\n",
            "    concave points (worst):               0.0    0.291\n",
            "    symmetry (worst):                     0.156  0.664\n",
            "    fractal dimension (worst):            0.055  0.208\n",
            "    ===================================== ====== ======\n",
            "\n",
            "    :Missing Attribute Values: None\n",
            "\n",
            "    :Class Distribution: 212 - Malignant, 357 - Benign\n",
            "\n",
            "    :Creator:  Dr. William H. Wolberg, W. Nick Street, Olvi L. Mangasarian\n",
            "\n",
            "    :Donor: Nick Street\n",
            "\n",
            "    :Date: November, 1995\n",
            "\n",
            "This is a copy of UCI ML Breast Cancer Wisconsin (Diagnostic) datasets.\n",
            "https://goo.gl/U2Uwz2\n",
            "\n",
            "Features are computed from a digitized image of a fine needle\n",
            "aspirate (FNA) of a breast mass.  They describe\n",
            "characteristics of the cell nuclei present in the image.\n",
            "\n",
            "Separating plane described above was obtained using\n",
            "Multisurface Method-Tree (MSM-T) [K. P. Bennett, \"Decision Tree\n",
            "Construction Via Linear Programming.\" Proceedings of the 4th\n",
            "Midwest Artificial Intelligence and Cognitive Science Society,\n",
            "pp. 97-101, 1992], a classification method which uses linear\n",
            "programming to construct a decision tree.  Relevant features\n",
            "were selected using an exhaustive search in the space of 1-4\n",
            "features and 1-3 separating planes.\n",
            "\n",
            "The actual linear program used to obtain the separating plane\n",
            "in the 3-dimensional space is that described in:\n",
            "[K. P. Bennett and O. L. Mangasarian: \"Robust Linear\n",
            "Programming Discrimination of Two Linearly Inseparable Sets\",\n",
            "Optimization Methods and Software 1, 1992, 23-34].\n",
            "\n",
            "This database is also available through the UW CS ftp server:\n",
            "\n",
            "ftp ftp.cs.wisc.edu\n",
            "cd math-prog/cpo-dataset/machine-learn/WDBC/\n",
            "\n",
            ".. topic:: References\n",
            "\n",
            "   - W.N. Street, W.H. Wolberg and O.L. Mangasarian. Nuclear feature extraction \n",
            "     for breast tumor diagnosis. IS&T/SPIE 1993 International Symposium on \n",
            "     Electronic Imaging: Science and Technology, volume 1905, pages 861-870,\n",
            "     San Jose, CA, 1993.\n",
            "   - O.L. Mangasarian, W.N. Street and W.H. Wolberg. Breast cancer diagnosis and \n",
            "     prognosis via linear programming. Operations Research, 43(4), pages 570-577, \n",
            "     July-August 1995.\n",
            "   - W.H. Wolberg, W.N. Street, and O.L. Mangasarian. Machine learning techniques\n",
            "     to diagnose breast cancer from fine-needle aspirates. Cancer Letters 77 (1994) \n",
            "     163-171.\n"
          ]
        }
      ],
      "source": [
        "breast_cancer = sklearn.datasets.load_breast_cancer()\n",
        "print(breast_cancer.DESCR)"
      ]
    },
    {
      "cell_type": "code",
      "execution_count": 47,
      "metadata": {
        "id": "J-7DLsDwt7vD"
      },
      "outputs": [],
      "source": [
        "x = breast_cancer.data\n",
        "y = breast_cancer.target\n",
        "x_train, x_test, y_train, y_test = train_test_split(x, y, random_state=42)"
      ]
    },
    {
      "cell_type": "code",
      "execution_count": 48,
      "metadata": {
        "id": "51JnXVRLU4PP"
      },
      "outputs": [],
      "source": [
        "from lightgbm import LGBMClassifier\n",
        "\n",
        "dt = DecisionTreeClassifier(random_state=42)\n",
        "rf = RandomForestClassifier(random_state=42)\n",
        "lgbm = LGBMClassifier(random_state=42)\n",
        "svc = SVC(random_state=42)\n",
        "b = BaggingClassifier(estimator=SVC(), random_state=42)"
      ]
    },
    {
      "cell_type": "code",
      "execution_count": 49,
      "metadata": {
        "id": "klJrQ2yEXq7V"
      },
      "outputs": [],
      "source": [
        "dt.fit(x_train, y_train)\n",
        "rf.fit(x_train, y_train)\n",
        "lgbm.fit(x_train, y_train)\n",
        "svc.fit(x_train, y_train)\n",
        "b.fit(x_train, y_train)\n",
        "\n",
        "p_dt = dt.predict(x_test)\n",
        "p_rf = rf.predict(x_test)\n",
        "p_lgbm = lgbm.predict(x_test)\n",
        "p_svc = svc.predict(x_test)\n",
        "p_b = b.predict(x_test)"
      ]
    },
    {
      "cell_type": "code",
      "execution_count": 50,
      "metadata": {
        "colab": {
          "base_uri": "https://localhost:8080/"
        },
        "id": "IoTsA3TUYcWn",
        "outputId": "6e58ea6f-531a-4ccb-d89c-209005f3b1f2"
      },
      "outputs": [
        {
          "output_type": "stream",
          "name": "stdout",
          "text": [
            "matthews_corrcoef\n",
            "DecisionTreeClassifier:  0.8963356530877563\n",
            "RandomForestClassifier:  0.925445136208044\n",
            "LGBMClassifier:  0.8963356530877563\n",
            "SVC:  0.8965050191922527\n",
            "BaggingClassifier:  0.8965050191922527\n"
          ]
        }
      ],
      "source": [
        "from sklearn.metrics import matthews_corrcoef\n",
        "\n",
        "print(\"matthews_corrcoef\")\n",
        "print(\"DecisionTreeClassifier: \", matthews_corrcoef(y_test, p_dt))\n",
        "print(\"RandomForestClassifier: \", matthews_corrcoef(y_test, p_rf))\n",
        "print(\"LGBMClassifier: \", matthews_corrcoef(y_test, p_lgbm))\n",
        "print(\"SVC: \", matthews_corrcoef(y_test, p_svc))\n",
        "print(\"BaggingClassifier: \", matthews_corrcoef(y_test, p_b))"
      ]
    },
    {
      "cell_type": "code",
      "execution_count": 51,
      "metadata": {
        "id": "VRuQ29h0Ujqu"
      },
      "outputs": [],
      "source": [
        "def bootstrap_metric(x, y, metric_fn, samples_cnt=1000, alpha=0.05, random_state=42):\n",
        "    size = len(x)\n",
        "    np.random.seed(random_state)\n",
        "    b_metric = np.zeros(samples_cnt)\n",
        "    for it in range(samples_cnt):\n",
        "        poses = np.random.choice(x.shape[0], size=x.shape[0], replace=True)\n",
        "\n",
        "        x_boot = x[poses]\n",
        "        y_boot = y[poses]\n",
        "\n",
        "        m_val = metric_fn(x_boot, y_boot)\n",
        "        b_metric[it] = m_val\n",
        "\n",
        "    return b_metric"
      ]
    },
    {
      "cell_type": "code",
      "execution_count": 52,
      "metadata": {
        "colab": {
          "base_uri": "https://localhost:8080/"
        },
        "id": "1wuTqC9fZlOu",
        "outputId": "b367ee08-41a2-48f4-e1b9-08056f780732"
      },
      "outputs": [
        {
          "output_type": "stream",
          "name": "stdout",
          "text": [
            "DecisionTreeClassifier mcc 90%-ci: [0.82974532 0.95585337]\n",
            "RandomForestClassifier mcc 90%-ci: [0.86842892 0.97140837]\n",
            "LGBMClassifier mcc 90%-ci: [0.82950665 0.95459809]\n",
            "SVC mcc 90%-ci: [0.83030554 0.95532067]\n",
            "BaggingClassifier mcc 90%-ci: [0.83030554 0.95532067]\n"
          ]
        }
      ],
      "source": [
        "boot_score_dt = bootstrap_metric(\n",
        "    y_test,\n",
        "    p_dt,\n",
        "    metric_fn=lambda x, y: matthews_corrcoef(y_true=x, y_pred=y),\n",
        ")\n",
        "boot_score_rf = bootstrap_metric(\n",
        "    y_test,\n",
        "    p_rf,\n",
        "    metric_fn=lambda x, y: matthews_corrcoef(y_true=x, y_pred=y),\n",
        ")\n",
        "boot_score_lgbm = bootstrap_metric(\n",
        "    y_test,\n",
        "    p_lgbm,\n",
        "    metric_fn=lambda x, y: matthews_corrcoef(y_true=x, y_pred=y),\n",
        ")\n",
        "boot_score_svc = bootstrap_metric(\n",
        "    y_test,\n",
        "    p_svc,\n",
        "    metric_fn=lambda x, y: matthews_corrcoef(y_true=x, y_pred=y),\n",
        ")\n",
        "boot_score_b = bootstrap_metric(\n",
        "    y_test,\n",
        "    p_b,\n",
        "    metric_fn=lambda x, y: matthews_corrcoef(y_true=x, y_pred=y),\n",
        ")\n",
        "alpha = 0.10\n",
        "print(\n",
        "    \"DecisionTreeClassifier mcc 90%-ci:\",\n",
        "    np.quantile(boot_score_dt, q=[alpha / 2, 1 - alpha / 2]),\n",
        ")\n",
        "print(\n",
        "    \"RandomForestClassifier mcc 90%-ci:\",\n",
        "    np.quantile(boot_score_rf, q=[alpha / 2, 1 - alpha / 2]),\n",
        ")\n",
        "print(\n",
        "    \"LGBMClassifier mcc 90%-ci:\",\n",
        "    np.quantile(boot_score_lgbm, q=[alpha / 2, 1 - alpha / 2]),\n",
        ")\n",
        "print(\n",
        "    \"SVC mcc 90%-ci:\",\n",
        "    np.quantile(boot_score_svc, q=[alpha / 2, 1 - alpha / 2]),\n",
        ")\n",
        "print(\n",
        "    \"BaggingClassifier mcc 90%-ci:\",\n",
        "    np.quantile(boot_score_b, q=[alpha / 2, 1 - alpha / 2]),\n",
        ")"
      ]
    },
    {
      "cell_type": "code",
      "execution_count": 53,
      "metadata": {
        "colab": {
          "base_uri": "https://localhost:8080/",
          "height": 561
        },
        "id": "R3ldLcCwdbpA",
        "outputId": "85746002-6481-41bd-e924-05fc3b5f12f6"
      },
      "outputs": [
        {
          "output_type": "display_data",
          "data": {
            "text/plain": [
              "<Figure size 1600x600 with 1 Axes>"
            ],
            "image/png": "[encoded data removed]"
          },
          "metadata": {}
        }
      ],
      "source": [
        "plt.figure(figsize=(16, 6))\n",
        "base_models = [\"DT\", \"RF\", \"LGBM\", \"SVC\", \"Bagging\"]\n",
        "result_arrays = [\n",
        "    boot_score_dt,\n",
        "    boot_score_rf,\n",
        "    boot_score_lgbm,\n",
        "    boot_score_svc,\n",
        "    boot_score_b,\n",
        "]\n",
        "\n",
        "dfs = []\n",
        "for i, res in enumerate(result_arrays):\n",
        "    df = pd.DataFrame(res, columns=[\"MCC\"])\n",
        "    df[\"base_model\"] = base_models[i]\n",
        "    dfs.append(df)\n",
        "\n",
        "sns.boxplot(data=pd.concat(dfs), y=\"MCC\", x=\"base_model\")\n",
        "plt.xlabel(\"Models MCC\", size=20)\n",
        "plt.ylabel(\"MCC\", size=20)\n",
        "plt.tick_params(axis=\"both\", which=\"major\", labelsize=14)\n",
        "plt.show()"
      ]
    },
    {
      "cell_type": "markdown",
      "metadata": {
        "id": "B82oli85t7vE"
      },
      "source": [
        "Сделайте вывод о том, какие модели работают лучше.\n",
        "\n",
        "**Напишите вывод**"
      ]
    },
    {
      "cell_type": "markdown",
      "source": [
        "Случайный лес сработал лучше всего по метрике matthews_corrcoef"
      ],
      "metadata": {
        "id": "jUZOx3O8OYFu"
      }
    },
    {
      "cell_type": "markdown",
      "metadata": {
        "id": "uQWdwPL4t7vE"
      },
      "source": [
        "## Формат результата"
      ]
    },
    {
      "cell_type": "markdown",
      "metadata": {
        "id": "ZsCaJahmt7vE"
      },
      "source": [
        "График с демонстрацией корреляции Мэтьюса для следующих моделей:\n",
        "\n",
        " - `DecisionTreeClassifier`\n",
        " -`RandomForestClassifier`\n",
        " -`LigthGBMClassifier`\n",
        " -`SVC`\n",
        " -`BaggingClassifier` с базовым класификатором - SVC .\n",
        "\n",
        "\n",
        "Пример графика:\n",
        "\n",
        "<img src =\"https://edunet.kea.su/repo/EduNet-web_dependencies/Exercises/EX03/result_2_task_ex03.png\" width=\"600\">"
      ]
    },
    {
      "cell_type": "markdown",
      "metadata": {
        "id": "899PDVYLt7vE"
      },
      "source": [
        "# Задание 2. Обучение и подбор параметров"
      ]
    },
    {
      "cell_type": "markdown",
      "metadata": {
        "id": "zwqxVFyCt7vE"
      },
      "source": [
        "Загрузим датасет с рецептами (состав блюд и дополнительные данные о них) и рейтинге рецептов."
      ]
    },
    {
      "cell_type": "code",
      "execution_count": 54,
      "metadata": {
        "colab": {
          "base_uri": "https://localhost:8080/"
        },
        "id": "XyEEIDBSt7vF",
        "outputId": "6b4e8dbe-7366-4ec9-b808-070eb1b03986"
      },
      "outputs": [
        {
          "output_type": "stream",
          "name": "stdout",
          "text": [
            "   calories  protein   fat  sodium  cakeweek\n",
            "0     426.0     30.0   7.0   559.0       0.0\n",
            "1     403.0     18.0  23.0  1439.0       0.0\n",
            "2     165.0      6.0   7.0   165.0       0.0\n",
            "3     547.0     20.0  32.0   452.0       0.0\n",
            "4     948.0     19.0  79.0  1042.0       0.0\n"
          ]
        }
      ],
      "source": [
        "recipies = pd.read_csv(\"recipes.csv\")\n",
        "print(recipies.iloc[:, 0:5].head())"
      ]
    },
    {
      "cell_type": "code",
      "execution_count": 55,
      "metadata": {
        "id": "LNVuQ6Ent7vF"
      },
      "outputs": [],
      "source": [
        "recipies = recipies.loc[pd.isna(recipies).sum(axis=1)==0, :] # remove na\n",
        "y = recipies['rating']\n",
        "x = recipies.drop([\"rating\"], axis=1)\n",
        "x_train_all, x_test, y_train_all, y_test = train_test_split(x.values, y.values, train_size=0.7, random_state=42)"
      ]
    },
    {
      "cell_type": "markdown",
      "metadata": {
        "id": "zBtTA12ot7vF"
      },
      "source": [
        "Постройте модель, предсказывающую рейтинг рецепта по всем имеющимся признакам. Для анализа качества моделей используйте метрику `MSE`.\n",
        "\n",
        "Выберите 2 модели &mdash; один случайный лес и один бустинг из приведенных ниже.\n",
        "\n",
        "1. `xgboost.XGBRegressor`\n",
        "2. `xgboost.XGBRFRegressor` (случайный лес от xgboost)\n",
        "3. `lightgbm.LGBMRegressor`\n",
        "4. `lightgbm.LGBMRegressor(boosting_type=\"rf\")` (случайный лес от lightgbm)\n",
        "5. `catboost.CatBoostRegressor`\n",
        "\n",
        "Кроме этого, используйте так же\n",
        "`TabNetRegressor`. Установите число эпох (`max_epochs`, параметр функции `fit`) равным 30.\n",
        "\n",
        "Для первых двух моделей попытайтесь оптимизировать их параметры, чтобы получить хорошее качество.\n",
        "\n",
        "Сравните качество полученных моделей."
      ]
    },
    {
      "cell_type": "code",
      "execution_count": 56,
      "metadata": {
        "colab": {
          "base_uri": "https://localhost:8080/"
        },
        "id": "HhmEuvDXyUM0",
        "outputId": "24b7a212-c887-4084-dafb-22b2966278a7"
      },
      "outputs": [
        {
          "output_type": "stream",
          "name": "stdout",
          "text": [
            "{'learning_rate': 0.1, 'max_depth': 13, 'min_child_samples': 1, 'n_estimators': 51, 'num_leaves': 20}\n"
          ]
        }
      ],
      "source": [
        "lgbmr = lightgbm.LGBMRegressor(objective='regression', random_state=42)\n",
        "\n",
        "param_grid0 = {\n",
        "    'num_leaves': np.arange(10, 60, 10),\n",
        "    'max_depth': np.arange(1, 15),\n",
        "    'learning_rate': [0.01, 0.1],\n",
        "    'n_estimators': np.arange(1, 190, 50),\n",
        "    'min_child_samples': np.arange(1, 15),\n",
        "}\n",
        "\n",
        "search0 = GridSearchCV(lgbmr, param_grid0, n_jobs=-1, cv=5, refit=True, scoring='neg_mean_squared_error')\n",
        "search0.fit(x_train_all, y_train_all)\n",
        "print(search0.best_params_)"
      ]
    },
    {
      "cell_type": "code",
      "execution_count": 57,
      "metadata": {
        "id": "qSREBifO1FKA",
        "colab": {
          "base_uri": "https://localhost:8080/"
        },
        "outputId": "1f4697f7-c1ea-4e48-9b19-bbb01bc76a66"
      },
      "outputs": [
        {
          "output_type": "stream",
          "name": "stdout",
          "text": [
            "{'learning_rate': 1, 'max_depth': 7, 'max_leaves': 50, 'n_estimators': 151}\n"
          ]
        }
      ],
      "source": [
        "xgbrf = xgboost.XGBRFRegressor(random_state=42)\n",
        "\n",
        "param_grid1 = {\n",
        "    'max_depth': np.arange(1, 15),\n",
        "    'max_leaves': np.arange(10, 60, 10),\n",
        "    'learning_rate': [0.01, 0.1, 1],\n",
        "    'n_estimators': np.arange(1, 190, 50),\n",
        "}\n",
        "\n",
        "search1 = GridSearchCV(xgbrf, param_grid1, n_jobs=-1, cv=5, refit=True, scoring='neg_mean_squared_error')\n",
        "search1.fit(x_train_all, y_train_all)\n",
        "print(search1.best_params_)"
      ]
    },
    {
      "cell_type": "code",
      "execution_count": 58,
      "metadata": {
        "colab": {
          "base_uri": "https://localhost:8080/"
        },
        "id": "9MlCcxVVt7vF",
        "outputId": "04067840-c92e-4188-c729-d8e06629ca9f"
      },
      "outputs": [
        {
          "output_type": "stream",
          "name": "stdout",
          "text": [
            "MSE LGBMR:  1.5354738887931243\n",
            "MSE XGBRFR:  1.5391783190444213\n",
            "RMSE LGBMR:  1.2391424005307559\n",
            "RMSE XGBRFR:  1.2406362557351052\n"
          ]
        }
      ],
      "source": [
        "lgbmr = lightgbm.LGBMRegressor(objective='regression', learning_rate=0.1, max_depth=13, min_child_samples=1, n_estimators=51, num_leaves=20, random_state=42)\n",
        "lgbmr.fit(x_train_all, y_train_all)\n",
        "p_lgbmr = lgbmr.predict(x_test)\n",
        "\n",
        "xgbrf = xgboost.XGBRFRegressor(learning_rate=1, max_depth=7, max_leaves=50, n_estimators=151, random_state=42)\n",
        "xgbrf.fit(x_train_all, y_train_all)\n",
        "p_xgbrf = xgbrf.predict(x_test)\n",
        "\n",
        "print(\"MSE LGBMR: \", mean_squared_error(y_test, p_lgbmr))\n",
        "print(\"MSE XGBRFR: \", mean_squared_error(y_test, p_xgbrf))\n",
        "print(\"RMSE LGBMR: \", mean_squared_error(y_test, p_lgbmr, squared=False))\n",
        "print(\"RMSE XGBRFR: \", mean_squared_error(y_test, p_xgbrf, squared=False))"
      ]
    },
    {
      "cell_type": "code",
      "execution_count": 59,
      "metadata": {
        "colab": {
          "base_uri": "https://localhost:8080/"
        },
        "id": "-nTh6pJMmjiD",
        "outputId": "e21d1a3e-6df9-402e-debc-73905a83cc2b"
      },
      "outputs": [
        {
          "output_type": "stream",
          "name": "stderr",
          "text": [
            "/usr/local/lib/python3.10/dist-packages/pytorch_tabnet/abstract_model.py:82: UserWarning: Device used : cpu\n",
            "  warnings.warn(f\"Device used : {self.device}\")\n",
            "/usr/local/lib/python3.10/dist-packages/pytorch_tabnet/abstract_model.py:687: UserWarning: No early stopping will be performed, last training weights will be used.\n",
            "  warnings.warn(wrn_msg)\n"
          ]
        },
        {
          "output_type": "stream",
          "name": "stdout",
          "text": [
            "epoch 0  | loss: 8.55163 |  0:00:00s\n",
            "epoch 1  | loss: 3.70914 |  0:00:01s\n",
            "epoch 2  | loss: 2.56407 |  0:00:02s\n",
            "epoch 3  | loss: 2.23444 |  0:00:03s\n",
            "epoch 4  | loss: 1.86111 |  0:00:03s\n",
            "epoch 5  | loss: 1.7512  |  0:00:04s\n",
            "epoch 6  | loss: 1.72731 |  0:00:04s\n",
            "epoch 7  | loss: 1.68901 |  0:00:05s\n",
            "epoch 8  | loss: 1.66025 |  0:00:05s\n",
            "epoch 9  | loss: 1.66505 |  0:00:06s\n",
            "epoch 10 | loss: 1.64722 |  0:00:06s\n",
            "epoch 11 | loss: 1.6494  |  0:00:07s\n",
            "epoch 12 | loss: 1.65986 |  0:00:07s\n",
            "epoch 13 | loss: 1.6396  |  0:00:08s\n",
            "epoch 14 | loss: 1.64078 |  0:00:08s\n",
            "epoch 15 | loss: 1.62351 |  0:00:09s\n",
            "epoch 16 | loss: 1.62486 |  0:00:09s\n",
            "epoch 17 | loss: 1.59909 |  0:00:10s\n",
            "epoch 18 | loss: 1.58348 |  0:00:10s\n",
            "epoch 19 | loss: 1.60819 |  0:00:11s\n",
            "epoch 20 | loss: 1.61733 |  0:00:11s\n",
            "epoch 21 | loss: 1.62046 |  0:00:12s\n",
            "epoch 22 | loss: 1.61225 |  0:00:12s\n",
            "epoch 23 | loss: 1.62325 |  0:00:13s\n",
            "epoch 24 | loss: 1.58215 |  0:00:13s\n",
            "epoch 25 | loss: 1.62376 |  0:00:14s\n",
            "epoch 26 | loss: 1.58939 |  0:00:15s\n",
            "epoch 27 | loss: 1.62058 |  0:00:16s\n",
            "epoch 28 | loss: 1.59973 |  0:00:16s\n",
            "epoch 29 | loss: 1.59818 |  0:00:17s\n",
            "MSE TabNetR:  1.6632445496409536\n",
            "RMSE TabNetR:  1.2896683874705752\n"
          ]
        }
      ],
      "source": [
        "model = TabNetRegressor()\n",
        "model.fit(X_train=x_train_all, y_train=y_train_all.reshape(-1, 1), max_epochs=30)\n",
        "y_pred = model.predict(x_test)\n",
        "\n",
        "print(\"MSE TabNetR: \", mean_squared_error(y_test, y_pred))\n",
        "print(\"RMSE TabNetR: \", mean_squared_error(y_test, y_pred, squared=False))"
      ]
    },
    {
      "cell_type": "markdown",
      "metadata": {
        "id": "VdrWJiBit7vF"
      },
      "source": [
        "Сравните качество моделей с гиперпараметрами, подобранными вручную и бустинга `LightGBM` с гиперпараметрами, оптимизированными автоматически с помощью фреймворка [`optuna`](https://optuna.org/).\n",
        "\n",
        "`optuna` используется для подбора гиперпараметров различных моделей машинного обучения и встретится в этом курсе ещё неоднократно. В частности для оптимизации градиентного бустинга `LightGBM` используется функция `optuna.integration.lightgbm.LightGBMTunerCV`. Другие функции можно найти по [ссылке](https://optuna.readthedocs.io/en/stable/reference/integration.html).\n",
        "\n",
        "Используйте параметры, полученные при оптимизации модели с помошью `optuna.integration.lightgbm.LightGBMTunerCV` для обучения модели `LightGBM`.\n",
        "\n",
        "Сравните качество полученных моделей."
      ]
    },
    {
      "cell_type": "code",
      "execution_count": 60,
      "metadata": {
        "id": "ZkBKlL_Ht7vF"
      },
      "outputs": [],
      "source": [
        "?optuna.integration.lightgbm.LightGBMTunerCV"
      ]
    },
    {
      "cell_type": "code",
      "execution_count": 61,
      "metadata": {
        "colab": {
          "base_uri": "https://localhost:8080/"
        },
        "id": "X-CZKvott7vG",
        "outputId": "92490c26-595d-4dde-9d3c-595dd1906ff4"
      },
      "outputs": [
        {
          "output_type": "stream",
          "name": "stderr",
          "text": [
            "[I 2023-12-02 13:58:50,514] A new study created in memory with name: no-name-8dd38610-3290-4757-b8a6-be1876b46ad3\n",
            "feature_fraction, val_score: 1.310651:  14%|#4        | 1/7 [00:04<00:27,  4.59s/it][I 2023-12-02 13:58:55,125] Trial 0 finished with value: 1.310651490997646 and parameters: {'feature_fraction': 0.8}. Best is trial 0 with value: 1.310651490997646.\n",
            "feature_fraction, val_score: 1.299997:  29%|##8       | 2/7 [00:08<00:21,  4.21s/it][I 2023-12-02 13:58:59,060] Trial 1 finished with value: 1.2999968162666442 and parameters: {'feature_fraction': 0.6}. Best is trial 1 with value: 1.2999968162666442.\n",
            "feature_fraction, val_score: 1.299997:  43%|####2     | 3/7 [00:15<00:22,  5.60s/it][I 2023-12-02 13:59:06,322] Trial 2 finished with value: 1.308219999565433 and parameters: {'feature_fraction': 0.5}. Best is trial 1 with value: 1.2999968162666442.\n",
            "feature_fraction, val_score: 1.299997:  57%|#####7    | 4/7 [00:19<00:14,  4.92s/it][I 2023-12-02 13:59:10,211] Trial 3 finished with value: 1.3083588094019984 and parameters: {'feature_fraction': 0.7}. Best is trial 1 with value: 1.2999968162666442.\n",
            "feature_fraction, val_score: 1.299997:  71%|#######1  | 5/7 [00:23<00:09,  4.63s/it][I 2023-12-02 13:59:14,319] Trial 4 finished with value: 1.3113053859277706 and parameters: {'feature_fraction': 0.8999999999999999}. Best is trial 1 with value: 1.2999968162666442.\n",
            "feature_fraction, val_score: 1.298550:  86%|########5 | 6/7 [00:30<00:05,  5.45s/it][I 2023-12-02 13:59:21,366] Trial 5 finished with value: 1.2985502420130715 and parameters: {'feature_fraction': 0.4}. Best is trial 5 with value: 1.2985502420130715.\n",
            "feature_fraction, val_score: 1.298550: 100%|##########| 7/7 [00:35<00:00,  5.09s/it][I 2023-12-02 13:59:25,708] Trial 6 finished with value: 1.315577076701306 and parameters: {'feature_fraction': 1.0}. Best is trial 5 with value: 1.2985502420130715.\n",
            "feature_fraction, val_score: 1.298550: 100%|##########| 7/7 [00:35<00:00,  5.03s/it]\n",
            "num_leaves, val_score: 1.298550:   5%|5         | 1/20 [00:13<04:15, 13.44s/it][I 2023-12-02 13:59:39,174] Trial 7 finished with value: 1.385075983550747 and parameters: {'num_leaves': 133}. Best is trial 7 with value: 1.385075983550747.\n",
            "num_leaves, val_score: 1.298550:  10%|#         | 2/20 [00:30<04:36, 15.34s/it][I 2023-12-02 13:59:55,851] Trial 8 finished with value: 1.434746419236542 and parameters: {'num_leaves': 194}. Best is trial 7 with value: 1.385075983550747.\n",
            "num_leaves, val_score: 1.298550:  15%|#5        | 3/20 [00:44<04:14, 14.95s/it][I 2023-12-02 14:00:10,343] Trial 9 finished with value: 1.4187746327013548 and parameters: {'num_leaves': 156}. Best is trial 7 with value: 1.385075983550747.\n",
            "num_leaves, val_score: 1.264646:  20%|##        | 4/20 [00:47<02:41, 10.08s/it][I 2023-12-02 14:00:12,953] Trial 10 finished with value: 1.2646463227695435 and parameters: {'num_leaves': 9}. Best is trial 10 with value: 1.2646463227695435.\n",
            "num_leaves, val_score: 1.264646:  25%|##5       | 5/20 [00:51<02:01,  8.11s/it][I 2023-12-02 14:00:17,566] Trial 11 finished with value: 1.2787620046686545 and parameters: {'num_leaves': 12}. Best is trial 10 with value: 1.2646463227695435.\n",
            "num_leaves, val_score: 1.247043:  30%|###       | 6/20 [00:52<01:19,  5.71s/it][I 2023-12-02 14:00:18,622] Trial 12 finished with value: 1.2470430166716517 and parameters: {'num_leaves': 3}. Best is trial 12 with value: 1.2470430166716517.\n",
            "num_leaves, val_score: 1.247043:  35%|###5      | 7/20 [00:54<00:57,  4.42s/it][I 2023-12-02 14:00:20,394] Trial 13 finished with value: 1.267183931565163 and parameters: {'num_leaves': 9}. Best is trial 12 with value: 1.2470430166716517.\n",
            "num_leaves, val_score: 1.247043:  40%|####      | 8/20 [01:04<01:13,  6.12s/it][I 2023-12-02 14:00:30,142] Trial 14 finished with value: 1.3389461923201473 and parameters: {'num_leaves': 65}. Best is trial 12 with value: 1.2470430166716517.\n",
            "num_leaves, val_score: 1.247043:  45%|####5     | 9/20 [01:11<01:10,  6.39s/it][I 2023-12-02 14:00:37,130] Trial 15 finished with value: 1.3438005778411886 and parameters: {'num_leaves': 73}. Best is trial 12 with value: 1.2470430166716517.\n",
            "num_leaves, val_score: 1.247043:  50%|#####     | 10/20 [01:21<01:15,  7.51s/it][I 2023-12-02 14:00:47,131] Trial 16 finished with value: 1.3274903212063522 and parameters: {'num_leaves': 66}. Best is trial 12 with value: 1.2470430166716517.\n",
            "num_leaves, val_score: 1.247043:  55%|#####5    | 11/20 [01:40<01:38, 10.99s/it][I 2023-12-02 14:01:06,011] Trial 17 finished with value: 1.4473477649799311 and parameters: {'num_leaves': 253}. Best is trial 12 with value: 1.2470430166716517.\n",
            "num_leaves, val_score: 1.246332:  60%|######    | 12/20 [01:41<01:03,  7.95s/it][I 2023-12-02 14:01:07,029] Trial 18 finished with value: 1.2463323652232918 and parameters: {'num_leaves': 3}. Best is trial 18 with value: 1.2463323652232918.\n",
            "num_leaves, val_score: 1.246332:  65%|######5   | 13/20 [01:49<00:56,  8.09s/it][I 2023-12-02 14:01:15,434] Trial 19 finished with value: 1.3141740011402536 and parameters: {'num_leaves': 47}. Best is trial 18 with value: 1.2463323652232918.\n",
            "num_leaves, val_score: 1.246332:  70%|#######   | 14/20 [02:02<00:56,  9.42s/it][I 2023-12-02 14:01:27,919] Trial 20 finished with value: 1.3790657112843145 and parameters: {'num_leaves': 113}. Best is trial 18 with value: 1.2463323652232918.\n",
            "num_leaves, val_score: 1.246332:  75%|#######5  | 15/20 [02:03<00:34,  6.89s/it][I 2023-12-02 14:01:28,965] Trial 21 finished with value: 1.2470015506912386 and parameters: {'num_leaves': 3}. Best is trial 18 with value: 1.2463323652232918.\n",
            "num_leaves, val_score: 1.246332:  80%|########  | 16/20 [02:07<00:24,  6.01s/it][I 2023-12-02 14:01:32,919] Trial 22 finished with value: 1.2988062697767577 and parameters: {'num_leaves': 34}. Best is trial 18 with value: 1.2463323652232918.\n",
            "num_leaves, val_score: 1.246249:  85%|########5 | 17/20 [02:08<00:13,  4.52s/it][I 2023-12-02 14:01:33,958] Trial 23 finished with value: 1.2462494251143905 and parameters: {'num_leaves': 3}. Best is trial 23 with value: 1.2462494251143905.\n",
            "num_leaves, val_score: 1.246249:  90%|######### | 18/20 [02:15<00:10,  5.47s/it][I 2023-12-02 14:01:41,660] Trial 24 finished with value: 1.3061831121758651 and parameters: {'num_leaves': 39}. Best is trial 23 with value: 1.2462494251143905.\n",
            "num_leaves, val_score: 1.246249:  95%|#########5| 19/20 [02:24<00:06,  6.26s/it][I 2023-12-02 14:01:49,762] Trial 25 finished with value: 1.3497823354883047 and parameters: {'num_leaves': 93}. Best is trial 23 with value: 1.2462494251143905.\n",
            "num_leaves, val_score: 1.246249: 100%|##########| 20/20 [02:31<00:00,  6.59s/it][I 2023-12-02 14:01:57,120] Trial 26 finished with value: 1.3074340675463167 and parameters: {'num_leaves': 35}. Best is trial 23 with value: 1.2462494251143905.\n",
            "num_leaves, val_score: 1.246249: 100%|##########| 20/20 [02:31<00:00,  7.57s/it]\n",
            "bagging, val_score: 1.246231:  10%|#         | 1/10 [00:01<00:13,  1.47s/it][I 2023-12-02 14:01:58,604] Trial 27 finished with value: 1.2462308899866197 and parameters: {'bagging_fraction': 0.4411931455913236, 'bagging_freq': 4}. Best is trial 27 with value: 1.2462308899866197.\n",
            "bagging, val_score: 1.245947:  20%|##        | 2/10 [00:02<00:11,  1.45s/it][I 2023-12-02 14:02:00,033] Trial 28 finished with value: 1.24594687567875 and parameters: {'bagging_fraction': 0.4122887035322817, 'bagging_freq': 4}. Best is trial 28 with value: 1.24594687567875.\n",
            "bagging, val_score: 1.245947:  30%|###       | 3/10 [00:04<00:10,  1.46s/it][I 2023-12-02 14:02:01,512] Trial 29 finished with value: 1.2473150380844844 and parameters: {'bagging_fraction': 0.431749756156285, 'bagging_freq': 4}. Best is trial 28 with value: 1.24594687567875.\n",
            "bagging, val_score: 1.245947:  40%|####      | 4/10 [00:05<00:08,  1.44s/it][I 2023-12-02 14:02:02,921] Trial 30 finished with value: 1.2463443511425987 and parameters: {'bagging_fraction': 0.4183982602210147, 'bagging_freq': 4}. Best is trial 28 with value: 1.24594687567875.\n",
            "bagging, val_score: 1.244803:  50%|#####     | 5/10 [00:07<00:07,  1.42s/it][I 2023-12-02 14:02:04,311] Trial 31 finished with value: 1.2448031770627634 and parameters: {'bagging_fraction': 0.4151759684098873, 'bagging_freq': 5}. Best is trial 31 with value: 1.2448031770627634.\n",
            "bagging, val_score: 1.244803:  60%|######    | 6/10 [00:11<00:09,  2.38s/it][I 2023-12-02 14:02:08,541] Trial 32 finished with value: 1.2529287278143304 and parameters: {'bagging_fraction': 0.41188592382352285, 'bagging_freq': 5}. Best is trial 31 with value: 1.2448031770627634.\n",
            "bagging, val_score: 1.244803:  70%|#######   | 7/10 [00:13<00:06,  2.21s/it][I 2023-12-02 14:02:10,408] Trial 33 finished with value: 1.247951862783535 and parameters: {'bagging_fraction': 0.41611920323790946, 'bagging_freq': 6}. Best is trial 31 with value: 1.2448031770627634.\n",
            "bagging, val_score: 1.244803:  80%|########  | 8/10 [00:14<00:04,  2.03s/it][I 2023-12-02 14:02:12,054] Trial 34 finished with value: 1.246192043268513 and parameters: {'bagging_fraction': 0.6915904671405159, 'bagging_freq': 2}. Best is trial 31 with value: 1.2448031770627634.\n",
            "bagging, val_score: 1.244803:  90%|######### | 9/10 [00:16<00:01,  1.89s/it][I 2023-12-02 14:02:13,633] Trial 35 finished with value: 1.2473921546059916 and parameters: {'bagging_fraction': 0.7767242026359973, 'bagging_freq': 1}. Best is trial 31 with value: 1.2448031770627634.\n",
            "bagging, val_score: 1.244803: 100%|##########| 10/10 [00:18<00:00,  1.81s/it][I 2023-12-02 14:02:15,263] Trial 36 finished with value: 1.2491476979885774 and parameters: {'bagging_fraction': 0.6156360106962735, 'bagging_freq': 2}. Best is trial 31 with value: 1.2448031770627634.\n",
            "bagging, val_score: 1.244803: 100%|##########| 10/10 [00:18<00:00,  1.81s/it]\n",
            "feature_fraction_stage2, val_score: 1.244803:  33%|###3      | 1/3 [00:01<00:02,  1.41s/it][I 2023-12-02 14:02:16,694] Trial 37 finished with value: 1.2469910516476344 and parameters: {'feature_fraction': 0.41600000000000004}. Best is trial 37 with value: 1.2469910516476344.\n",
            "feature_fraction_stage2, val_score: 1.244803:  67%|######6   | 2/3 [00:02<00:01,  1.42s/it][I 2023-12-02 14:02:18,110] Trial 38 finished with value: 1.251670877025827 and parameters: {'feature_fraction': 0.48000000000000004}. Best is trial 37 with value: 1.2469910516476344.\n",
            "feature_fraction_stage2, val_score: 1.244803: 100%|##########| 3/3 [00:04<00:00,  1.58s/it][I 2023-12-02 14:02:19,875] Trial 39 finished with value: 1.2492420702149953 and parameters: {'feature_fraction': 0.44800000000000006}. Best is trial 37 with value: 1.2469910516476344.\n",
            "feature_fraction_stage2, val_score: 1.244803: 100%|##########| 3/3 [00:04<00:00,  1.53s/it]\n",
            "regularization_factors, val_score: 1.244803:   5%|5         | 1/20 [00:04<01:24,  4.45s/it][I 2023-12-02 14:02:24,338] Trial 40 finished with value: 1.2473170115142502 and parameters: {'lambda_l1': 4.477921046761328e-06, 'lambda_l2': 0.006660968144515774}. Best is trial 40 with value: 1.2473170115142502.\n",
            "regularization_factors, val_score: 1.244803:  10%|#         | 2/20 [00:05<00:48,  2.69s/it][I 2023-12-02 14:02:25,801] Trial 41 finished with value: 1.2461844789663203 and parameters: {'lambda_l1': 4.835929139896235, 'lambda_l2': 6.054994626858491e-08}. Best is trial 41 with value: 1.2461844789663203.\n",
            "regularization_factors, val_score: 1.244344:  15%|#5        | 3/20 [00:07<00:36,  2.13s/it][I 2023-12-02 14:02:27,259] Trial 42 finished with value: 1.2443442032875158 and parameters: {'lambda_l1': 7.091076815042936, 'lambda_l2': 1.85470728945877e-08}. Best is trial 42 with value: 1.2443442032875158.\n",
            "regularization_factors, val_score: 1.244344:  20%|##        | 4/20 [00:08<00:29,  1.86s/it][I 2023-12-02 14:02:28,704] Trial 43 finished with value: 1.2458905202514376 and parameters: {'lambda_l1': 4.483307198545126, 'lambda_l2': 2.0921194343520794e-08}. Best is trial 42 with value: 1.2443442032875158.\n",
            "regularization_factors, val_score: 1.244344:  25%|##5       | 5/20 [00:10<00:25,  1.72s/it][I 2023-12-02 14:02:30,182] Trial 44 finished with value: 1.2472000209395766 and parameters: {'lambda_l1': 8.380335849178476, 'lambda_l2': 1.2119944381606758e-08}. Best is trial 42 with value: 1.2443442032875158.\n",
            "regularization_factors, val_score: 1.244344:  30%|###       | 6/20 [00:11<00:22,  1.63s/it][I 2023-12-02 14:02:31,640] Trial 45 finished with value: 1.2456224623683698 and parameters: {'lambda_l1': 9.084795160897857, 'lambda_l2': 2.109291898988007e-08}. Best is trial 42 with value: 1.2443442032875158.\n",
            "regularization_factors, val_score: 1.244344:  35%|###5      | 7/20 [00:13<00:20,  1.59s/it][I 2023-12-02 14:02:33,152] Trial 46 finished with value: 1.244625415848829 and parameters: {'lambda_l1': 3.229296676135826, 'lambda_l2': 2.34658605698283e-08}. Best is trial 42 with value: 1.2443442032875158.\n",
            "regularization_factors, val_score: 1.244344:  40%|####      | 8/20 [00:17<00:27,  2.29s/it][I 2023-12-02 14:02:36,937] Trial 47 finished with value: 1.2469700337563738 and parameters: {'lambda_l1': 5.239589350449523, 'lambda_l2': 2.2896145067160166e-08}. Best is trial 42 with value: 1.2443442032875158.\n",
            "regularization_factors, val_score: 1.244344:  45%|####5     | 9/20 [00:19<00:25,  2.35s/it][I 2023-12-02 14:02:39,405] Trial 48 finished with value: 1.247809751018469 and parameters: {'lambda_l1': 7.395482957123961, 'lambda_l2': 3.991728520216655e-08}. Best is trial 42 with value: 1.2443442032875158.\n",
            "regularization_factors, val_score: 1.244344:  50%|#####     | 10/20 [00:20<00:20,  2.06s/it][I 2023-12-02 14:02:40,836] Trial 49 finished with value: 1.2445991738309163 and parameters: {'lambda_l1': 0.060099253203356476, 'lambda_l2': 2.3951552689229363e-06}. Best is trial 42 with value: 1.2443442032875158.\n",
            "regularization_factors, val_score: 1.244344:  55%|#####5    | 11/20 [00:22<00:16,  1.87s/it][I 2023-12-02 14:02:42,282] Trial 50 finished with value: 1.2475077421007745 and parameters: {'lambda_l1': 0.02697854355126608, 'lambda_l2': 4.999002158677719e-06}. Best is trial 42 with value: 1.2443442032875158.\n",
            "regularization_factors, val_score: 1.244344:  60%|######    | 12/20 [00:23<00:14,  1.77s/it][I 2023-12-02 14:02:43,818] Trial 51 finished with value: 1.248746176876879 and parameters: {'lambda_l1': 0.4557965377678057, 'lambda_l2': 9.526786683245622e-07}. Best is trial 42 with value: 1.2443442032875158.\n",
            "regularization_factors, val_score: 1.244344:  65%|######5   | 13/20 [00:25<00:11,  1.67s/it][I 2023-12-02 14:02:45,256] Trial 52 finished with value: 1.2477559728458196 and parameters: {'lambda_l1': 0.01716209438687012, 'lambda_l2': 1.7358135621235257e-08}. Best is trial 42 with value: 1.2443442032875158.\n",
            "regularization_factors, val_score: 1.244344:  70%|#######   | 14/20 [00:26<00:09,  1.60s/it][I 2023-12-02 14:02:46,699] Trial 53 finished with value: 1.2469026562325476 and parameters: {'lambda_l1': 0.2441486480512613, 'lambda_l2': 9.154997613719989e-07}. Best is trial 42 with value: 1.2443442032875158.\n",
            "regularization_factors, val_score: 1.244344:  75%|#######5  | 15/20 [00:28<00:07,  1.55s/it][I 2023-12-02 14:02:48,135] Trial 54 finished with value: 1.2474277453560707 and parameters: {'lambda_l1': 0.42229749420155693, 'lambda_l2': 4.886405240428951e-07}. Best is trial 42 with value: 1.2443442032875158.\n",
            "regularization_factors, val_score: 1.244344:  80%|########  | 16/20 [00:33<00:10,  2.55s/it][I 2023-12-02 14:02:52,990] Trial 55 finished with value: 1.2455455489867167 and parameters: {'lambda_l1': 9.950888155147453, 'lambda_l2': 1.7044532914770084e-05}. Best is trial 42 with value: 1.2443442032875158.\n",
            "regularization_factors, val_score: 1.244344:  85%|########5 | 17/20 [00:34<00:06,  2.22s/it][I 2023-12-02 14:02:54,443] Trial 56 finished with value: 1.247969041012935 and parameters: {'lambda_l1': 0.33605421512674244, 'lambda_l2': 2.9536974463611345e-05}. Best is trial 42 with value: 1.2443442032875158.\n",
            "regularization_factors, val_score: 1.244344:  90%|######### | 18/20 [00:36<00:03,  2.00s/it][I 2023-12-02 14:02:55,922] Trial 57 finished with value: 1.2479563089827637 and parameters: {'lambda_l1': 7.091235211458644, 'lambda_l2': 7.062509832810736e-05}. Best is trial 42 with value: 1.2443442032875158.\n",
            "regularization_factors, val_score: 1.244344:  95%|#########5| 19/20 [00:37<00:01,  1.82s/it][I 2023-12-02 14:02:57,326] Trial 58 finished with value: 1.2475929655025126 and parameters: {'lambda_l1': 0.0014944162532944645, 'lambda_l2': 3.670578375305595e-07}. Best is trial 42 with value: 1.2443442032875158.\n",
            "regularization_factors, val_score: 1.244344: 100%|##########| 20/20 [00:38<00:00,  1.70s/it][I 2023-12-02 14:02:58,742] Trial 59 finished with value: 1.2481386710434375 and parameters: {'lambda_l1': 0.597116614810873, 'lambda_l2': 8.957272610098851e-06}. Best is trial 42 with value: 1.2443442032875158.\n",
            "regularization_factors, val_score: 1.244344: 100%|##########| 20/20 [00:38<00:00,  1.94s/it]\n",
            "min_child_samples, val_score: 1.244344:  20%|##        | 1/5 [00:01<00:05,  1.50s/it][I 2023-12-02 14:03:00,253] Trial 60 finished with value: 1.2461406794744831 and parameters: {'min_child_samples': 100}. Best is trial 60 with value: 1.2461406794744831.\n",
            "min_child_samples, val_score: 1.244344:  40%|####      | 2/5 [00:02<00:04,  1.47s/it][I 2023-12-02 14:03:01,701] Trial 61 finished with value: 1.2484564608812156 and parameters: {'min_child_samples': 10}. Best is trial 60 with value: 1.2461406794744831.\n",
            "min_child_samples, val_score: 1.244344:  60%|######    | 3/5 [00:05<00:03,  1.89s/it][I 2023-12-02 14:03:04,095] Trial 62 finished with value: 1.246143336725801 and parameters: {'min_child_samples': 50}. Best is trial 60 with value: 1.2461406794744831.\n",
            "min_child_samples, val_score: 1.244344:  80%|########  | 4/5 [00:09<00:02,  2.67s/it][I 2023-12-02 14:03:07,963] Trial 63 finished with value: 1.2480870322893673 and parameters: {'min_child_samples': 25}. Best is trial 60 with value: 1.2461406794744831.\n",
            "min_child_samples, val_score: 1.244344: 100%|##########| 5/5 [00:10<00:00,  2.24s/it][I 2023-12-02 14:03:09,433] Trial 64 finished with value: 1.2456110573798949 and parameters: {'min_child_samples': 5}. Best is trial 64 with value: 1.2456110573798949.\n",
            "min_child_samples, val_score: 1.244344: 100%|##########| 5/5 [00:10<00:00,  2.14s/it]"
          ]
        },
        {
          "output_type": "stream",
          "name": "stdout",
          "text": [
            "\n",
            "Best score: 1.2443442032875158\n",
            "\n",
            "Best parameters: \n",
            "objective: regression\n",
            "metric: rmse\n",
            "verbosity: -1\n",
            "boosting_type: gbdt\n",
            "feature_pre_filter: False\n",
            "lambda_l1: 7.091076815042936\n",
            "lambda_l2: 1.85470728945877e-08\n",
            "num_leaves: 3\n",
            "feature_fraction: 0.4\n",
            "bagging_fraction: 0.4151759684098873\n",
            "bagging_freq: 5\n",
            "min_child_samples: 20\n"
          ]
        },
        {
          "output_type": "stream",
          "name": "stderr",
          "text": [
            "\n"
          ]
        }
      ],
      "source": [
        "dtrain = optuna.integration.lightgbm.Dataset(x_train_all, label=y_train_all)\n",
        "\n",
        "params = {\n",
        "    \"objective\": \"regression\",\n",
        "    \"metric\": \"rmse\",\n",
        "    \"verbosity\": -1,\n",
        "    \"boosting_type\": \"gbdt\"}\n",
        "\n",
        "tuner = optuna.integration.lightgbm.LightGBMTunerCV(params=params,\n",
        "                                                    train_set=dtrain,\n",
        "                                                    #verbose_eval=False,\n",
        "                                                    #early_stopping_rounds=100,\n",
        "                                                    time_budget=600,\n",
        "                                                    folds=KFold(n_splits=4, shuffle=True),\n",
        "                                                    seed=42)\n",
        "\n",
        "tuner.run()\n",
        "\n",
        "print(\"\\nBest score:\", tuner.best_score)\n",
        "best_params = tuner.best_params\n",
        "print(\"\\nBest parameters: \")\n",
        "for key, value in best_params.items():\n",
        "    print(f\"{key}: {value}\")"
      ]
    },
    {
      "cell_type": "code",
      "execution_count": 62,
      "metadata": {
        "id": "xIGrPmC53O7Y",
        "colab": {
          "base_uri": "https://localhost:8080/"
        },
        "outputId": "34bc4d74-b637-462e-d1da-0c1fa9c06fda"
      },
      "outputs": [
        {
          "output_type": "stream",
          "name": "stdout",
          "text": [
            "MSE Optuna:  1.5470038430611697\n",
            "RMSE Optuna:  1.2437860921642312\n"
          ]
        }
      ],
      "source": [
        "lgbmoptun = lightgbm.LGBMRegressor(**tuner.best_params)\n",
        "lgbmoptun.fit(x_train_all, y_train_all)\n",
        "y_pred0 = lgbmoptun.predict(x_test)\n",
        "\n",
        "print(\"MSE Optuna: \", mean_squared_error(y_test, y_pred0))\n",
        "print(\"RMSE Optuna: \", mean_squared_error(y_test, y_pred0, squared=False))"
      ]
    },
    {
      "cell_type": "markdown",
      "source": [
        "MSE:\n",
        "\n",
        "1. Бустинг:  1.5354738887931243\n",
        "2. Случаный лес:  1.5391783190444213\n",
        "3. TabNetR:  1.6632445496409536\n",
        "4. С использованием Optuna:  1.5470038430611697"
      ],
      "metadata": {
        "id": "oh8TsSDqNp1N"
      }
    },
    {
      "cell_type": "markdown",
      "metadata": {
        "id": "i_yGVJ0Ut7vG"
      },
      "source": [
        "## Формат результата"
      ]
    },
    {
      "cell_type": "markdown",
      "metadata": {
        "id": "y8tp9OLzt7vG"
      },
      "source": [
        "Получить значения MSE для моделей:\n",
        "\n",
        "1. Случайный лес ~ 1.4\n",
        "2. Бустинг меньше 1.45\n",
        "3. TabNet ~ 1.5\n",
        "4. С использованием optuna ~ 1.3"
      ]
    },
    {
      "cell_type": "markdown",
      "metadata": {
        "id": "FjtIbTbct7vG"
      },
      "source": [
        "# Задание 3. Дисбаланс классов"
      ]
    },
    {
      "cell_type": "markdown",
      "metadata": {
        "id": "DuMbkeADt7vG"
      },
      "source": [
        "Важно обращать внимание на сбалансированность классов в наборе.\n",
        "Предположим, у нас есть некоторый набор данных со следующими метками классов:"
      ]
    },
    {
      "cell_type": "code",
      "execution_count": 63,
      "metadata": {
        "id": "iJS7cYoyt7vH"
      },
      "outputs": [],
      "source": [
        "real_labels  = [1, 0, 1, 0, 0, 0, 0, 1, 0, 0, 0, 0, 1, 0, 0, 1, 0, 0, 0, 0, 0]"
      ]
    },
    {
      "cell_type": "markdown",
      "metadata": {
        "id": "YjIe7A16t7vH"
      },
      "source": [
        "В наборе 16 объектов относятся к классу 0, 5 к классу 1.\n",
        "\n",
        "Мы обучили две модели. Первая всегда выдает 0:"
      ]
    },
    {
      "cell_type": "code",
      "execution_count": 64,
      "metadata": {
        "id": "UuZcBziEt7vH"
      },
      "outputs": [],
      "source": [
        "model1_res = [0, 0, 0, 0, 0, 0, 0, 0, 0, 0, 0, 0, 0, 0, 0, 0, 0, 0, 0, 0, 0]"
      ]
    },
    {
      "cell_type": "markdown",
      "metadata": {
        "id": "0XY0f67Nt7vH"
      },
      "source": [
        "Вторая сумела обнаружить некоторую закономерность в признаках:"
      ]
    },
    {
      "cell_type": "code",
      "execution_count": 65,
      "metadata": {
        "id": "oMV-U2Ult7vH"
      },
      "outputs": [],
      "source": [
        "model2_res = [1, 0, 1, 1, 0, 0, 0, 0, 1, 0, 0, 0, 1, 0, 0, 1, 0, 0, 1, 0, 1]"
      ]
    },
    {
      "cell_type": "markdown",
      "metadata": {
        "id": "FVwRj64Ut7vH"
      },
      "source": [
        "Рассчитаем точность Accuracy для этих моделей:"
      ]
    },
    {
      "cell_type": "code",
      "execution_count": 66,
      "metadata": {
        "colab": {
          "base_uri": "https://localhost:8080/"
        },
        "id": "2rxFe9o_t7vH",
        "outputId": "acb2115e-9055-4245-f3b1-ee3c529d6cf6"
      },
      "outputs": [
        {
          "output_type": "stream",
          "name": "stdout",
          "text": [
            "Accuracy for model1:  0.7619047619047619\n",
            "Accuracy for model2:  0.7619047619047619\n"
          ]
        }
      ],
      "source": [
        "print(\"Accuracy for model1: \", accuracy_score(real_labels, model1_res))\n",
        "print(\"Accuracy for model2: \", accuracy_score(real_labels, model2_res))"
      ]
    },
    {
      "cell_type": "markdown",
      "metadata": {
        "id": "OzsuwW2Jt7vH"
      },
      "source": [
        "Accuracy нельзя использовать, если данные не сбалансированы!!!. Для несбалансированных данных необходимо использовать свои метрики и модели. Одной из таких метрик является balanced accuracy. При вычислении данной метрики считается полнота (recall) отдельно для каждого класса и вычисляется среднее значение:"
      ]
    },
    {
      "cell_type": "code",
      "execution_count": 67,
      "metadata": {
        "colab": {
          "base_uri": "https://localhost:8080/"
        },
        "id": "ypsmtSFyt7vI",
        "outputId": "20a837a2-6d18-4280-f88f-7f765d52ed86"
      },
      "outputs": [
        {
          "output_type": "stream",
          "name": "stdout",
          "text": [
            "Balanced accuracy for model1:  0.5\n",
            "Balanced accuracy for model2:  0.775\n"
          ]
        }
      ],
      "source": [
        "# Balanced accuracy for model1 = (16/16+0/5)/2 = 0.5\n",
        "print(\"Balanced accuracy for model1: \", balanced_accuracy_score(real_labels, model1_res))\n",
        "# Balanced accuracy for model2 = (12/16+4/5)/2 = 0.775\n",
        "print(\"Balanced accuracy for model2: \", balanced_accuracy_score(real_labels, model2_res))"
      ]
    },
    {
      "cell_type": "markdown",
      "metadata": {
        "id": "VVCgh14-t7vI"
      },
      "source": [
        "**Всегда проверяйте** являются ли ваши данные сбалансированными и могут ли выбранные для оценки модели метрики работать с несбалансированными классами."
      ]
    },
    {
      "cell_type": "markdown",
      "metadata": {
        "id": "vxpRJVLtt7vI"
      },
      "source": [
        "Загрузим датасет с различными биомаркерами пациентов с меланомой (обезличенный, информации о пациентах нет) и переменной, содержащей 1, если пациент ответил на иммунотерапию (терапия помогла пациенту и произошло уменьшение размеров опухоли) и 0, если не ответил. Количество пациентов, отвечающих на терапию сильно меньше пациентов, которым терапия не помогает, поэтому предсказание ответа пациента на терапию на основании биомаркеров &mdash; актуальная задача в онкологии. В данном задании вам предстоит попробовать её решить."
      ]
    },
    {
      "cell_type": "code",
      "execution_count": 68,
      "metadata": {
        "colab": {
          "base_uri": "https://localhost:8080/",
          "height": 324
        },
        "id": "oTgEPp-Pt7vI",
        "outputId": "33f03bba-fa8f-4ba0-a44d-e1d9d67a65df"
      },
      "outputs": [
        {
          "output_type": "display_data",
          "data": {
            "text/plain": [
              "                  IgG1/IgA      IL21     CXCL9    CXCL10      CD8A      GZMB  \\\n",
              "sample_id                                                                      \n",
              "SAM4b0175e8db6e   3.242746  0.001280 -0.002986 -0.036366  0.096658  0.063467   \n",
              "SAMd215b503f99a   2.139016 -0.000089  0.030495  0.243958  0.161128  0.565798   \n",
              "SAM7fb6987514a4  12.614972  0.008103  0.502043  0.530783  0.388455  0.528142   \n",
              "SAMd636e3461955   6.365973 -0.000139  0.024035  0.115127  0.084455  0.200038   \n",
              "SAMc0da5d48686d   2.764089  0.006107  0.015533  0.135470  0.067686  0.053499   \n",
              "\n",
              "                    KLRC2     KLRC3     KLRC4      GNLY       TGFB1  Response  \n",
              "sample_id                                                                      \n",
              "SAM4b0175e8db6e  0.502058 -0.083862  0.053659  0.091930   61.934119         0  \n",
              "SAMd215b503f99a -0.203495 -0.026902 -0.035405  0.030125  103.265837         0  \n",
              "SAM7fb6987514a4 -0.156209  0.001147 -0.028690  0.260703   53.552817         0  \n",
              "SAMd636e3461955 -0.387373 -0.057837  0.045938  0.073192   80.837318         0  \n",
              "SAMc0da5d48686d -0.116040  0.063714  0.088201  0.082940  114.422926         0  "
            ],
            "text/html": [
              "\n",
              "  <div id=\"df-aad54214-9678-44cd-9082-58f0173ac48a\" class=\"colab-df-container\">\n",
              "    <div>\n",
              "<style scoped>\n",
              "    .dataframe tbody tr th:only-of-type {\n",
              "        vertical-align: middle;\n",
              "    }\n",
              "\n",
              "    .dataframe tbody tr th {\n",
              "        vertical-align: top;\n",
              "    }\n",
              "\n",
              "    .dataframe thead th {\n",
              "        text-align: right;\n",
              "    }\n",
              "</style>\n",
              "<table border=\"1\" class=\"dataframe\">\n",
              "  <thead>\n",
              "    <tr style=\"text-align: right;\">\n",
              "      <th></th>\n",
              "      <th>IgG1/IgA</th>\n",
              "      <th>IL21</th>\n",
              "      <th>CXCL9</th>\n",
              "      <th>CXCL10</th>\n",
              "      <th>CD8A</th>\n",
              "      <th>GZMB</th>\n",
              "      <th>KLRC2</th>\n",
              "      <th>KLRC3</th>\n",
              "      <th>KLRC4</th>\n",
              "      <th>GNLY</th>\n",
              "      <th>TGFB1</th>\n",
              "      <th>Response</th>\n",
              "    </tr>\n",
              "    <tr>\n",
              "      <th>sample_id</th>\n",
              "      <th></th>\n",
              "      <th></th>\n",
              "      <th></th>\n",
              "      <th></th>\n",
              "      <th></th>\n",
              "      <th></th>\n",
              "      <th></th>\n",
              "      <th></th>\n",
              "      <th></th>\n",
              "      <th></th>\n",
              "      <th></th>\n",
              "      <th></th>\n",
              "    </tr>\n",
              "  </thead>\n",
              "  <tbody>\n",
              "    <tr>\n",
              "      <th>SAM4b0175e8db6e</th>\n",
              "      <td>3.242746</td>\n",
              "      <td>0.001280</td>\n",
              "      <td>-0.002986</td>\n",
              "      <td>-0.036366</td>\n",
              "      <td>0.096658</td>\n",
              "      <td>0.063467</td>\n",
              "      <td>0.502058</td>\n",
              "      <td>-0.083862</td>\n",
              "      <td>0.053659</td>\n",
              "      <td>0.091930</td>\n",
              "      <td>61.934119</td>\n",
              "      <td>0</td>\n",
              "    </tr>\n",
              "    <tr>\n",
              "      <th>SAMd215b503f99a</th>\n",
              "      <td>2.139016</td>\n",
              "      <td>-0.000089</td>\n",
              "      <td>0.030495</td>\n",
              "      <td>0.243958</td>\n",
              "      <td>0.161128</td>\n",
              "      <td>0.565798</td>\n",
              "      <td>-0.203495</td>\n",
              "      <td>-0.026902</td>\n",
              "      <td>-0.035405</td>\n",
              "      <td>0.030125</td>\n",
              "      <td>103.265837</td>\n",
              "      <td>0</td>\n",
              "    </tr>\n",
              "    <tr>\n",
              "      <th>SAM7fb6987514a4</th>\n",
              "      <td>12.614972</td>\n",
              "      <td>0.008103</td>\n",
              "      <td>0.502043</td>\n",
              "      <td>0.530783</td>\n",
              "      <td>0.388455</td>\n",
              "      <td>0.528142</td>\n",
              "      <td>-0.156209</td>\n",
              "      <td>0.001147</td>\n",
              "      <td>-0.028690</td>\n",
              "      <td>0.260703</td>\n",
              "      <td>53.552817</td>\n",
              "      <td>0</td>\n",
              "    </tr>\n",
              "    <tr>\n",
              "      <th>SAMd636e3461955</th>\n",
              "      <td>6.365973</td>\n",
              "      <td>-0.000139</td>\n",
              "      <td>0.024035</td>\n",
              "      <td>0.115127</td>\n",
              "      <td>0.084455</td>\n",
              "      <td>0.200038</td>\n",
              "      <td>-0.387373</td>\n",
              "      <td>-0.057837</td>\n",
              "      <td>0.045938</td>\n",
              "      <td>0.073192</td>\n",
              "      <td>80.837318</td>\n",
              "      <td>0</td>\n",
              "    </tr>\n",
              "    <tr>\n",
              "      <th>SAMc0da5d48686d</th>\n",
              "      <td>2.764089</td>\n",
              "      <td>0.006107</td>\n",
              "      <td>0.015533</td>\n",
              "      <td>0.135470</td>\n",
              "      <td>0.067686</td>\n",
              "      <td>0.053499</td>\n",
              "      <td>-0.116040</td>\n",
              "      <td>0.063714</td>\n",
              "      <td>0.088201</td>\n",
              "      <td>0.082940</td>\n",
              "      <td>114.422926</td>\n",
              "      <td>0</td>\n",
              "    </tr>\n",
              "  </tbody>\n",
              "</table>\n",
              "</div>\n",
              "    <div class=\"colab-df-buttons\">\n",
              "\n",
              "  <div class=\"colab-df-container\">\n",
              "    <button class=\"colab-df-convert\" onclick=\"convertToInteractive('df-aad54214-9678-44cd-9082-58f0173ac48a')\"\n",
              "            title=\"Convert this dataframe to an interactive table.\"\n",
              "            style=\"display:none;\">\n",
              "\n",
              "  <svg xmlns=\"http://www.w3.org/2000/svg\" height=\"24px\" viewBox=\"0 -960 960 960\">\n",
              "    <path d=\"M120-120v-720h720v720H120Zm60-500h600v-160H180v160Zm220 220h160v-160H400v160Zm0 220h160v-160H400v160ZM180-400h160v-160H180v160Zm440 0h160v-160H620v160ZM180-180h160v-160H180v160Zm440 0h160v-160H620v160Z\"/>\n",
              "  </svg>\n",
              "    </button>\n",
              "\n",
              "  <style>\n",
              "    .colab-df-container {\n",
              "      display:flex;\n",
              "      gap: 12px;\n",
              "    }\n",
              "\n",
              "    .colab-df-convert {\n",
              "      background-color: #E8F0FE;\n",
              "      border: none;\n",
              "      border-radius: 50%;\n",
              "      cursor: pointer;\n",
              "      display: none;\n",
              "      fill: #1967D2;\n",
              "      height: 32px;\n",
              "      padding: 0 0 0 0;\n",
              "      width: 32px;\n",
              "    }\n",
              "\n",
              "    .colab-df-convert:hover {\n",
              "      background-color: #E2EBFA;\n",
              "      box-shadow: 0px 1px 2px rgba(60, 64, 67, 0.3), 0px 1px 3px 1px rgba(60, 64, 67, 0.15);\n",
              "      fill: #174EA6;\n",
              "    }\n",
              "\n",
              "    .colab-df-buttons div {\n",
              "      margin-bottom: 4px;\n",
              "    }\n",
              "\n",
              "    [theme=dark] .colab-df-convert {\n",
              "      background-color: #3B4455;\n",
              "      fill: #D2E3FC;\n",
              "    }\n",
              "\n",
              "    [theme=dark] .colab-df-convert:hover {\n",
              "      background-color: #434B5C;\n",
              "      box-shadow: 0px 1px 3px 1px rgba(0, 0, 0, 0.15);\n",
              "      filter: drop-shadow(0px 1px 2px rgba(0, 0, 0, 0.3));\n",
              "      fill: #FFFFFF;\n",
              "    }\n",
              "  </style>\n",
              "\n",
              "    <script>\n",
              "      const buttonEl =\n",
              "        document.querySelector('#df-aad54214-9678-44cd-9082-58f0173ac48a button.colab-df-convert');\n",
              "      buttonEl.style.display =\n",
              "        google.colab.kernel.accessAllowed ? 'block' : 'none';\n",
              "\n",
              "      async function convertToInteractive(key) {\n",
              "        const element = document.querySelector('#df-aad54214-9678-44cd-9082-58f0173ac48a');\n",
              "        const dataTable =\n",
              "          await google.colab.kernel.invokeFunction('convertToInteractive',\n",
              "                                                    [key], {});\n",
              "        if (!dataTable) return;\n",
              "\n",
              "        const docLinkHtml = 'Like what you see? Visit the ' +\n",
              "          '<a target=\"_blank\" href=https://colab.research.google.com/notebooks/data_table.ipynb>data table notebook</a>'\n",
              "          + ' to learn more about interactive tables.';\n",
              "        element.innerHTML = '';\n",
              "        dataTable['output_type'] = 'display_data';\n",
              "        await google.colab.output.renderOutput(dataTable, element);\n",
              "        const docLink = document.createElement('div');\n",
              "        docLink.innerHTML = docLinkHtml;\n",
              "        element.appendChild(docLink);\n",
              "      }\n",
              "    </script>\n",
              "  </div>\n",
              "\n",
              "\n",
              "<div id=\"df-88eb82d7-73b5-4837-8a91-53e9e806c603\">\n",
              "  <button class=\"colab-df-quickchart\" onclick=\"quickchart('df-88eb82d7-73b5-4837-8a91-53e9e806c603')\"\n",
              "            title=\"Suggest charts\"\n",
              "            style=\"display:none;\">\n",
              "\n",
              "<svg xmlns=\"http://www.w3.org/2000/svg\" height=\"24px\"viewBox=\"0 0 24 24\"\n",
              "     width=\"24px\">\n",
              "    <g>\n",
              "        <path d=\"M19 3H5c-1.1 0-2 .9-2 2v14c0 1.1.9 2 2 2h14c1.1 0 2-.9 2-2V5c0-1.1-.9-2-2-2zM9 17H7v-7h2v7zm4 0h-2V7h2v10zm4 0h-2v-4h2v4z\"/>\n",
              "    </g>\n",
              "</svg>\n",
              "  </button>\n",
              "\n",
              "<style>\n",
              "  .colab-df-quickchart {\n",
              "      --bg-color: #E8F0FE;\n",
              "      --fill-color: #1967D2;\n",
              "      --hover-bg-color: #E2EBFA;\n",
              "      --hover-fill-color: #174EA6;\n",
              "      --disabled-fill-color: #AAA;\n",
              "      --disabled-bg-color: #DDD;\n",
              "  }\n",
              "\n",
              "  [theme=dark] .colab-df-quickchart {\n",
              "      --bg-color: #3B4455;\n",
              "      --fill-color: #D2E3FC;\n",
              "      --hover-bg-color: #434B5C;\n",
              "      --hover-fill-color: #FFFFFF;\n",
              "      --disabled-bg-color: #3B4455;\n",
              "      --disabled-fill-color: #666;\n",
              "  }\n",
              "\n",
              "  .colab-df-quickchart {\n",
              "    background-color: var(--bg-color);\n",
              "    border: none;\n",
              "    border-radius: 50%;\n",
              "    cursor: pointer;\n",
              "    display: none;\n",
              "    fill: var(--fill-color);\n",
              "    height: 32px;\n",
              "    padding: 0;\n",
              "    width: 32px;\n",
              "  }\n",
              "\n",
              "  .colab-df-quickchart:hover {\n",
              "    background-color: var(--hover-bg-color);\n",
              "    box-shadow: 0 1px 2px rgba(60, 64, 67, 0.3), 0 1px 3px 1px rgba(60, 64, 67, 0.15);\n",
              "    fill: var(--button-hover-fill-color);\n",
              "  }\n",
              "\n",
              "  .colab-df-quickchart-complete:disabled,\n",
              "  .colab-df-quickchart-complete:disabled:hover {\n",
              "    background-color: var(--disabled-bg-color);\n",
              "    fill: var(--disabled-fill-color);\n",
              "    box-shadow: none;\n",
              "  }\n",
              "\n",
              "  .colab-df-spinner {\n",
              "    border: 2px solid var(--fill-color);\n",
              "    border-color: transparent;\n",
              "    border-bottom-color: var(--fill-color);\n",
              "    animation:\n",
              "      spin 1s steps(1) infinite;\n",
              "  }\n",
              "\n",
              "  @keyframes spin {\n",
              "    0% {\n",
              "      border-color: transparent;\n",
              "      border-bottom-color: var(--fill-color);\n",
              "      border-left-color: var(--fill-color);\n",
              "    }\n",
              "    20% {\n",
              "      border-color: transparent;\n",
              "      border-left-color: var(--fill-color);\n",
              "      border-top-color: var(--fill-color);\n",
              "    }\n",
              "    30% {\n",
              "      border-color: transparent;\n",
              "      border-left-color: var(--fill-color);\n",
              "      border-top-color: var(--fill-color);\n",
              "      border-right-color: var(--fill-color);\n",
              "    }\n",
              "    40% {\n",
              "      border-color: transparent;\n",
              "      border-right-color: var(--fill-color);\n",
              "      border-top-color: var(--fill-color);\n",
              "    }\n",
              "    60% {\n",
              "      border-color: transparent;\n",
              "      border-right-color: var(--fill-color);\n",
              "    }\n",
              "    80% {\n",
              "      border-color: transparent;\n",
              "      border-right-color: var(--fill-color);\n",
              "      border-bottom-color: var(--fill-color);\n",
              "    }\n",
              "    90% {\n",
              "      border-color: transparent;\n",
              "      border-bottom-color: var(--fill-color);\n",
              "    }\n",
              "  }\n",
              "</style>\n",
              "\n",
              "  <script>\n",
              "    async function quickchart(key) {\n",
              "      const quickchartButtonEl =\n",
              "        document.querySelector('#' + key + ' button');\n",
              "      quickchartButtonEl.disabled = true;  // To prevent multiple clicks.\n",
              "      quickchartButtonEl.classList.add('colab-df-spinner');\n",
              "      try {\n",
              "        const charts = await google.colab.kernel.invokeFunction(\n",
              "            'suggestCharts', [key], {});\n",
              "      } catch (error) {\n",
              "        console.error('Error during call to suggestCharts:', error);\n",
              "      }\n",
              "      quickchartButtonEl.classList.remove('colab-df-spinner');\n",
              "      quickchartButtonEl.classList.add('colab-df-quickchart-complete');\n",
              "    }\n",
              "    (() => {\n",
              "      let quickchartButtonEl =\n",
              "        document.querySelector('#df-88eb82d7-73b5-4837-8a91-53e9e806c603 button');\n",
              "      quickchartButtonEl.style.display =\n",
              "        google.colab.kernel.accessAllowed ? 'block' : 'none';\n",
              "    })();\n",
              "  </script>\n",
              "</div>\n",
              "    </div>\n",
              "  </div>\n"
            ]
          },
          "metadata": {}
        },
        {
          "output_type": "stream",
          "name": "stdout",
          "text": [
            "\n",
            "Number of patients responded to immunotherapy:\n"
          ]
        },
        {
          "output_type": "display_data",
          "data": {
            "text/plain": [
              "0    228\n",
              "1     37\n",
              "Name: Response, dtype: int64"
            ]
          },
          "metadata": {}
        }
      ],
      "source": [
        "cancer = pd.read_table(\"Cancer_dataset_2.tsv\", index_col='sample_id')\n",
        "display(cancer.head())\n",
        "\n",
        "# split the data on features (x) and dependant variable (y)\n",
        "y = cancer['Response']\n",
        "x = cancer.drop('Response', axis=1)\n",
        "print('\\nNumber of patients responded to immunotherapy:')\n",
        "display(y.value_counts())"
      ]
    },
    {
      "cell_type": "markdown",
      "metadata": {
        "id": "zNAQEeqHt7vI"
      },
      "source": [
        "В данном случае имеет место несбалансированность классов в наборе данных: пациентов, ответивших на терапию, гораздо меньше.\n",
        "\n",
        "Есть два способа работы с несбалансированными по классам данными. Первый способ &mdash; это получение стратифицированных выборок. Необходимо иметь одинаковую долю образцов каждого класса в тренировочной и тестовой выборках, иначе возникает риск получения смещённых выборок, что приводит к некорректной оценке качества модели. Второй способ &mdash; это использование специальных алгоритмов, учитывающих несбалансированность классов.\n",
        "\n",
        "\n",
        "В данном задании вам нужно продемонстрировать эффективность различных подходов  работы с несбалансированными выборками. Для этого вы будете использовать три модели, представленные ниже:\n",
        "\n",
        "1. [`RandomForestClassifier`](https://scikit-learn.org/stable/modules/generated/sklearn.ensemble.RandomForestClassifier.html), библиотека sklearn\n",
        "2. [`RandomForestClassifier` с балансировкой классов](https://scikit-learn.org/stable/modules/generated/sklearn.ensemble.RandomForestClassifier.html), библиотека sklearn  - меняет стандартный вес каждого класса, равный 1, на долю класса во входных данных (см. `class_weight`).\n",
        "3. [`BalancedRandomForestClassifier`](https://imbalanced-learn.org/stable/references/generated/imblearn.ensemble.BalancedRandomForestClassifier.html), библиотека imblearn - сэмплирует псевдовыборки таким образом, что в каждой псевдовыборке, которая подается на вход модели, баланс классов оказывается \"выправлен\".\n",
        "\n",
        "Оцените эффективность подходов с помощью кросс-валидации, производя разбиение с учетом репрезентации классов и без него. В качестве метрики, отображающей эффективность модели, используйте значения `accuracy` и `balanced_accuracy`. Проинтерпретируйте результаты."
      ]
    },
    {
      "cell_type": "code",
      "execution_count": 69,
      "metadata": {
        "id": "xMmPwWh1t7vI"
      },
      "outputs": [],
      "source": [
        "?imblearn.ensemble.BalancedRandomForestClassifier"
      ]
    },
    {
      "cell_type": "code",
      "execution_count": 70,
      "metadata": {
        "id": "Q-hmV1axt7vI"
      },
      "outputs": [],
      "source": [
        "?cross_validate"
      ]
    },
    {
      "cell_type": "markdown",
      "metadata": {
        "id": "2s-R4k6at7vJ"
      },
      "source": [
        "Объекты, принадлежащие разным классам, распределены неравномерно. Для адекватной работы cross_validate нужно перемешать данные. Для этого используйте флаг shuffle=True, применяя `KFold` и `StratifiedKFold` (см. параметр `cv` в функции cross_validate)."
      ]
    },
    {
      "cell_type": "markdown",
      "metadata": {
        "id": "eMQZqom2j7I9"
      },
      "source": [
        "RandomForestClassifier"
      ]
    },
    {
      "cell_type": "code",
      "execution_count": 71,
      "metadata": {
        "colab": {
          "base_uri": "https://localhost:8080/"
        },
        "id": "yo02aKd3t7vJ",
        "outputId": "ceea54e8-d393-4e1f-ac8f-91e0535e711f"
      },
      "outputs": [
        {
          "output_type": "stream",
          "name": "stdout",
          "text": [
            "KFold\n",
            "Accuracy: 0.8528301886792453\n",
            "Balanced Accuracy: 0.5560479797979798\n"
          ]
        }
      ],
      "source": [
        "rf0 = RandomForestClassifier(random_state=42)\n",
        "kf = KFold(shuffle=True, random_state=42)\n",
        "\n",
        "cv_KFold_accu = cross_validate(rf0, x, y, cv=kf, scoring='accuracy')\n",
        "cv_KFold_baccu = cross_validate(rf0, x, y, cv=kf, scoring='balanced_accuracy')\n",
        "\n",
        "print('KFold')\n",
        "print('Accuracy:',np.mean(cv_KFold_accu['test_score']))\n",
        "print('Balanced Accuracy:',np.mean(cv_KFold_baccu['test_score']))"
      ]
    },
    {
      "cell_type": "code",
      "execution_count": 72,
      "metadata": {
        "colab": {
          "base_uri": "https://localhost:8080/"
        },
        "id": "Ys0GJxWbj4Wv",
        "outputId": "85b33ac4-7076-4537-da91-d283ea5c27c1"
      },
      "outputs": [
        {
          "output_type": "stream",
          "name": "stdout",
          "text": [
            "StratifiedKFold\n",
            "Accuracy: 0.8566037735849058\n",
            "Balanced Accuracy: 0.5304451345755694\n"
          ]
        }
      ],
      "source": [
        "rf1 = RandomForestClassifier(random_state=42)\n",
        "skf = StratifiedKFold(shuffle=True, random_state=42)\n",
        "\n",
        "cv_StratifiedKFold_accu = cross_validate(rf1, x, y, cv=skf, scoring='accuracy')\n",
        "cv_StratifiedKFold_baccu = cross_validate(rf1, x, y, cv=skf, scoring='balanced_accuracy')\n",
        "\n",
        "print('StratifiedKFold')\n",
        "print('Accuracy:',np.mean(cv_StratifiedKFold_accu['test_score']))\n",
        "print('Balanced Accuracy:',np.mean(cv_StratifiedKFold_baccu['test_score']))"
      ]
    },
    {
      "cell_type": "markdown",
      "metadata": {
        "id": "WzfTOgg9kBya"
      },
      "source": [
        "RandomForestClassifier с балансировкой классов"
      ]
    },
    {
      "cell_type": "code",
      "execution_count": 73,
      "metadata": {
        "colab": {
          "base_uri": "https://localhost:8080/"
        },
        "id": "Tt6Bq-vgkVbn",
        "outputId": "694926a6-23a3-437f-a63b-dfbe55390142"
      },
      "outputs": [
        {
          "output_type": "stream",
          "name": "stdout",
          "text": [
            "KFold\n",
            "Accuracy: 0.8641509433962264\n",
            "Balanced Accuracy: 0.555182946486138\n"
          ]
        }
      ],
      "source": [
        "rfb0 = RandomForestClassifier(class_weight='balanced', random_state=42)\n",
        "sk = KFold(shuffle=True, random_state=42)\n",
        "\n",
        "cv_KFold_accu = cross_validate(rfb0, x, y, cv=kf, scoring='accuracy')\n",
        "cv_KFold_baccu = cross_validate(rfb0, x, y, cv=kf, scoring='balanced_accuracy')\n",
        "\n",
        "print('KFold')\n",
        "print('Accuracy:',np.mean(cv_KFold_accu['test_score']))\n",
        "print('Balanced Accuracy:',np.mean(cv_KFold_baccu['test_score']))"
      ]
    },
    {
      "cell_type": "code",
      "execution_count": 74,
      "metadata": {
        "colab": {
          "base_uri": "https://localhost:8080/"
        },
        "id": "_q0KL166kVlO",
        "outputId": "69c1b2b5-3cc2-4ae9-bb56-166a0138a2d3"
      },
      "outputs": [
        {
          "output_type": "stream",
          "name": "stdout",
          "text": [
            "StratifiedKFold\n",
            "Accuracy: 0.8679245283018868\n",
            "Balanced Accuracy: 0.5491752933057281\n"
          ]
        }
      ],
      "source": [
        "rfb1 = RandomForestClassifier(class_weight='balanced', random_state=42)\n",
        "skf = StratifiedKFold(shuffle=True, random_state=42)\n",
        "\n",
        "cv_StratifiedKFold_accu = cross_validate(rfb1, x, y, cv=skf, scoring='accuracy')\n",
        "cv_StratifiedKFold_baccu = cross_validate(rfb1, x, y, cv=skf, scoring='balanced_accuracy')\n",
        "\n",
        "print('StratifiedKFold')\n",
        "print('Accuracy:',np.mean(cv_StratifiedKFold_accu['test_score']))\n",
        "print('Balanced Accuracy:',np.mean(cv_StratifiedKFold_baccu['test_score']))"
      ]
    },
    {
      "cell_type": "markdown",
      "metadata": {
        "id": "tU3px4LslwKO"
      },
      "source": [
        "BalancedRandomForestClassifier"
      ]
    },
    {
      "cell_type": "code",
      "execution_count": 75,
      "metadata": {
        "colab": {
          "base_uri": "https://localhost:8080/"
        },
        "id": "HWEDt9-cl0W9",
        "outputId": "1abcceff-5dab-4401-e89a-567771a2ec24"
      },
      "outputs": [
        {
          "output_type": "stream",
          "name": "stdout",
          "text": [
            "KFold\n",
            "Accuracy: 0.6716981132075472\n",
            "Balanced Accuracy: 0.6918281216419515\n"
          ]
        }
      ],
      "source": [
        "brfc0 = imblearn.ensemble.BalancedRandomForestClassifier(sampling_strategy=\"auto\", replacement=False, random_state=42)\n",
        "sk = KFold(shuffle=True, random_state=42)\n",
        "\n",
        "cv_KFold_accu = cross_validate(brfc0, x, y, cv=kf, scoring='accuracy')\n",
        "cv_KFold_baccu = cross_validate(brfc0, x, y, cv=kf, scoring='balanced_accuracy')\n",
        "\n",
        "print('KFold')\n",
        "print('Accuracy:',np.mean(cv_KFold_accu['test_score']))\n",
        "print('Balanced Accuracy:',np.mean(cv_KFold_baccu['test_score']))"
      ]
    },
    {
      "cell_type": "code",
      "execution_count": 76,
      "metadata": {
        "colab": {
          "base_uri": "https://localhost:8080/"
        },
        "id": "CVMZbKp7nKMl",
        "outputId": "30b5dc94-6a8e-4861-d5c0-3dcb5044ce1a"
      },
      "outputs": [
        {
          "output_type": "stream",
          "name": "stdout",
          "text": [
            "StratifiedKFold\n",
            "Accuracy: 0.6566037735849057\n",
            "Balanced Accuracy: 0.672803657694962\n"
          ]
        }
      ],
      "source": [
        "brfc1 = imblearn.ensemble.BalancedRandomForestClassifier(sampling_strategy=\"auto\", replacement=False, random_state=42)\n",
        "skf = StratifiedKFold(shuffle=True, random_state=42)\n",
        "\n",
        "cv_StratifiedKFold_accu = cross_validate(brfc1, x, y, cv=skf, scoring='accuracy')\n",
        "cv_StratifiedKFold_baccu = cross_validate(brfc1, x, y, cv=skf, scoring='balanced_accuracy')\n",
        "\n",
        "print('StratifiedKFold')\n",
        "print('Accuracy:',np.mean(cv_StratifiedKFold_accu['test_score']))\n",
        "print('Balanced Accuracy:',np.mean(cv_StratifiedKFold_baccu['test_score']))"
      ]
    },
    {
      "cell_type": "markdown",
      "metadata": {
        "id": "nF_yQx1Jt7vJ"
      },
      "source": [
        "Какая модель лучше справляется с дисбалансом классов?\n",
        "\n",
        "**Напишите вывод**"
      ]
    },
    {
      "cell_type": "markdown",
      "source": [
        "BalancedRandomForestClassifier лучше всех справился с дисбалансом классов классов если смотреть на метрику balanced_accuracy"
      ],
      "metadata": {
        "id": "24Hg80TtPL-n"
      }
    },
    {
      "cell_type": "markdown",
      "metadata": {
        "id": "xcMQe6Fit7vJ"
      },
      "source": [
        "## Формат результата"
      ]
    },
    {
      "cell_type": "markdown",
      "metadata": {
        "id": "YaaGqItIt7vJ"
      },
      "source": [
        "Для моделей:\n",
        "1. `RandomForestClassifier`, библиотека sklearn\n",
        "2. `RandomForestClassifier с балансировкой классов`, библиотека sklearn\n",
        "3. `BalancedRandomForestClassifier`, библиотека imblearn\n",
        "\n",
        "Получить значения `accuracy` и `balanced_accuracy` при `KFold`-кроссвалидации и `StratifiedKFold`-кроссвалидации."
      ]
    },
    {
      "cell_type": "markdown",
      "metadata": {
        "id": "gTsFUHpjt7vJ"
      },
      "source": [
        "# Задание 4. Корреляция базовых моделей (maybe HARD - EXTRA)*"
      ]
    },
    {
      "cell_type": "markdown",
      "metadata": {
        "id": "2GO6EgNTt7vJ"
      },
      "source": [
        "Для случайного леса, на примере датасета breast_cancer, постройте зависимость между попарными корреляциями базовых моделей и числом фичей, которые отбираются в каждую модель.\n"
      ]
    },
    {
      "cell_type": "code",
      "execution_count": 77,
      "metadata": {
        "id": "R0Ei_B_qt7vK"
      },
      "outputs": [],
      "source": [
        "breast_cancer = sklearn.datasets.load_breast_cancer()\n",
        "\n",
        "x = breast_cancer.data\n",
        "y = breast_cancer.target\n",
        "\n",
        "x_train, x_test, y_train, y_test = train_test_split(x, y, random_state=42)"
      ]
    },
    {
      "cell_type": "code",
      "execution_count": 78,
      "metadata": {
        "id": "ns1C0AEQ74CB"
      },
      "outputs": [],
      "source": [
        "paircor = []\n",
        "\n",
        "for num_features in range(1, x.shape[1] + 1):\n",
        "    rf = RandomForestClassifier(max_features=num_features, random_state=42)\n",
        "    rf.fit(x_train, y_train)\n",
        "\n",
        "    forest_estimators = rf.estimators_\n",
        "    pred = np.array([base_model.predict(x_test) for base_model in forest_estimators])\n",
        "\n",
        "    cor = np.corrcoef(pred)\n",
        "    paircor.append(cor[np.triu_indices(cor.shape[0], 1)])"
      ]
    },
    {
      "cell_type": "code",
      "source": [
        "plt.figure(figsize=(10, 10))\n",
        "sns.boxplot(data = paircor)\n",
        "plt.ylabel(\"paircor\", size=10)\n",
        "plt.show()"
      ],
      "metadata": {
        "colab": {
          "base_uri": "https://localhost:8080/",
          "height": 830
        },
        "id": "4ZIPUfWEBNsG",
        "outputId": "258cabfb-fe68-42c4-ec49-86df0214d56b"
      },
      "execution_count": 79,
      "outputs": [
        {
          "output_type": "display_data",
          "data": {
            "text/plain": [
              "<Figure size 1000x1000 with 1 Axes>"
            ],
            "image/png": "[encoded data removed]"
          },
          "metadata": {}
        }
      ]
    },
    {
      "cell_type": "markdown",
      "metadata": {
        "id": "bM4llEHmt7vK"
      },
      "source": [
        "В параграфе лекции **Метод случайных подпространств** дана информация о рекомендованном количестве признаков для задачи классификации. Как соотносится полученный график и рекомендуемое количество признаков?\n",
        "\n",
        "**Напишите вывод**"
      ]
    },
    {
      "cell_type": "markdown",
      "source": [
        "Обычно для задач классификации выбирают:\n",
        "\n",
        " $$\\sqrt{feature\\_cnt}$$\n",
        "\n",
        " В нашем случае это соответсвует умеренной корреляции\n"
      ],
      "metadata": {
        "id": "AtWM3scsQ8jn"
      }
    },
    {
      "cell_type": "markdown",
      "metadata": {
        "id": "DTAdQamEt7vK"
      },
      "source": [
        "## Формат результата"
      ]
    },
    {
      "cell_type": "markdown",
      "metadata": {
        "id": "WxbV8gXnt7vK"
      },
      "source": [
        "График зависимости между попарными корреляциями базовых моделей и числом фичей, которые отбираются в каждую модель.\n",
        "\n",
        "Пример графика:\n",
        "\n",
        "<img src =\"https://edunet.kea.su/repo/EduNet-web_dependencies/Exercises/EX03/result_5_task_ex03.png\" width=\"600\">"
      ]
    }
  ],
  "metadata": {
    "colab": {
      "provenance": []
    },
    "kernelspec": {
      "display_name": "Python 3 (ipykernel)",
      "language": "python",
      "name": "python3"
    },
    "language_info": {
      "codemirror_mode": {
        "name": "ipython",
        "version": 3
      },
      "file_extension": ".py",
      "mimetype": "text/x-python",
      "name": "python",
      "nbconvert_exporter": "python",
      "pygments_lexer": "ipython3",
      "version": "3.10.9"
    }
  },
  "nbformat": 4,
  "nbformat_minor": 0
}