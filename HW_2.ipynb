{
  "cells": [
    {
      "cell_type": "markdown",
      "metadata": {
        "id": "869857fa"
      },
      "source": [
        "# HW_2: SVM, KNN"
      ],
      "id": "869857fa"
    },
    {
      "cell_type": "markdown",
      "metadata": {
        "id": "c78c68ca"
      },
      "source": [
        "### Задание 0. Импорт и анализ датасета Iris"
      ],
      "id": "c78c68ca"
    },
    {
      "cell_type": "code",
      "execution_count": 196,
      "metadata": {
        "id": "272f6380",
        "colab": {
          "base_uri": "https://localhost:8080/"
        },
        "outputId": "c7581fe9-33d9-4ecd-b878-cac499ddf095"
      },
      "outputs": [
        {
          "output_type": "stream",
          "name": "stdout",
          "text": [
            "data: [[5.1 3.5 1.4 0.2]\n",
            " [4.9 3.  1.4 0.2]\n",
            " [4.7 3.2 1.3 0.2]\n",
            " [4.6 3.1 1.5 0.2]\n",
            " [5.  3.6 1.4 0.2]\n",
            " [5.4 3.9 1.7 0.4]\n",
            " [4.6 3.4 1.4 0.3]\n",
            " [5.  3.4 1.5 0.2]\n",
            " [4.4 2.9 1.4 0.2]\n",
            " [4.9 3.1 1.5 0.1]\n",
            " [5.4 3.7 1.5 0.2]\n",
            " [4.8 3.4 1.6 0.2]\n",
            " [4.8 3.  1.4 0.1]\n",
            " [4.3 3.  1.1 0.1]\n",
            " [5.8 4.  1.2 0.2]\n",
            " [5.7 4.4 1.5 0.4]\n",
            " [5.4 3.9 1.3 0.4]\n",
            " [5.1 3.5 1.4 0.3]\n",
            " [5.7 3.8 1.7 0.3]\n",
            " [5.1 3.8 1.5 0.3]\n",
            " [5.4 3.4 1.7 0.2]\n",
            " [5.1 3.7 1.5 0.4]\n",
            " [4.6 3.6 1.  0.2]\n",
            " [5.1 3.3 1.7 0.5]\n",
            " [4.8 3.4 1.9 0.2]\n",
            " [5.  3.  1.6 0.2]\n",
            " [5.  3.4 1.6 0.4]\n",
            " [5.2 3.5 1.5 0.2]\n",
            " [5.2 3.4 1.4 0.2]\n",
            " [4.7 3.2 1.6 0.2]\n",
            " [4.8 3.1 1.6 0.2]\n",
            " [5.4 3.4 1.5 0.4]\n",
            " [5.2 4.1 1.5 0.1]\n",
            " [5.5 4.2 1.4 0.2]\n",
            " [4.9 3.1 1.5 0.2]\n",
            " [5.  3.2 1.2 0.2]\n",
            " [5.5 3.5 1.3 0.2]\n",
            " [4.9 3.6 1.4 0.1]\n",
            " [4.4 3.  1.3 0.2]\n",
            " [5.1 3.4 1.5 0.2]\n",
            " [5.  3.5 1.3 0.3]\n",
            " [4.5 2.3 1.3 0.3]\n",
            " [4.4 3.2 1.3 0.2]\n",
            " [5.  3.5 1.6 0.6]\n",
            " [5.1 3.8 1.9 0.4]\n",
            " [4.8 3.  1.4 0.3]\n",
            " [5.1 3.8 1.6 0.2]\n",
            " [4.6 3.2 1.4 0.2]\n",
            " [5.3 3.7 1.5 0.2]\n",
            " [5.  3.3 1.4 0.2]\n",
            " [7.  3.2 4.7 1.4]\n",
            " [6.4 3.2 4.5 1.5]\n",
            " [6.9 3.1 4.9 1.5]\n",
            " [5.5 2.3 4.  1.3]\n",
            " [6.5 2.8 4.6 1.5]\n",
            " [5.7 2.8 4.5 1.3]\n",
            " [6.3 3.3 4.7 1.6]\n",
            " [4.9 2.4 3.3 1. ]\n",
            " [6.6 2.9 4.6 1.3]\n",
            " [5.2 2.7 3.9 1.4]\n",
            " [5.  2.  3.5 1. ]\n",
            " [5.9 3.  4.2 1.5]\n",
            " [6.  2.2 4.  1. ]\n",
            " [6.1 2.9 4.7 1.4]\n",
            " [5.6 2.9 3.6 1.3]\n",
            " [6.7 3.1 4.4 1.4]\n",
            " [5.6 3.  4.5 1.5]\n",
            " [5.8 2.7 4.1 1. ]\n",
            " [6.2 2.2 4.5 1.5]\n",
            " [5.6 2.5 3.9 1.1]\n",
            " [5.9 3.2 4.8 1.8]\n",
            " [6.1 2.8 4.  1.3]\n",
            " [6.3 2.5 4.9 1.5]\n",
            " [6.1 2.8 4.7 1.2]\n",
            " [6.4 2.9 4.3 1.3]\n",
            " [6.6 3.  4.4 1.4]\n",
            " [6.8 2.8 4.8 1.4]\n",
            " [6.7 3.  5.  1.7]\n",
            " [6.  2.9 4.5 1.5]\n",
            " [5.7 2.6 3.5 1. ]\n",
            " [5.5 2.4 3.8 1.1]\n",
            " [5.5 2.4 3.7 1. ]\n",
            " [5.8 2.7 3.9 1.2]\n",
            " [6.  2.7 5.1 1.6]\n",
            " [5.4 3.  4.5 1.5]\n",
            " [6.  3.4 4.5 1.6]\n",
            " [6.7 3.1 4.7 1.5]\n",
            " [6.3 2.3 4.4 1.3]\n",
            " [5.6 3.  4.1 1.3]\n",
            " [5.5 2.5 4.  1.3]\n",
            " [5.5 2.6 4.4 1.2]\n",
            " [6.1 3.  4.6 1.4]\n",
            " [5.8 2.6 4.  1.2]\n",
            " [5.  2.3 3.3 1. ]\n",
            " [5.6 2.7 4.2 1.3]\n",
            " [5.7 3.  4.2 1.2]\n",
            " [5.7 2.9 4.2 1.3]\n",
            " [6.2 2.9 4.3 1.3]\n",
            " [5.1 2.5 3.  1.1]\n",
            " [5.7 2.8 4.1 1.3]\n",
            " [6.3 3.3 6.  2.5]\n",
            " [5.8 2.7 5.1 1.9]\n",
            " [7.1 3.  5.9 2.1]\n",
            " [6.3 2.9 5.6 1.8]\n",
            " [6.5 3.  5.8 2.2]\n",
            " [7.6 3.  6.6 2.1]\n",
            " [4.9 2.5 4.5 1.7]\n",
            " [7.3 2.9 6.3 1.8]\n",
            " [6.7 2.5 5.8 1.8]\n",
            " [7.2 3.6 6.1 2.5]\n",
            " [6.5 3.2 5.1 2. ]\n",
            " [6.4 2.7 5.3 1.9]\n",
            " [6.8 3.  5.5 2.1]\n",
            " [5.7 2.5 5.  2. ]\n",
            " [5.8 2.8 5.1 2.4]\n",
            " [6.4 3.2 5.3 2.3]\n",
            " [6.5 3.  5.5 1.8]\n",
            " [7.7 3.8 6.7 2.2]\n",
            " [7.7 2.6 6.9 2.3]\n",
            " [6.  2.2 5.  1.5]\n",
            " [6.9 3.2 5.7 2.3]\n",
            " [5.6 2.8 4.9 2. ]\n",
            " [7.7 2.8 6.7 2. ]\n",
            " [6.3 2.7 4.9 1.8]\n",
            " [6.7 3.3 5.7 2.1]\n",
            " [7.2 3.2 6.  1.8]\n",
            " [6.2 2.8 4.8 1.8]\n",
            " [6.1 3.  4.9 1.8]\n",
            " [6.4 2.8 5.6 2.1]\n",
            " [7.2 3.  5.8 1.6]\n",
            " [7.4 2.8 6.1 1.9]\n",
            " [7.9 3.8 6.4 2. ]\n",
            " [6.4 2.8 5.6 2.2]\n",
            " [6.3 2.8 5.1 1.5]\n",
            " [6.1 2.6 5.6 1.4]\n",
            " [7.7 3.  6.1 2.3]\n",
            " [6.3 3.4 5.6 2.4]\n",
            " [6.4 3.1 5.5 1.8]\n",
            " [6.  3.  4.8 1.8]\n",
            " [6.9 3.1 5.4 2.1]\n",
            " [6.7 3.1 5.6 2.4]\n",
            " [6.9 3.1 5.1 2.3]\n",
            " [5.8 2.7 5.1 1.9]\n",
            " [6.8 3.2 5.9 2.3]\n",
            " [6.7 3.3 5.7 2.5]\n",
            " [6.7 3.  5.2 2.3]\n",
            " [6.3 2.5 5.  1.9]\n",
            " [6.5 3.  5.2 2. ]\n",
            " [6.2 3.4 5.4 2.3]\n",
            " [5.9 3.  5.1 1.8]]\n",
            "labels: [0 0 0 0 0 0 0 0 0 0 0 0 0 0 0 0 0 0 0 0 0 0 0 0 0 0 0 0 0 0 0 0 0 0 0 0 0\n",
            " 0 0 0 0 0 0 0 0 0 0 0 0 0 1 1 1 1 1 1 1 1 1 1 1 1 1 1 1 1 1 1 1 1 1 1 1 1\n",
            " 1 1 1 1 1 1 1 1 1 1 1 1 1 1 1 1 1 1 1 1 1 1 1 1 1 1 2 2 2 2 2 2 2 2 2 2 2\n",
            " 2 2 2 2 2 2 2 2 2 2 2 2 2 2 2 2 2 2 2 2 2 2 2 2 2 2 2 2 2 2 2 2 2 2 2 2 2\n",
            " 2 2]\n"
          ]
        }
      ],
      "source": [
        "from sklearn.datasets import load_iris\n",
        "# Download dataset\n",
        "data, labels = load_iris(return_X_y=True)\n",
        "print(\"data:\", data)\n",
        "print(\"labels:\", labels)"
      ],
      "id": "272f6380"
    },
    {
      "cell_type": "markdown",
      "metadata": {
        "id": "d93af6d0"
      },
      "source": [
        "И `data`, и `labels` - это N-мерные массивы. **Посмотрите какие у них размеры**"
      ],
      "id": "d93af6d0"
    },
    {
      "cell_type": "code",
      "execution_count": 197,
      "metadata": {
        "id": "0f742fbe",
        "colab": {
          "base_uri": "https://localhost:8080/"
        },
        "outputId": "4f47c411-ae6f-4686-a8ed-491da3b19916"
      },
      "outputs": [
        {
          "output_type": "stream",
          "name": "stdout",
          "text": [
            "(150, 4)\n",
            "(150,)\n"
          ]
        }
      ],
      "source": [
        "print(data.shape)\n",
        "print(labels.shape)"
      ],
      "id": "0f742fbe"
    },
    {
      "cell_type": "markdown",
      "metadata": {
        "id": "1f9ce407"
      },
      "source": [
        "Видим, что массив `data` состоит из нескольких колонок. Такие колонки мы называем *features*. Набор данных по ирисам содержит четыре характеристики (длина чашелистиков, ширина чашелистиков, длина лепестков, ширина лепестков) 50 образцов трех видов ирисов (setosa, virginica и  versicolor). Вид ирисов отражен в массиве `labels`.\n",
        "\n",
        "**Отфильтруйте массив `data` таким образом, что бы он содержал в себе только ирисы из класса `0`**. Для этого используйте конструкцию `labels == class` в качестве индекса для `data`"
      ],
      "id": "1f9ce407"
    },
    {
      "cell_type": "code",
      "execution_count": 198,
      "metadata": {
        "id": "aed085d7"
      },
      "outputs": [],
      "source": [
        "data_0 = data[labels == 0]\n",
        "data_1 = data[labels == 1]\n",
        "data_2 = data[labels == 2]"
      ],
      "id": "aed085d7"
    },
    {
      "cell_type": "markdown",
      "metadata": {
        "id": "5f0f2f96"
      },
      "source": [
        "К сожалению, когда данных много, просто смотреть на цифры крайне не информативно.\n",
        "\n",
        "Для визуализации данных в этом курсе мы будем использовать библиотеку `matplotlib`. **Давайте ее импортируем**"
      ],
      "id": "5f0f2f96"
    },
    {
      "cell_type": "code",
      "execution_count": 199,
      "metadata": {
        "id": "7419a4bd"
      },
      "outputs": [],
      "source": [
        "import matplotlib.pyplot as plt"
      ],
      "id": "7419a4bd"
    },
    {
      "cell_type": "markdown",
      "metadata": {
        "id": "3ac54a36"
      },
      "source": [
        "**Постройте на одном рисунке график** признака с **индексом 0** (sepal length in cm) для каждого из **3 классов** (3 графика на одном рисунке). Для построения графика используйте функцию `plt.plot()`. Для того что бы получить доступ ко всем объектам в позиции 0 используйте index notation `[:, 0]`."
      ],
      "id": "3ac54a36"
    },
    {
      "cell_type": "code",
      "execution_count": 200,
      "metadata": {
        "id": "a56e2ee6",
        "colab": {
          "base_uri": "https://localhost:8080/",
          "height": 447
        },
        "outputId": "e930b96b-92b2-424d-c82b-1018d731bb31"
      },
      "outputs": [
        {
          "output_type": "execute_result",
          "data": {
            "text/plain": [
              "<matplotlib.legend.Legend at 0x783ccd6c9c90>"
            ]
          },
          "metadata": {},
          "execution_count": 200
        },
        {
          "output_type": "display_data",
          "data": {
            "text/plain": [
              "<Figure size 640x480 with 1 Axes>"
            ],
            "image/png": "[encoded data removed]"
          },
          "metadata": {}
        }
      ],
      "source": [
        "plt.plot(data_0[:,0], color='green')\n",
        "plt.plot(data_1[:,0], color='blue')\n",
        "plt.plot(data_2[:,0], color='red')\n",
        "plt.legend(['0 class','1 class','2 class'])"
      ],
      "id": "a56e2ee6"
    },
    {
      "cell_type": "markdown",
      "metadata": {
        "id": "8ee37050"
      },
      "source": [
        "**Для каждого класса постройте зависимость ширины от длины чашелистиков**. Используйте `ax.scatter()`"
      ],
      "id": "8ee37050"
    },
    {
      "cell_type": "code",
      "execution_count": 201,
      "metadata": {
        "id": "_j4FFudx0uj4",
        "colab": {
          "base_uri": "https://localhost:8080/",
          "height": 455
        },
        "outputId": "7f72c69a-62fe-448f-8c16-6fa697a1b03b"
      },
      "outputs": [
        {
          "output_type": "display_data",
          "data": {
            "text/plain": [
              "<Figure size 640x480 with 1 Axes>"
            ],
            "image/png": "[encoded data removed]"
          },
          "metadata": {}
        }
      ],
      "source": [
        "fig, ax = plt.subplots()\n",
        "\n",
        "ax.scatter(data_0[:,1], data_0[:,0], c='green')\n",
        "ax.scatter(data_1[:,1], data_1[:,0], c='blue')\n",
        "ax.scatter(data_2[:,1], data_2[:,0], c='red')\n",
        "\n",
        "plt.legend(['0 class','1 class','2 class'])\n",
        "ax.set_xlabel(\"длина чашелистиков\", fontsize=15)\n",
        "ax.set_ylabel(\"ширина чашелистиков\", fontsize=15)\n",
        "\n",
        "plt.show()"
      ],
      "id": "_j4FFudx0uj4"
    },
    {
      "cell_type": "markdown",
      "metadata": {
        "id": "5dc55d90"
      },
      "source": [
        "## KNN"
      ],
      "id": "5dc55d90"
    },
    {
      "cell_type": "markdown",
      "metadata": {
        "id": "a13b0045"
      },
      "source": [
        "### Задание 1. Алгоритм Nearest Neighbors.\n"
      ],
      "id": "a13b0045"
    },
    {
      "cell_type": "markdown",
      "metadata": {
        "id": "bf44bf1a"
      },
      "source": [
        "\n",
        "Хотя в лекции дан пример для изображений, реализация для табличных данных будет проще, либо вообще может не отличаться от предложенной.\n",
        "\n",
        "P.S. Nearest Neighbor это  K-Nearest Neighbors при K = 1"
      ],
      "id": "bf44bf1a"
    },
    {
      "cell_type": "markdown",
      "metadata": {
        "id": "d2d04616"
      },
      "source": [
        "Разбейте ваши данные на тренировочный и тестовый набор при помощи метода `train_test_split()`. Используйте следующие аргументы `train_size=0.6`, `random_state=42`, `stratify=labels`"
      ],
      "id": "d2d04616"
    },
    {
      "cell_type": "code",
      "execution_count": 202,
      "metadata": {
        "id": "a7532eb6",
        "colab": {
          "base_uri": "https://localhost:8080/"
        },
        "outputId": "c20dd678-ed71-4b7a-bc23-5416af2e8d2c"
      },
      "outputs": [
        {
          "output_type": "stream",
          "name": "stdout",
          "text": [
            "x_train (90, 4)\n",
            "x_test (60, 4)\n"
          ]
        }
      ],
      "source": [
        "from sklearn.model_selection import train_test_split\n",
        "\n",
        "x_train, x_test, y_train, y_test = train_test_split(data, labels, train_size=0.6, random_state=42, stratify=labels)\n",
        "print(\"x_train\", x_train.shape)\n",
        "print(\"x_test\", x_test.shape)"
      ],
      "id": "a7532eb6"
    },
    {
      "cell_type": "markdown",
      "metadata": {
        "id": "5ec59ddb"
      },
      "source": [
        "Напишите функцию, которая считает расстояние L1 между 2мя векторами\n"
      ],
      "id": "5ec59ddb"
    },
    {
      "cell_type": "code",
      "execution_count": 203,
      "metadata": {
        "id": "3e7328d6",
        "colab": {
          "base_uri": "https://localhost:8080/"
        },
        "outputId": "347aad58-0f92-4d6e-d7a7-173c194c83fa"
      },
      "outputs": [
        {
          "output_type": "execute_result",
          "data": {
            "text/plain": [
              "2"
            ]
          },
          "metadata": {},
          "execution_count": 203
        }
      ],
      "source": [
        "import numpy as np\n",
        "\n",
        "def compute_L1(a, b):\n",
        "    r = abs(a-b)\n",
        "    return sum(r)\n",
        "#checking\n",
        "a = np.array([1,2,3,4])\n",
        "b = np.array([2,1,3,4])\n",
        "compute_L1(a, b)"
      ],
      "id": "3e7328d6"
    },
    {
      "cell_type": "markdown",
      "metadata": {
        "id": "d1c6d936"
      },
      "source": [
        "Возьмите первую строку из тестового набора. Посчитайте расстояние L1 от нее до всех строк тренировочного набора.\n",
        "\n",
        "В простейшем виде напишите `for loop`, если вы знаете что вы делаете - можете использовать *векторизацию*"
      ],
      "id": "d1c6d936"
    },
    {
      "cell_type": "code",
      "execution_count": 204,
      "metadata": {
        "id": "8257f43e",
        "colab": {
          "base_uri": "https://localhost:8080/"
        },
        "outputId": "96925239-a630-44b2-87e2-412cb42a53b5"
      },
      "outputs": [
        {
          "output_type": "execute_result",
          "data": {
            "text/plain": [
              "array([ 9.5,  0.6,  5.3,  5.2,  0.5,  0.9,  0.6,  1.4,  8.5,  8.1,  0.8,\n",
              "        8.3,  4.5,  8.7,  5. ,  6.3,  0.8,  0.9,  6.9,  1.9,  0.2,  6.6,\n",
              "        7.5,  6.1,  1. ,  6.8,  0.8,  6. ,  8.2,  0.3,  5.1,  0.9,  6.7,\n",
              "        0.9, 11.2,  7. ,  7.1,  6. ,  1. ,  7. , 10. ,  6.7,  1.7, 10.2,\n",
              "        7.1,  0.5,  4.4,  0.3,  4.7,  5.7,  6.9,  8.6,  4.5,  8.4,  5.3,\n",
              "        7.8,  0.8,  9.3,  7.6,  6.2,  7.1,  7.1, 10.3,  1.2,  7.7,  1. ,\n",
              "        7.7,  1.1,  1.6,  8.7, 10. ,  1.3,  6.9,  7.3,  7.4,  0.8,  5.4,\n",
              "        6.7,  5.5,  4.9,  8.2,  0.5,  4.7,  7.2,  4.9,  0.5,  5.2,  1.4,\n",
              "        5.2,  1.1])"
            ]
          },
          "metadata": {},
          "execution_count": 204
        }
      ],
      "source": [
        "# Your code here\n",
        "distances = np.array([compute_L1(x_test[0,:], b) for b in x_train])\n",
        "distances"
      ],
      "id": "8257f43e"
    },
    {
      "cell_type": "markdown",
      "metadata": {
        "id": "08d14b8c"
      },
      "source": [
        "Найдите индекс минимального расстояния\n",
        "\n",
        "Используйте `np.argmin()`"
      ],
      "id": "08d14b8c"
    },
    {
      "cell_type": "code",
      "execution_count": 205,
      "metadata": {
        "id": "ff24918c",
        "colab": {
          "base_uri": "https://localhost:8080/"
        },
        "outputId": "c4d9a8f3-4708-44fe-c077-47ba15e72996"
      },
      "outputs": [
        {
          "output_type": "stream",
          "name": "stdout",
          "text": [
            "20\n"
          ]
        }
      ],
      "source": [
        "indx = np.argmin(distances)\n",
        "print(indx)"
      ],
      "id": "ff24918c"
    },
    {
      "cell_type": "markdown",
      "metadata": {
        "id": "22f66696"
      },
      "source": [
        "Выведете на экран свойства первого ириса в тестовом наборе и ириса, который максимально на него похож в тренировочном(минимальное расстояние)"
      ],
      "id": "22f66696"
    },
    {
      "cell_type": "code",
      "execution_count": 206,
      "metadata": {
        "id": "973c8abc",
        "colab": {
          "base_uri": "https://localhost:8080/"
        },
        "outputId": "b616d548-1f19-4b27-b616-2832755b9492"
      },
      "outputs": [
        {
          "output_type": "stream",
          "name": "stdout",
          "text": [
            "x_test: [5.  3.5 1.3 0.3]\n",
            "x_train: [5.1 3.5 1.4 0.3]\n"
          ]
        }
      ],
      "source": [
        "print(\"x_test:\", x_test[0,:])\n",
        "print(\"x_train:\", x_train[20,:])"
      ],
      "id": "973c8abc"
    },
    {
      "cell_type": "markdown",
      "metadata": {
        "id": "59cc7928"
      },
      "source": [
        "Выведите их метки"
      ],
      "id": "59cc7928"
    },
    {
      "cell_type": "code",
      "execution_count": 207,
      "metadata": {
        "id": "dd2ddd1a",
        "colab": {
          "base_uri": "https://localhost:8080/"
        },
        "outputId": "58ed475e-ea47-48b5-c9d1-0474ff397277"
      },
      "outputs": [
        {
          "output_type": "stream",
          "name": "stdout",
          "text": [
            "first iris in test labels 0\n",
            "most similar iris in train labels 0\n"
          ]
        }
      ],
      "source": [
        "print('first iris in test labels', y_test[0])\n",
        "print('most similar iris in train labels', y_train[20])"
      ],
      "id": "dd2ddd1a"
    },
    {
      "cell_type": "markdown",
      "metadata": {
        "id": "dbff9c74"
      },
      "source": [
        "Посчитайте двумерный массив расстояний от каждого ириса в тестовом наборе до каждого ириса в тренировочном. Размерность массива должна получиться (60, 90)"
      ],
      "id": "dbff9c74"
    },
    {
      "cell_type": "code",
      "execution_count": 208,
      "metadata": {
        "id": "e45683ff",
        "colab": {
          "base_uri": "https://localhost:8080/"
        },
        "outputId": "21ce23ed-0790-4e6c-b815-eb431dfcd2d7"
      },
      "outputs": [
        {
          "output_type": "stream",
          "name": "stdout",
          "text": [
            "(60, 90)\n"
          ]
        }
      ],
      "source": [
        "def compute_distances(train, test, distance_func):\n",
        "    distances = [0]*test.shape[0]\n",
        "    for i in range(test.shape[0]):\n",
        "      distances[i] = np.array([distance_func(test[i,:], b) for b in train])\n",
        "    return distances\n",
        "distances = np.array(compute_distances(x_train, x_test, compute_L1))\n",
        "print(distances.shape)"
      ],
      "id": "e45683ff"
    },
    {
      "cell_type": "markdown",
      "metadata": {
        "id": "fdccf310"
      },
      "source": [
        "Определите точность Nearest Neighbors классификации\n",
        "\n",
        "Для этого найдите индекс минимального значения для каждой строки массива distances"
      ],
      "id": "fdccf310"
    },
    {
      "cell_type": "code",
      "execution_count": 209,
      "metadata": {
        "id": "03e88f32"
      },
      "outputs": [],
      "source": [
        "indx_distances = np.array([np.argmin(b) for b in distances])"
      ],
      "id": "03e88f32"
    },
    {
      "cell_type": "markdown",
      "metadata": {
        "id": "da970aba"
      },
      "source": [
        "Теперь создадим массив `predicted_class`"
      ],
      "id": "da970aba"
    },
    {
      "cell_type": "code",
      "execution_count": 210,
      "metadata": {
        "id": "53ab5192"
      },
      "outputs": [],
      "source": [
        "predicted_class = y_train[indx_distances]"
      ],
      "id": "53ab5192"
    },
    {
      "cell_type": "markdown",
      "metadata": {
        "id": "1de6fd17"
      },
      "source": [
        "И посмотрим где класс предсказан правильно, а где нет"
      ],
      "id": "1de6fd17"
    },
    {
      "cell_type": "code",
      "execution_count": 211,
      "metadata": {
        "id": "0c641fad",
        "colab": {
          "base_uri": "https://localhost:8080/"
        },
        "outputId": "1cf92069-649b-4793-c0fd-ed359e35b5c1"
      },
      "outputs": [
        {
          "output_type": "execute_result",
          "data": {
            "text/plain": [
              "array([ True,  True,  True,  True, False,  True,  True,  True,  True,\n",
              "        True,  True,  True, False,  True,  True,  True,  True,  True,\n",
              "        True,  True,  True,  True,  True,  True,  True,  True,  True,\n",
              "        True,  True,  True,  True,  True, False,  True,  True,  True,\n",
              "        True,  True,  True,  True,  True,  True,  True,  True,  True,\n",
              "        True,  True,  True,  True, False,  True,  True,  True,  True,\n",
              "        True,  True,  True,  True,  True,  True])"
            ]
          },
          "metadata": {},
          "execution_count": 211
        }
      ],
      "source": [
        "y_test == predicted_class"
      ],
      "id": "0c641fad"
    },
    {
      "cell_type": "markdown",
      "metadata": {
        "id": "6cbc52c7"
      },
      "source": [
        "**Посчитайте точность (accuracy)**\n",
        "\n",
        "В питоне с булевыми значениями можно производить математические операции (True = 1, False = 0)"
      ],
      "id": "6cbc52c7"
    },
    {
      "cell_type": "code",
      "execution_count": 212,
      "metadata": {
        "id": "801a7ab6",
        "colab": {
          "base_uri": "https://localhost:8080/"
        },
        "outputId": "572e16e3-086b-40aa-dc55-924893cc02e0"
      },
      "outputs": [
        {
          "output_type": "stream",
          "name": "stdout",
          "text": [
            "Accuracy = 93.3%\n"
          ]
        }
      ],
      "source": [
        "accuracy = (len(y_test) - np.sum(np.abs(predicted_class-y_test)))/len(y_test)\n",
        "print(f'Accuracy = {accuracy * 100:.1f}%')"
      ],
      "id": "801a7ab6"
    },
    {
      "cell_type": "markdown",
      "metadata": {
        "id": "fd51bbb3"
      },
      "source": [
        "Повторите все этапы классификации, однако в этот раз стандартизируйте данные перед этим."
      ],
      "id": "fd51bbb3"
    },
    {
      "cell_type": "code",
      "execution_count": 213,
      "metadata": {
        "id": "3eb4a4bf"
      },
      "outputs": [],
      "source": [
        "def standartize(data):\n",
        "    mean = np.mean(data)\n",
        "    std = np.std(data)\n",
        "    st_data = (data-mean)/std\n",
        "    return st_data\n",
        "x_train_st, x_test_st = np.array([standartize(b) for b in x_train.T]).T, np.array([standartize(b) for b in x_test.T]).T"
      ],
      "id": "3eb4a4bf"
    },
    {
      "cell_type": "code",
      "execution_count": 214,
      "metadata": {
        "id": "48cdbccd",
        "colab": {
          "base_uri": "https://localhost:8080/"
        },
        "outputId": "084cf257-1843-481f-8b4b-492e665b68fa"
      },
      "outputs": [
        {
          "output_type": "stream",
          "name": "stdout",
          "text": [
            "Accuracy = 95.0%\n"
          ]
        }
      ],
      "source": [
        "distances_st = np.array(compute_distances(x_train_st, x_test_st, compute_L1))\n",
        "indx_distances_st =np.array([np.argmin(dist) for dist in distances_st])\n",
        "min_distances = y_train[indx_distances_st]\n",
        "predicted_class = min_distances#y_train_st[indx_distances_st]\n",
        "accuracy =  (len(y_test) - np.sum(np.abs(predicted_class-y_test)))/len(y_test)\n",
        "print(f'Accuracy = {accuracy * 100:.1f}%')"
      ],
      "id": "48cdbccd"
    },
    {
      "cell_type": "markdown",
      "metadata": {
        "id": "ce837708"
      },
      "source": [
        "### Формат результата"
      ],
      "id": "ce837708"
    },
    {
      "cell_type": "markdown",
      "metadata": {
        "id": "628c5081"
      },
      "source": [
        "Получить точность (accuracy) больше 94%"
      ],
      "id": "628c5081"
    },
    {
      "cell_type": "markdown",
      "metadata": {
        "id": "15875870"
      },
      "source": [
        "### Задание 2. Nearest Neighbors для картинок"
      ],
      "id": "15875870"
    },
    {
      "cell_type": "markdown",
      "metadata": {
        "id": "0c928a10"
      },
      "source": [
        "Загрузим датасет с помощью функций torchvision, пока можно не очень вдумываться как это работает, дальше в курсе мы познакомимся с PyTorch значительно ближе"
      ],
      "id": "0c928a10"
    },
    {
      "cell_type": "code",
      "execution_count": 215,
      "metadata": {
        "id": "6148da85",
        "colab": {
          "base_uri": "https://localhost:8080/"
        },
        "outputId": "351cbd19-c5f2-4c84-a836-c5881637d131"
      },
      "outputs": [
        {
          "output_type": "stream",
          "name": "stdout",
          "text": [
            "Files already downloaded and verified\n"
          ]
        }
      ],
      "source": [
        "from torchvision import datasets\n",
        "import numpy as np\n",
        "\n",
        "dataset = datasets.CIFAR10(\"content\", train=True, download=True)\n",
        "\n",
        "np.random.seed(42)\n",
        "data, _, labels, _ = train_test_split(dataset.data / 255,  # Normalize\n",
        "                                      np.array(dataset.targets),\n",
        "                                      train_size=0.1, # get only fraction of the dataset\n",
        "                                      random_state=42,\n",
        "                                      stratify=dataset.targets)\n"
      ],
      "id": "6148da85"
    },
    {
      "cell_type": "markdown",
      "metadata": {
        "id": "e43d73a7"
      },
      "source": [
        "Посмотрим что это за датасет такой"
      ],
      "id": "e43d73a7"
    },
    {
      "cell_type": "code",
      "execution_count": 216,
      "metadata": {
        "id": "137591a1",
        "colab": {
          "base_uri": "https://localhost:8080/"
        },
        "outputId": "964ef388-8dcb-4351-ae4e-3de34f11bd37"
      },
      "outputs": [
        {
          "output_type": "execute_result",
          "data": {
            "text/plain": [
              "(5000, 32, 32, 3)"
            ]
          },
          "metadata": {},
          "execution_count": 216
        }
      ],
      "source": [
        "data.shape"
      ],
      "id": "137591a1"
    },
    {
      "cell_type": "markdown",
      "metadata": {
        "id": "9578b6ec"
      },
      "source": [
        "CIFAR - 4х мерный массив (N, W, H, C). $N$ - количество картинок, $W$ - ширина картинки, $H$ - высота картинки, $C$ - количество каналов (RGB)."
      ],
      "id": "9578b6ec"
    },
    {
      "cell_type": "markdown",
      "metadata": {
        "id": "4d8fdff7"
      },
      "source": [
        "Создайте subplots с 2мя строками и 2мя колонками и отобразите 4 любых картинки из `data`.\n",
        "Используйте `plt.imshow()`"
      ],
      "id": "4d8fdff7"
    },
    {
      "cell_type": "code",
      "execution_count": 217,
      "metadata": {
        "id": "8af49e4a",
        "colab": {
          "base_uri": "https://localhost:8080/",
          "height": 433
        },
        "outputId": "72171101-2199-4c50-de71-c1bd173572aa"
      },
      "outputs": [
        {
          "output_type": "display_data",
          "data": {
            "text/plain": [
              "<Figure size 640x480 with 4 Axes>"
            ],
            "image/png": "[encoded data removed]"
          },
          "metadata": {}
        }
      ],
      "source": [
        "import matplotlib.pyplot as plt\n",
        "\n",
        "fig, ax = plt.subplots(nrows=2, ncols=2)\n",
        "\n",
        "ax[0, 0].imshow(data[0])# Your code here\n",
        "ax[0, 1].imshow(data[1])# Your code here\n",
        "ax[1, 0].imshow(data[2])# Your code here\n",
        "ax[1, 1].imshow(data[-1])# Your code here\n",
        "plt.show()"
      ],
      "id": "8af49e4a"
    },
    {
      "cell_type": "markdown",
      "metadata": {
        "id": "41c1304a"
      },
      "source": [
        "Разбейте датасет на тренировочный и тестовый наборы. Укажите аргументы `random_state=42`, `stratify=labels`"
      ],
      "id": "41c1304a"
    },
    {
      "cell_type": "code",
      "execution_count": 218,
      "metadata": {
        "id": "18dddae9",
        "colab": {
          "base_uri": "https://localhost:8080/"
        },
        "outputId": "e4485382-4d60-4963-e9d7-874f7c41f940"
      },
      "outputs": [
        {
          "output_type": "stream",
          "name": "stdout",
          "text": [
            "x_train (3000, 32, 32, 3)\n",
            "x_test (2000, 32, 32, 3)\n"
          ]
        }
      ],
      "source": [
        "from sklearn.model_selection import train_test_split\n",
        "\n",
        "x_train, x_test, y_train, y_test = train_test_split(data, labels, train_size=0.6, random_state=42, stratify=labels)\n",
        "\n",
        "print(\"x_train\", x_train.shape)\n",
        "print(\"x_test\", x_test.shape)"
      ],
      "id": "18dddae9"
    },
    {
      "cell_type": "markdown",
      "metadata": {
        "id": "23f3c919"
      },
      "source": [
        "Возьмите первую картинку из тестового набора и найдите ее ближайшего соседа из тренировочного"
      ],
      "id": "23f3c919"
    },
    {
      "cell_type": "code",
      "execution_count": 219,
      "metadata": {
        "id": "3dc4ec1e",
        "colab": {
          "base_uri": "https://localhost:8080/"
        },
        "outputId": "aad99f0e-86c6-4e1d-c390-4a87893691b0"
      },
      "outputs": [
        {
          "output_type": "stream",
          "name": "stdout",
          "text": [
            "561\n"
          ]
        }
      ],
      "source": [
        "xtr = np.array([x_train[i].flatten() for i in range(len(x_train))]) # Xtr станет  3000 x 3072\n",
        "xte = np.array([x_test[i].flatten() for i in range(len(x_test))]) # Xte станет 2000 x 3072\n",
        "distances = np.array([compute_L1(xte[0,:], b) for b in xtr])\n",
        "indx = np.argmin(distances)\n",
        "print(indx)"
      ],
      "id": "3dc4ec1e"
    },
    {
      "cell_type": "markdown",
      "metadata": {
        "id": "305619bb"
      },
      "source": [
        "**Отобразите эти картинки на subplots с ncols=2**"
      ],
      "id": "305619bb"
    },
    {
      "cell_type": "code",
      "execution_count": 220,
      "metadata": {
        "id": "ad55ae84",
        "colab": {
          "base_uri": "https://localhost:8080/",
          "height": 288
        },
        "outputId": "0931c3ae-dae0-4ce4-d8ba-6cec7c7bc78d"
      },
      "outputs": [
        {
          "output_type": "display_data",
          "data": {
            "text/plain": [
              "<Figure size 640x480 with 2 Axes>"
            ],
            "image/png": "[encoded data removed]"
          },
          "metadata": {}
        }
      ],
      "source": [
        "fig, ax = plt.subplots(nrows=1, ncols=2)\n",
        "ax[0].imshow(x_test[0])\n",
        "ax[1].imshow(x_train[indx])\n",
        "plt.show()"
      ],
      "id": "ad55ae84"
    },
    {
      "cell_type": "markdown",
      "metadata": {
        "id": "e354b4d6"
      },
      "source": [
        "**Посмотрите какой класс предсказывается**"
      ],
      "id": "e354b4d6"
    },
    {
      "cell_type": "code",
      "execution_count": 221,
      "metadata": {
        "id": "dd13c470",
        "colab": {
          "base_uri": "https://localhost:8080/"
        },
        "outputId": "e55d9ccc-d303-47be-b5b1-4a553fd91b12"
      },
      "outputs": [
        {
          "output_type": "stream",
          "name": "stdout",
          "text": [
            "8\n"
          ]
        }
      ],
      "source": [
        "class_pred = y_test[indx]\n",
        "print(class_pred)"
      ],
      "id": "dd13c470"
    },
    {
      "cell_type": "markdown",
      "metadata": {
        "id": "3416bf44"
      },
      "source": [
        "Возьмите первую картинку из тестового набора и найдите K ее ближайших соседей (KNN) из тренировочного"
      ],
      "id": "3416bf44"
    },
    {
      "cell_type": "code",
      "execution_count": 222,
      "metadata": {
        "id": "bdf6526e",
        "colab": {
          "base_uri": "https://localhost:8080/"
        },
        "outputId": "be72d1d8-99c5-4720-e9c6-c9d055be105d"
      },
      "outputs": [
        {
          "output_type": "stream",
          "name": "stdout",
          "text": [
            "[ 561  445 2380  793 1928]\n"
          ]
        }
      ],
      "source": [
        "k = 5\n",
        "distances = np.array([compute_L1(xte[0,:], b) for b in xtr])\n",
        "indx = np.argsort(distances)[:k]\n",
        "print(indx)"
      ],
      "id": "bdf6526e"
    },
    {
      "cell_type": "markdown",
      "metadata": {
        "id": "3c97e22f"
      },
      "source": [
        "Отобразите ближайших соседей в виде subplots"
      ],
      "id": "3c97e22f"
    },
    {
      "cell_type": "code",
      "execution_count": 223,
      "metadata": {
        "id": "f71e1e3f",
        "colab": {
          "base_uri": "https://localhost:8080/",
          "height": 197
        },
        "outputId": "00284ba9-fb82-4808-decd-cdc25405f8de"
      },
      "outputs": [
        {
          "output_type": "display_data",
          "data": {
            "text/plain": [
              "<Figure size 1000x500 with 5 Axes>"
            ],
            "image/png": "[encoded data removed]"
          },
          "metadata": {}
        }
      ],
      "source": [
        "fig, ax = plt.subplots(nrows=1, ncols=5, figsize=(10, 5))\n",
        "ax[0].imshow(x_train[indx[0]])\n",
        "ax[1].imshow(x_train[indx[1]])\n",
        "ax[2].imshow(x_train[indx[2]])\n",
        "ax[3].imshow(x_train[indx[3]])\n",
        "ax[4].imshow(x_train[indx[4]])\n",
        "plt.show()"
      ],
      "id": "f71e1e3f"
    },
    {
      "cell_type": "markdown",
      "metadata": {
        "id": "31f9f071"
      },
      "source": [
        "Посчитайте KNN для всего датасета"
      ],
      "id": "31f9f071"
    },
    {
      "cell_type": "markdown",
      "metadata": {
        "id": "8bff266a"
      },
      "source": [
        "Чем больше данных - тем дольше процесс. Реализуйте функцию для расчета расстояний. Если вы используете `for loops` - сделайте к ним *progress bars* с помощью [tqdm](https://github.com/tqdm/tqdm)\n",
        "\n",
        "Примечание: если используете вложенные циклы используйте `tqdm` только на внешнем цикле. Иначе время работы существенно увеличится."
      ],
      "id": "8bff266a"
    },
    {
      "cell_type": "code",
      "execution_count": 224,
      "metadata": {
        "id": "5fe076ff"
      },
      "outputs": [],
      "source": [
        "from tqdm.notebook import tqdm"
      ],
      "id": "5fe076ff"
    },
    {
      "cell_type": "code",
      "execution_count": 225,
      "metadata": {
        "id": "b896b3ba",
        "colab": {
          "base_uri": "https://localhost:8080/",
          "height": 49,
          "referenced_widgets": [
            "14728d0ba6d045d292795465eb392e91",
            "39df154db7aa417ba2e2f09bee34bf8a",
            "c9378bb0dbb44bb2813361b88af86b65",
            "9c8ffba929504ad39ca587bacbb6b4ad",
            "886a0192903445e9846596091c3cb075",
            "df0e3d0e21d549469abd95fc208629d1",
            "06993f490f3249b6b14447756c66e157",
            "6e2f9b9705714bb5a339f0414e004421",
            "a4184facc6924466bed88448e89b2e30",
            "e28833b60a49480798db5b6df897041e",
            "d939201bf34c4cb890a59749457f4e7f"
          ]
        },
        "outputId": "6ebd7106-d68f-41ec-8639-eac1defc46fa"
      },
      "outputs": [
        {
          "output_type": "display_data",
          "data": {
            "text/plain": [
              "  0%|          | 0/2000 [00:00<?, ?it/s]"
            ],
            "application/vnd.jupyter.widget-view+json": {
              "version_major": 2,
              "version_minor": 0,
              "model_id": "14728d0ba6d045d292795465eb392e91"
            }
          },
          "metadata": {}
        }
      ],
      "source": [
        "def compute_distances(train, test, distance_func):\n",
        "    distances = [0]*test.shape[0]\n",
        "    for i in tqdm(range(test.shape[0])):\n",
        "      distances[i] = np.array([distance_func(test[i,:], b) for b in train])\n",
        "    return distances\n",
        "distances = np.array(compute_distances(xtr, xte, compute_L1))"
      ],
      "id": "b896b3ba"
    },
    {
      "cell_type": "markdown",
      "metadata": {
        "id": "a2b80146"
      },
      "source": [
        "Теперь найдите k ближайших соседей и предскажите класс. [scipy.stats.mode](https://docs.scipy.org/doc/scipy/reference/generated/scipy.stats.mode.html)"
      ],
      "id": "a2b80146"
    },
    {
      "cell_type": "code",
      "execution_count": 226,
      "metadata": {
        "id": "f6b700fa",
        "colab": {
          "base_uri": "https://localhost:8080/"
        },
        "outputId": "ca3c3707-643c-4343-8069-77f29046e6d7"
      },
      "outputs": [
        {
          "output_type": "stream",
          "name": "stdout",
          "text": [
            "predicted class is [3 4 1 ... 2 5 2]\n"
          ]
        }
      ],
      "source": [
        "from scipy.stats import mode\n",
        "indxs = np.array([np.argsort(distance)[:k] for distance in distances])\n",
        "pred = mode(y_train[indxs], axis=1)[0].flatten()\n",
        "print('predicted class is',pred)\n",
        "def get_accuracy(distances, train_labels, test_labels, k):\n",
        "    indxs = np.array([np.argsort(distance)[:k] for distance in distances])\n",
        "    pred = mode(y_train[indxs], axis=1)[0].flatten()\n",
        "    accuracy = np.mean(np.array(test_labels==pred))\n",
        "    return accuracy"
      ],
      "id": "f6b700fa"
    },
    {
      "cell_type": "code",
      "execution_count": 227,
      "metadata": {
        "id": "22aed749",
        "colab": {
          "base_uri": "https://localhost:8080/"
        },
        "outputId": "a428ca58-b0ce-4e49-8bca-83103a8b181c"
      },
      "outputs": [
        {
          "output_type": "stream",
          "name": "stdout",
          "text": [
            "Accuracy = 29%\n"
          ]
        }
      ],
      "source": [
        "accuracy = get_accuracy(distances, y_train, y_test, k)\n",
        "print(f'Accuracy = {accuracy * 100:.0f}%')"
      ],
      "id": "22aed749"
    },
    {
      "cell_type": "markdown",
      "metadata": {
        "id": "06147115"
      },
      "source": [
        "**Посчитайте точность для k=1..100 и постройте график точности от k**"
      ],
      "id": "06147115"
    },
    {
      "cell_type": "code",
      "execution_count": 228,
      "metadata": {
        "id": "ab010768",
        "colab": {
          "base_uri": "https://localhost:8080/",
          "height": 49,
          "referenced_widgets": [
            "eff9d55e2f094ad4acfb2222c9c2b57e",
            "58a6f472573c4656bc7ace8ba656f70c",
            "d8ef69933fea4b6da0af76514fab66f6",
            "3d773c74ec6c4589801e11fff3825eef",
            "c27bb5d4ee204531b4cf544d41231f0e",
            "b54257678d3c40a18ae65116862ad171",
            "2616432ad1bb42cc92f6c9d05ad4012c",
            "9b50055eb559407a82c44fcd9e9a7580",
            "21249314d36d4922971fe53dadf0b145",
            "49abc60881c44b3caaeac90cee461bbd",
            "ece4b280955b4ed89dcca82b0270bde1"
          ]
        },
        "outputId": "e7d8e021-a7e2-4cdc-a3ab-2a11bc7954b2"
      },
      "outputs": [
        {
          "output_type": "display_data",
          "data": {
            "text/plain": [
              "  0%|          | 0/99 [00:00<?, ?it/s]"
            ],
            "application/vnd.jupyter.widget-view+json": {
              "version_major": 2,
              "version_minor": 0,
              "model_id": "eff9d55e2f094ad4acfb2222c9c2b57e"
            }
          },
          "metadata": {}
        }
      ],
      "source": [
        "acc = []\n",
        "for k in tqdm(range(1, 100)):\n",
        "    acc.append(get_accuracy(distances, y_train, y_test, k) * 100)"
      ],
      "id": "ab010768"
    },
    {
      "cell_type": "code",
      "execution_count": 229,
      "metadata": {
        "id": "f73fc259",
        "colab": {
          "base_uri": "https://localhost:8080/",
          "height": 430
        },
        "outputId": "152fd5e7-21ee-4baa-a63f-d26c5dc0d5aa"
      },
      "outputs": [
        {
          "output_type": "display_data",
          "data": {
            "text/plain": [
              "<Figure size 640x480 with 1 Axes>"
            ],
            "image/png": "[encoded data removed]"
          },
          "metadata": {}
        }
      ],
      "source": [
        "kk = np.arange(1,100)\n",
        "plt.plot(kk, acc)\n",
        "plt.show()"
      ],
      "id": "f73fc259"
    },
    {
      "cell_type": "markdown",
      "metadata": {
        "id": "f4e436f7"
      },
      "source": [
        "Поменяйте расстоянние L1 на L2 и сравните точность на всем датасете."
      ],
      "id": "f4e436f7"
    },
    {
      "cell_type": "code",
      "execution_count": 230,
      "metadata": {
        "colab": {
          "base_uri": "https://localhost:8080/",
          "height": 49,
          "referenced_widgets": [
            "85da69a616bc42dc86f1d2425813391c",
            "b005b6f45cd449509b503708c139468c",
            "b36b753c77b14d20a5e80ec5eedb6bb4",
            "2c25ed71a33e4c52a6fe39b44c5ba49a",
            "7377b3b5abd044408771d508ee585c18",
            "ce5341b77f6542679789f13728afe253",
            "de6da886499446e69490a3c31113ea93",
            "53ead335578d46cfb89ff0e0d0b9d59e",
            "9f3ecc216cfd4d0285e615fd59cd2125",
            "be941259f5b3405cb2b46d1266bce48f",
            "0966385d2e0843aea8c623c4f78810a8"
          ]
        },
        "id": "5de00ddc",
        "outputId": "d8f1d2bc-68b3-41ac-ac2f-e9ff2c048918"
      },
      "outputs": [
        {
          "output_type": "display_data",
          "data": {
            "text/plain": [
              "  0%|          | 0/2000 [00:00<?, ?it/s]"
            ],
            "application/vnd.jupyter.widget-view+json": {
              "version_major": 2,
              "version_minor": 0,
              "model_id": "85da69a616bc42dc86f1d2425813391c"
            }
          },
          "metadata": {}
        }
      ],
      "source": [
        "def distance_func_l2(a,b):\n",
        "    r = (a-b)**2\n",
        "    dist = (sum(r))**1/2\n",
        "    return dist\n",
        "def compute_L2(train, test,distance_func_l2):\n",
        "    distances = [0]*test.shape[0]\n",
        "    for i in tqdm(range(test.shape[0])):\n",
        "      distances[i] = np.array([distance_func_l2(test[i,:], b) for b in train])\n",
        "    return distances\n",
        "distances = np.array(compute_L2(xtr, xte, distance_func_l2))"
      ],
      "id": "5de00ddc"
    },
    {
      "cell_type": "code",
      "execution_count": 231,
      "metadata": {
        "colab": {
          "base_uri": "https://localhost:8080/",
          "height": 49,
          "referenced_widgets": [
            "469e814fb9334836892612e71f164870",
            "95a9d012660c464aaa686994498e2170",
            "06bdfe2bcd284ed49ccec68cd340bff6",
            "eaebf4565f414a8eb3bd41fa0fb73c6d",
            "061cfb827bcd4997b9a3e02f42fe27a1",
            "d631389524594fbd90927505825817fc",
            "2e28fc6308ea4886b2936243cf5d4857",
            "5e06a932866041348646b857685607b7",
            "f229c87892da4c6e8e78462c32985066",
            "084ce2250b08491781db6775615972fe",
            "f81f3b2c30da48c89f68ffacc49dec8c"
          ]
        },
        "id": "c4730218",
        "outputId": "1223eba9-3a17-4521-f61a-bf1db24bd56e"
      },
      "outputs": [
        {
          "output_type": "display_data",
          "data": {
            "text/plain": [
              "  0%|          | 0/99 [00:00<?, ?it/s]"
            ],
            "application/vnd.jupyter.widget-view+json": {
              "version_major": 2,
              "version_minor": 0,
              "model_id": "469e814fb9334836892612e71f164870"
            }
          },
          "metadata": {}
        }
      ],
      "source": [
        "acc_l2 = []\n",
        "for k in tqdm(range(1, 100)):\n",
        "    acc_l2.append(get_accuracy(distances, y_train, y_test, k) * 100)"
      ],
      "id": "c4730218"
    },
    {
      "cell_type": "code",
      "execution_count": 232,
      "metadata": {
        "colab": {
          "base_uri": "https://localhost:8080/",
          "height": 465
        },
        "id": "a1cad4cf",
        "outputId": "f0cb272c-ca6d-4ff8-e3fa-44f116206415"
      },
      "outputs": [
        {
          "output_type": "display_data",
          "data": {
            "text/plain": [
              "<Figure size 640x480 with 1 Axes>"
            ],
            "image/png": "[encoded data removed]"
          },
          "metadata": {}
        },
        {
          "output_type": "stream",
          "name": "stdout",
          "text": [
            "best k for l1 metric = 16\n",
            "best k for l2 metric = 26\n"
          ]
        }
      ],
      "source": [
        "plt.plot(kk, acc)\n",
        "plt.plot(kk, acc_l2)\n",
        "plt.legend(['l1','l2'])\n",
        "plt.show()\n",
        "max_k_l1 = np.argmax(acc)+1\n",
        "max_k_l2 = np.argmax(acc_l2)+1\n",
        "print('best k for l1 metric =',max_k_l1)\n",
        "print('best k for l2 metric =',max_k_l2)"
      ],
      "id": "a1cad4cf"
    },
    {
      "cell_type": "markdown",
      "metadata": {
        "id": "b2f28cb1"
      },
      "source": [
        "### Формат результата"
      ],
      "id": "b2f28cb1"
    },
    {
      "cell_type": "markdown",
      "metadata": {
        "id": "cd215f46"
      },
      "source": [
        "* График сравнения точности для L1 и L2 при различных k.\n",
        "* Число k при котором достигается лучшая точность"
      ],
      "id": "cd215f46"
    },
    {
      "cell_type": "markdown",
      "metadata": {
        "id": "68dfa63d"
      },
      "source": [
        "Пример графика:\n",
        "\n",
        "<img src =\"https://edunet.kea.su/repo/EduNet-web_dependencies/Exercises/EX01/result_4_task.png\" width=\"300\">"
      ],
      "id": "68dfa63d"
    },
    {
      "cell_type": "markdown",
      "metadata": {
        "id": "8f3f1bb6"
      },
      "source": [
        "### Задание 3 (EXTRA). Реализация kNN"
      ],
      "id": "8f3f1bb6"
    },
    {
      "cell_type": "markdown",
      "metadata": {
        "id": "099941e0"
      },
      "source": [
        "Часто KNN реализуют в концепции Объектно-Ориентированного Программирования (ООП). Создайте класс kNN и реализуйте у него методы"
      ],
      "id": "099941e0"
    },
    {
      "cell_type": "code",
      "execution_count": 233,
      "metadata": {
        "id": "1952aa3d"
      },
      "outputs": [],
      "source": [
        "class kNN:\n",
        "    def __init__(self, k, distance_func):\n",
        "        self.k = k\n",
        "        self.distance_func = distance_func\n",
        "        self.train_data = []\n",
        "        self.train_labels = []\n",
        "\n",
        "    def fit(self, x, y):\n",
        "        self.train_data = x\n",
        "        self.train_labels = y\n",
        "\n",
        "    def predict(self, x):\n",
        "        distances = self.compute_distances(x)\n",
        "        indexes = np.argsort(distances, axis=1)[:, :self.k]\n",
        "        labels_of_top_classes = self.train_labels[indexes]\n",
        "        predicted_class, _ = mode(labels_of_top_classes, axis=1)\n",
        "        return predicted_class.flatten()\n",
        "\n",
        "    def compute_distances(self, test):\n",
        "        distances = [0]*test.shape[0]\n",
        "        for i in tqdm(range(test.shape[0])):\n",
        "          distances[i] = np.array([self.distance_func(test[i,:], b) for b in self.train_data])\n",
        "        return distances"
      ],
      "id": "1952aa3d"
    },
    {
      "cell_type": "code",
      "execution_count": 234,
      "metadata": {
        "id": "c4ed13c8",
        "colab": {
          "base_uri": "https://localhost:8080/",
          "height": 84,
          "referenced_widgets": [
            "1a10caeff0a543fb9626db9458b7863a",
            "41e49cbcf3104c139d841e3b9b30c86f",
            "53b9528ff2874f74b48ba1bd8cd516de",
            "0793334e7e704439bb98a388c15f8f3d",
            "316547333f444d9f88a3b36fb12f9997",
            "fede4d9c56fa4c3087e4688df2f32afc",
            "06b54a30179e4549ac61a55902a71a30",
            "02c0f49bd4294a03892ff87ac188de05",
            "bb049e353a494ad29a2300961d6e3ba3",
            "a96fda4945ac4028a7adfcc9c4ac0bf8",
            "04b34948cd834b26b3afe7942ea7f5eb"
          ]
        },
        "outputId": "06b72d3f-76ce-4c18-b3a4-9a88dcb7e260"
      },
      "outputs": [
        {
          "output_type": "display_data",
          "data": {
            "text/plain": [
              "  0%|          | 0/2000 [00:00<?, ?it/s]"
            ],
            "application/vnd.jupyter.widget-view+json": {
              "version_major": 2,
              "version_minor": 0,
              "model_id": "1a10caeff0a543fb9626db9458b7863a"
            }
          },
          "metadata": {}
        },
        {
          "output_type": "stream",
          "name": "stdout",
          "text": [
            "CPU times: user 37min 24s, sys: 22.2 s, total: 37min 47s\n",
            "Wall time: 37min 56s\n"
          ]
        }
      ],
      "source": [
        "%%time\n",
        "kNN_classifier = kNN(k=1, distance_func=compute_L1)\n",
        "kNN_classifier.fit(x=xtr, y=y_train)\n",
        "out = kNN_classifier.predict(xte)"
      ],
      "id": "c4ed13c8"
    },
    {
      "cell_type": "code",
      "execution_count": 235,
      "metadata": {
        "id": "79b7d1be",
        "colab": {
          "base_uri": "https://localhost:8080/"
        },
        "outputId": "ef80d226-947a-40f2-e077-ff7a7806298b"
      },
      "outputs": [
        {
          "output_type": "stream",
          "name": "stdout",
          "text": [
            "Accuracy = 28%\n"
          ]
        }
      ],
      "source": [
        "acur = np.mean(y_test == out)\n",
        "print(f'Accuracy = {acur * 100:.0f}%')"
      ],
      "id": "79b7d1be"
    },
    {
      "cell_type": "markdown",
      "metadata": {
        "id": "ec4d2622"
      },
      "source": [
        "Сравните время работы вашей реализации и реализации из sklearn"
      ],
      "id": "ec4d2622"
    },
    {
      "cell_type": "code",
      "execution_count": 236,
      "metadata": {
        "id": "78468d41"
      },
      "outputs": [],
      "source": [
        "from sklearn.neighbors import KNeighborsClassifier"
      ],
      "id": "78468d41"
    },
    {
      "cell_type": "code",
      "execution_count": 237,
      "metadata": {
        "id": "64d0abee",
        "colab": {
          "base_uri": "https://localhost:8080/",
          "height": 109
        },
        "outputId": "9bb1453b-f093-4538-8209-f14008680a7d"
      },
      "outputs": [
        {
          "output_type": "stream",
          "name": "stdout",
          "text": [
            "CPU times: user 11.5 ms, sys: 0 ns, total: 11.5 ms\n",
            "Wall time: 12.2 ms\n"
          ]
        },
        {
          "output_type": "execute_result",
          "data": {
            "text/plain": [
              "KNeighborsClassifier(metric='l1', n_neighbors=1)"
            ],
            "text/html": [
              "<style>#sk-container-id-1 {color: black;background-color: white;}#sk-container-id-1 pre{padding: 0;}#sk-container-id-1 div.sk-toggleable {background-color: white;}#sk-container-id-1 label.sk-toggleable__label {cursor: pointer;display: block;width: 100%;margin-bottom: 0;padding: 0.3em;box-sizing: border-box;text-align: center;}#sk-container-id-1 label.sk-toggleable__label-arrow:before {content: \"▸\";float: left;margin-right: 0.25em;color: #696969;}#sk-container-id-1 label.sk-toggleable__label-arrow:hover:before {color: black;}#sk-container-id-1 div.sk-estimator:hover label.sk-toggleable__label-arrow:before {color: black;}#sk-container-id-1 div.sk-toggleable__content {max-height: 0;max-width: 0;overflow: hidden;text-align: left;background-color: #f0f8ff;}#sk-container-id-1 div.sk-toggleable__content pre {margin: 0.2em;color: black;border-radius: 0.25em;background-color: #f0f8ff;}#sk-container-id-1 input.sk-toggleable__control:checked~div.sk-toggleable__content {max-height: 200px;max-width: 100%;overflow: auto;}#sk-container-id-1 input.sk-toggleable__control:checked~label.sk-toggleable__label-arrow:before {content: \"▾\";}#sk-container-id-1 div.sk-estimator input.sk-toggleable__control:checked~label.sk-toggleable__label {background-color: #d4ebff;}#sk-container-id-1 div.sk-label input.sk-toggleable__control:checked~label.sk-toggleable__label {background-color: #d4ebff;}#sk-container-id-1 input.sk-hidden--visually {border: 0;clip: rect(1px 1px 1px 1px);clip: rect(1px, 1px, 1px, 1px);height: 1px;margin: -1px;overflow: hidden;padding: 0;position: absolute;width: 1px;}#sk-container-id-1 div.sk-estimator {font-family: monospace;background-color: #f0f8ff;border: 1px dotted black;border-radius: 0.25em;box-sizing: border-box;margin-bottom: 0.5em;}#sk-container-id-1 div.sk-estimator:hover {background-color: #d4ebff;}#sk-container-id-1 div.sk-parallel-item::after {content: \"\";width: 100%;border-bottom: 1px solid gray;flex-grow: 1;}#sk-container-id-1 div.sk-label:hover label.sk-toggleable__label {background-color: #d4ebff;}#sk-container-id-1 div.sk-serial::before {content: \"\";position: absolute;border-left: 1px solid gray;box-sizing: border-box;top: 0;bottom: 0;left: 50%;z-index: 0;}#sk-container-id-1 div.sk-serial {display: flex;flex-direction: column;align-items: center;background-color: white;padding-right: 0.2em;padding-left: 0.2em;position: relative;}#sk-container-id-1 div.sk-item {position: relative;z-index: 1;}#sk-container-id-1 div.sk-parallel {display: flex;align-items: stretch;justify-content: center;background-color: white;position: relative;}#sk-container-id-1 div.sk-item::before, #sk-container-id-1 div.sk-parallel-item::before {content: \"\";position: absolute;border-left: 1px solid gray;box-sizing: border-box;top: 0;bottom: 0;left: 50%;z-index: -1;}#sk-container-id-1 div.sk-parallel-item {display: flex;flex-direction: column;z-index: 1;position: relative;background-color: white;}#sk-container-id-1 div.sk-parallel-item:first-child::after {align-self: flex-end;width: 50%;}#sk-container-id-1 div.sk-parallel-item:last-child::after {align-self: flex-start;width: 50%;}#sk-container-id-1 div.sk-parallel-item:only-child::after {width: 0;}#sk-container-id-1 div.sk-dashed-wrapped {border: 1px dashed gray;margin: 0 0.4em 0.5em 0.4em;box-sizing: border-box;padding-bottom: 0.4em;background-color: white;}#sk-container-id-1 div.sk-label label {font-family: monospace;font-weight: bold;display: inline-block;line-height: 1.2em;}#sk-container-id-1 div.sk-label-container {text-align: center;}#sk-container-id-1 div.sk-container {/* jupyter's `normalize.less` sets `[hidden] { display: none; }` but bootstrap.min.css set `[hidden] { display: none !important; }` so we also need the `!important` here to be able to override the default hidden behavior on the sphinx rendered scikit-learn.org. See: https://github.com/scikit-learn/scikit-learn/issues/21755 */display: inline-block !important;position: relative;}#sk-container-id-1 div.sk-text-repr-fallback {display: none;}</style><div id=\"sk-container-id-1\" class=\"sk-top-container\"><div class=\"sk-text-repr-fallback\"><pre>KNeighborsClassifier(metric=&#x27;l1&#x27;, n_neighbors=1)</pre><b>In a Jupyter environment, please rerun this cell to show the HTML representation or trust the notebook. <br />On GitHub, the HTML representation is unable to render, please try loading this page with nbviewer.org.</b></div><div class=\"sk-container\" hidden><div class=\"sk-item\"><div class=\"sk-estimator sk-toggleable\"><input class=\"sk-toggleable__control sk-hidden--visually\" id=\"sk-estimator-id-1\" type=\"checkbox\" checked><label for=\"sk-estimator-id-1\" class=\"sk-toggleable__label sk-toggleable__label-arrow\">KNeighborsClassifier</label><div class=\"sk-toggleable__content\"><pre>KNeighborsClassifier(metric=&#x27;l1&#x27;, n_neighbors=1)</pre></div></div></div></div></div>"
            ]
          },
          "metadata": {},
          "execution_count": 237
        }
      ],
      "source": [
        "%%time\n",
        "neigh = KNeighborsClassifier(n_neighbors=1, metric = 'l1')\n",
        "x_train_flatten = xtr\n",
        "x_test_flatten = xte\n",
        "neigh.fit(x_train_flatten, y_train)"
      ],
      "id": "64d0abee"
    },
    {
      "cell_type": "code",
      "execution_count": 238,
      "metadata": {
        "id": "bd99c9bc"
      },
      "outputs": [],
      "source": [
        "# make prediction\n",
        "preds = neigh.predict(x_test_flatten)"
      ],
      "id": "bd99c9bc"
    },
    {
      "cell_type": "code",
      "execution_count": 239,
      "metadata": {
        "id": "f5460e1b",
        "colab": {
          "base_uri": "https://localhost:8080/"
        },
        "outputId": "6a83dff5-023a-4935-984d-f2d6d01e1b3c"
      },
      "outputs": [
        {
          "output_type": "stream",
          "name": "stdout",
          "text": [
            "Accuracy = 28%\n"
          ]
        }
      ],
      "source": [
        "# compute accuracy\n",
        "accur = np.mean(y_test == preds)\n",
        "print(f'Accuracy = {accur * 100:.0f}%')"
      ],
      "id": "f5460e1b"
    },
    {
      "cell_type": "markdown",
      "metadata": {
        "id": "edbdb3b9"
      },
      "source": [
        "### Формат результата"
      ],
      "id": "edbdb3b9"
    },
    {
      "cell_type": "markdown",
      "metadata": {
        "id": "d18a6035"
      },
      "source": [
        "Демонстрация времени работы вашей реализации и реализации из sklearn (с помощью %%time)"
      ],
      "id": "d18a6035"
    },
    {
      "cell_type": "markdown",
      "metadata": {
        "id": "02a74fea"
      },
      "source": [
        "## SVM"
      ],
      "id": "02a74fea"
    },
    {
      "cell_type": "markdown",
      "metadata": {
        "id": "56751603"
      },
      "source": [
        "### Задание 4. Классификация с помощью метода опорных векторов"
      ],
      "id": "56751603"
    },
    {
      "cell_type": "code",
      "execution_count": 240,
      "metadata": {
        "id": "2f8a0c66"
      },
      "outputs": [],
      "source": [
        "import pandas as pd\n",
        "import numpy as np\n",
        "from sklearn.linear_model import LogisticRegression\n",
        "import seaborn as sns\n",
        "from sklearn.pipeline import make_pipeline\n",
        "from sklearn.preprocessing import StandardScaler\n",
        "from sklearn.model_selection import train_test_split\n",
        "from sklearn.svm import SVC"
      ],
      "id": "2f8a0c66"
    },
    {
      "cell_type": "markdown",
      "metadata": {
        "id": "0e6229fa"
      },
      "source": [
        "**Снова будем работать с данными датасета adult.csv**"
      ],
      "id": "0e6229fa"
    },
    {
      "cell_type": "markdown",
      "metadata": {
        "id": "ce5224e9"
      },
      "source": [
        "- Загружаем данные"
      ],
      "id": "ce5224e9"
    },
    {
      "cell_type": "code",
      "execution_count": 241,
      "metadata": {
        "id": "0f55f26e",
        "colab": {
          "base_uri": "https://localhost:8080/"
        },
        "outputId": "97554460-227e-4e3e-ac22-ba178708407d"
      },
      "outputs": [
        {
          "output_type": "stream",
          "name": "stdout",
          "text": [
            "       age     workclass  fnlwgt     education  educational-num  \\\n",
            "0       25       Private  226802          11th                7   \n",
            "1       38       Private   89814       HS-grad                9   \n",
            "2       28     Local-gov  336951    Assoc-acdm               12   \n",
            "3       44       Private  160323  Some-college               10   \n",
            "4       18             ?  103497  Some-college               10   \n",
            "...    ...           ...     ...           ...              ...   \n",
            "48837   27       Private  257302    Assoc-acdm               12   \n",
            "48838   40       Private  154374       HS-grad                9   \n",
            "48839   58       Private  151910       HS-grad                9   \n",
            "48840   22       Private  201490       HS-grad                9   \n",
            "48841   52  Self-emp-inc  287927       HS-grad                9   \n",
            "\n",
            "           marital-status         occupation relationship   race  gender  \\\n",
            "0           Never-married  Machine-op-inspct    Own-child  Black    Male   \n",
            "1      Married-civ-spouse    Farming-fishing      Husband  White    Male   \n",
            "2      Married-civ-spouse    Protective-serv      Husband  White    Male   \n",
            "3      Married-civ-spouse  Machine-op-inspct      Husband  Black    Male   \n",
            "4           Never-married                  ?    Own-child  White  Female   \n",
            "...                   ...                ...          ...    ...     ...   \n",
            "48837  Married-civ-spouse       Tech-support         Wife  White  Female   \n",
            "48838  Married-civ-spouse  Machine-op-inspct      Husband  White    Male   \n",
            "48839             Widowed       Adm-clerical    Unmarried  White  Female   \n",
            "48840       Never-married       Adm-clerical    Own-child  White    Male   \n",
            "48841  Married-civ-spouse    Exec-managerial         Wife  White  Female   \n",
            "\n",
            "       capital-gain  capital-loss  hours-per-week native-country income  \n",
            "0                 0             0              40  United-States  <=50K  \n",
            "1                 0             0              50  United-States  <=50K  \n",
            "2                 0             0              40  United-States   >50K  \n",
            "3              7688             0              40  United-States   >50K  \n",
            "4                 0             0              30  United-States  <=50K  \n",
            "...             ...           ...             ...            ...    ...  \n",
            "48837             0             0              38  United-States  <=50K  \n",
            "48838             0             0              40  United-States   >50K  \n",
            "48839             0             0              40  United-States  <=50K  \n",
            "48840             0             0              20  United-States  <=50K  \n",
            "48841         15024             0              40  United-States   >50K  \n",
            "\n",
            "[48842 rows x 15 columns]\n"
          ]
        }
      ],
      "source": [
        "df = pd.read_csv('adult.csv')\n",
        "print(df)"
      ],
      "id": "0f55f26e"
    },
    {
      "cell_type": "markdown",
      "metadata": {
        "id": "5ac526d6"
      },
      "source": [
        "- Первичный анализ"
      ],
      "id": "5ac526d6"
    },
    {
      "cell_type": "code",
      "execution_count": 242,
      "metadata": {
        "id": "fe5ce90f",
        "colab": {
          "base_uri": "https://localhost:8080/"
        },
        "outputId": "b885d2fb-e329-46e9-917b-a8babd29f1e5"
      },
      "outputs": [
        {
          "output_type": "stream",
          "name": "stdout",
          "text": [
            "int64\n",
            "17 90\n",
            "int8\n"
          ]
        }
      ],
      "source": [
        "print(df['age'].dtype)\n",
        "print(df['age'].min(), df['age'].max())\n",
        "df['age'] = df['age'].astype('int8')\n",
        "print(df['age'].dtype)"
      ],
      "id": "fe5ce90f"
    },
    {
      "cell_type": "code",
      "execution_count": 243,
      "metadata": {
        "id": "Km8cOAM_xMJ6",
        "colab": {
          "base_uri": "https://localhost:8080/"
        },
        "outputId": "bdf57738-45e2-4148-c1a8-bbc818922259"
      },
      "outputs": [
        {
          "output_type": "stream",
          "name": "stdout",
          "text": [
            "int64\n",
            "12285 1490400\n",
            "int32\n"
          ]
        }
      ],
      "source": [
        "print(df['fnlwgt'].dtype)\n",
        "print(df['fnlwgt'].min(), df['fnlwgt'].max())\n",
        "df['fnlwgt'] = df['fnlwgt'].astype('int32')\n",
        "print(df['fnlwgt'].dtype)"
      ],
      "id": "Km8cOAM_xMJ6"
    },
    {
      "cell_type": "code",
      "execution_count": 244,
      "metadata": {
        "id": "SpnMDzrjxOUJ",
        "colab": {
          "base_uri": "https://localhost:8080/"
        },
        "outputId": "5352c6b4-c5dd-4363-de3c-cd4c269cc279"
      },
      "outputs": [
        {
          "output_type": "stream",
          "name": "stdout",
          "text": [
            "int64\n",
            "1 16\n",
            "int8\n"
          ]
        }
      ],
      "source": [
        "print(df['educational-num'].dtype)\n",
        "print(df['educational-num'].min(), df['educational-num'].max())\n",
        "df['educational-num'] = df['educational-num'].astype('int8')\n",
        "print(df['educational-num'].dtype)"
      ],
      "id": "SpnMDzrjxOUJ"
    },
    {
      "cell_type": "code",
      "execution_count": 245,
      "metadata": {
        "id": "m332BwSXxUOX",
        "colab": {
          "base_uri": "https://localhost:8080/"
        },
        "outputId": "a1846cb6-7b01-43a9-9bb9-6598e5147c94"
      },
      "outputs": [
        {
          "output_type": "stream",
          "name": "stdout",
          "text": [
            "int64\n",
            "0 99999\n",
            "int32\n"
          ]
        }
      ],
      "source": [
        "print(df['capital-gain'].dtype)\n",
        "print(df['capital-gain'].min(), df['capital-gain'].max())\n",
        "df['capital-gain'] = df['capital-gain'].astype('int32')\n",
        "print(df['capital-gain'].dtype)"
      ],
      "id": "m332BwSXxUOX"
    },
    {
      "cell_type": "code",
      "execution_count": 246,
      "metadata": {
        "id": "EGxY4itqxUvX",
        "colab": {
          "base_uri": "https://localhost:8080/"
        },
        "outputId": "57ba2cf2-8fcd-4770-ceaf-18f9db47f644"
      },
      "outputs": [
        {
          "output_type": "stream",
          "name": "stdout",
          "text": [
            "int64\n",
            "0 4356\n",
            "int16\n"
          ]
        }
      ],
      "source": [
        "print(df['capital-loss'].dtype)\n",
        "print(df['capital-loss'].min(), df['capital-loss'].max())\n",
        "df['capital-loss'] = df['capital-loss'].astype('int16')\n",
        "print(df['capital-loss'].dtype)"
      ],
      "id": "EGxY4itqxUvX"
    },
    {
      "cell_type": "code",
      "execution_count": 247,
      "metadata": {
        "id": "0eOH3NHJxW5h",
        "colab": {
          "base_uri": "https://localhost:8080/"
        },
        "outputId": "b3251f04-90a2-4a75-c2af-1a20569681a0"
      },
      "outputs": [
        {
          "output_type": "stream",
          "name": "stdout",
          "text": [
            "int64\n",
            "1 99\n",
            "int8\n"
          ]
        }
      ],
      "source": [
        "print(df['hours-per-week'].dtype)\n",
        "print(df['hours-per-week'].min(), df['hours-per-week'].max())\n",
        "df['hours-per-week'] = df['hours-per-week'].astype('int8')\n",
        "print(df['hours-per-week'].dtype)"
      ],
      "id": "0eOH3NHJxW5h"
    },
    {
      "cell_type": "code",
      "execution_count": 248,
      "metadata": {
        "id": "4143d69c",
        "colab": {
          "base_uri": "https://localhost:8080/"
        },
        "outputId": "441cf9f0-7f99-47b4-df7f-2c67600cceef"
      },
      "outputs": [
        {
          "output_type": "stream",
          "name": "stdout",
          "text": [
            "<class 'pandas.core.frame.DataFrame'>\n",
            "RangeIndex: 48842 entries, 0 to 48841\n",
            "Data columns (total 15 columns):\n",
            " #   Column           Non-Null Count  Dtype \n",
            "---  ------           --------------  ----- \n",
            " 0   age              48842 non-null  int8  \n",
            " 1   workclass        48842 non-null  object\n",
            " 2   fnlwgt           48842 non-null  int32 \n",
            " 3   education        48842 non-null  object\n",
            " 4   educational-num  48842 non-null  int8  \n",
            " 5   marital-status   48842 non-null  object\n",
            " 6   occupation       48842 non-null  object\n",
            " 7   relationship     48842 non-null  object\n",
            " 8   race             48842 non-null  object\n",
            " 9   gender           48842 non-null  object\n",
            " 10  capital-gain     48842 non-null  int32 \n",
            " 11  capital-loss     48842 non-null  int16 \n",
            " 12  hours-per-week   48842 non-null  int8  \n",
            " 13  native-country   48842 non-null  object\n",
            " 14  income           48842 non-null  object\n",
            "dtypes: int16(1), int32(2), int8(3), object(9)\n",
            "memory usage: 4.0+ MB\n"
          ]
        }
      ],
      "source": [
        "df.info()"
      ],
      "id": "4143d69c"
    },
    {
      "cell_type": "markdown",
      "metadata": {
        "id": "sLpNzhoVxZUA"
      },
      "source": [
        "Мы видим, что нет пропущенных значений"
      ],
      "id": "sLpNzhoVxZUA"
    },
    {
      "cell_type": "markdown",
      "metadata": {
        "id": "88221dc6"
      },
      "source": [
        "- Построение графиков"
      ],
      "id": "88221dc6"
    },
    {
      "cell_type": "code",
      "execution_count": 249,
      "metadata": {
        "id": "HtWHbhhIxe5M",
        "colab": {
          "base_uri": "https://localhost:8080/",
          "height": 466
        },
        "outputId": "215ae0b3-961f-4016-f169-81646248cbd4"
      },
      "outputs": [
        {
          "output_type": "execute_result",
          "data": {
            "text/plain": [
              "<Axes: xlabel='age', ylabel='Count'>"
            ]
          },
          "metadata": {},
          "execution_count": 249
        },
        {
          "output_type": "display_data",
          "data": {
            "text/plain": [
              "<Figure size 640x480 with 1 Axes>"
            ],
            "image/png": "[encoded data removed]"
          },
          "metadata": {}
        }
      ],
      "source": [
        "sns.histplot(df['age'], kde=True, bins=50, color = 'darkblue')"
      ],
      "id": "HtWHbhhIxe5M"
    },
    {
      "cell_type": "code",
      "execution_count": 250,
      "metadata": {
        "id": "EaOT0szOxgnV",
        "colab": {
          "base_uri": "https://localhost:8080/"
        },
        "outputId": "9df50ced-0b2c-4b29-ac1d-a318d69f11c8"
      },
      "outputs": [
        {
          "output_type": "execute_result",
          "data": {
            "text/plain": [
              "(48842, 15)"
            ]
          },
          "metadata": {},
          "execution_count": 250
        }
      ],
      "source": [
        "Q1 =  df['age'].quantile(q=0.025)\n",
        "Q3 = df['age'].quantile(q=0.975)\n",
        "IQR = Q3 - Q1\n",
        "df_IQR = df[(df['age'] > (Q1-1.5*IQR)) & (df['age'] < (Q3+1.5*IQR))]\n",
        "df = df_IQR\n",
        "df_IQR.shape"
      ],
      "id": "EaOT0szOxgnV"
    },
    {
      "cell_type": "code",
      "execution_count": 251,
      "metadata": {
        "id": "cZF5h2FaxjPg",
        "colab": {
          "base_uri": "https://localhost:8080/",
          "height": 470
        },
        "outputId": "11b9a2ad-84b7-4fe8-a30d-74b902f171a3"
      },
      "outputs": [
        {
          "output_type": "execute_result",
          "data": {
            "text/plain": [
              "<Axes: xlabel='fnlwgt', ylabel='Count'>"
            ]
          },
          "metadata": {},
          "execution_count": 251
        },
        {
          "output_type": "display_data",
          "data": {
            "text/plain": [
              "<Figure size 640x480 with 1 Axes>"
            ],
            "image/png": "[encoded data removed]"
          },
          "metadata": {}
        }
      ],
      "source": [
        "sns.histplot(df['fnlwgt'], kde=True, bins=50, color = 'darkblue')"
      ],
      "id": "cZF5h2FaxjPg"
    },
    {
      "cell_type": "code",
      "execution_count": 252,
      "metadata": {
        "id": "KYsNTHADxkUJ",
        "colab": {
          "base_uri": "https://localhost:8080/"
        },
        "outputId": "3caea903-8a82-48cf-8a95-d62d94a49521"
      },
      "outputs": [
        {
          "output_type": "execute_result",
          "data": {
            "text/plain": [
              "(48825, 15)"
            ]
          },
          "metadata": {},
          "execution_count": 252
        }
      ],
      "source": [
        "Q1 =  df['fnlwgt'].quantile(q=0.025)\n",
        "Q3 = df['fnlwgt'].quantile(q=0.975)\n",
        "IQR = Q3 - Q1\n",
        "df_IQR = df[(df['fnlwgt'] > (Q1-1.5*IQR)) & (df['fnlwgt'] < (Q3+1.5*IQR))]\n",
        "df = df_IQR\n",
        "df_IQR.shape"
      ],
      "id": "KYsNTHADxkUJ"
    },
    {
      "cell_type": "code",
      "execution_count": 253,
      "metadata": {
        "id": "duRqSAj3xmHb",
        "colab": {
          "base_uri": "https://localhost:8080/",
          "height": 466
        },
        "outputId": "c9ce3dcb-4daf-447a-95b5-8bfd9d275879"
      },
      "outputs": [
        {
          "output_type": "execute_result",
          "data": {
            "text/plain": [
              "<Axes: xlabel='educational-num', ylabel='Count'>"
            ]
          },
          "metadata": {},
          "execution_count": 253
        },
        {
          "output_type": "display_data",
          "data": {
            "text/plain": [
              "<Figure size 640x480 with 1 Axes>"
            ],
            "image/png": "[encoded data removed]"
          },
          "metadata": {}
        }
      ],
      "source": [
        "sns.histplot(df['educational-num'], kde=True, bins=50, color = 'darkblue')"
      ],
      "id": "duRqSAj3xmHb"
    },
    {
      "cell_type": "code",
      "execution_count": 254,
      "metadata": {
        "id": "pUTqpEPjxnkm",
        "colab": {
          "base_uri": "https://localhost:8080/"
        },
        "outputId": "1277bdd4-dced-4ffa-eae8-385be2667e2a"
      },
      "outputs": [
        {
          "output_type": "execute_result",
          "data": {
            "text/plain": [
              "(48825, 15)"
            ]
          },
          "metadata": {},
          "execution_count": 254
        }
      ],
      "source": [
        "Q1 =  df['educational-num'].quantile(q=0.025)\n",
        "Q3 = df['educational-num'].quantile(q=0.975)\n",
        "IQR = Q3 - Q1\n",
        "df_IQR = df[(df['educational-num'] > (Q1-1.5*IQR)) & (df['educational-num'] < (Q3+1.5*IQR))]\n",
        "df = df_IQR\n",
        "df_IQR.shape"
      ],
      "id": "pUTqpEPjxnkm"
    },
    {
      "cell_type": "code",
      "execution_count": 255,
      "metadata": {
        "id": "E_Whd7EfxpIl",
        "colab": {
          "base_uri": "https://localhost:8080/",
          "height": 466
        },
        "outputId": "d51e61be-abe5-442a-9634-6070d9f58d35"
      },
      "outputs": [
        {
          "output_type": "execute_result",
          "data": {
            "text/plain": [
              "<Axes: xlabel='capital-gain', ylabel='Count'>"
            ]
          },
          "metadata": {},
          "execution_count": 255
        },
        {
          "output_type": "display_data",
          "data": {
            "text/plain": [
              "<Figure size 640x480 with 1 Axes>"
            ],
            "image/png": "[encoded data removed]"
          },
          "metadata": {}
        }
      ],
      "source": [
        "sns.histplot(df['capital-gain'], kde=True, bins=50, color = 'darkblue')"
      ],
      "id": "E_Whd7EfxpIl"
    },
    {
      "cell_type": "code",
      "execution_count": 256,
      "metadata": {
        "id": "vALaNxjMxqb4",
        "colab": {
          "base_uri": "https://localhost:8080/"
        },
        "outputId": "6c2ad426-99ee-4174-c5ee-4c00892dbdba"
      },
      "outputs": [
        {
          "output_type": "execute_result",
          "data": {
            "text/plain": [
              "(48493, 15)"
            ]
          },
          "metadata": {},
          "execution_count": 256
        }
      ],
      "source": [
        "Q1 =  df['capital-gain'].quantile(q=0.025)\n",
        "Q3 = df['capital-gain'].quantile(q=0.975)\n",
        "IQR = Q3 - Q1\n",
        "df_IQR = df[(df['capital-gain'] > (Q1-1.5*IQR)) & (df['capital-gain'] < (Q3+1.5*IQR))]\n",
        "df = df_IQR\n",
        "df_IQR.shape"
      ],
      "id": "vALaNxjMxqb4"
    },
    {
      "cell_type": "code",
      "execution_count": 257,
      "metadata": {
        "id": "R0GYxI74xtwB",
        "colab": {
          "base_uri": "https://localhost:8080/",
          "height": 466
        },
        "outputId": "0e9a5780-dae9-417d-974a-402df9a1ae4d"
      },
      "outputs": [
        {
          "output_type": "execute_result",
          "data": {
            "text/plain": [
              "<Axes: xlabel='capital-loss', ylabel='Count'>"
            ]
          },
          "metadata": {},
          "execution_count": 257
        },
        {
          "output_type": "display_data",
          "data": {
            "text/plain": [
              "<Figure size 640x480 with 1 Axes>"
            ],
            "image/png": "[encoded data removed]"
          },
          "metadata": {}
        }
      ],
      "source": [
        "sns.histplot(df['capital-loss'], kde=True, bins=50, color = 'darkblue')"
      ],
      "id": "R0GYxI74xtwB"
    },
    {
      "cell_type": "code",
      "execution_count": 258,
      "metadata": {
        "id": "G8TzXl8Pxv7k",
        "colab": {
          "base_uri": "https://localhost:8080/"
        },
        "outputId": "8b2a7611-565b-4071-d73b-ff1047aacbb9"
      },
      "outputs": [
        {
          "output_type": "execute_result",
          "data": {
            "text/plain": [
              "(48493, 15)"
            ]
          },
          "metadata": {},
          "execution_count": 258
        }
      ],
      "source": [
        "Q1 =  df['capital-loss'].quantile(q=0.025)\n",
        "Q3 = df['capital-loss'].quantile(q=0.975)\n",
        "IQR = Q3 - Q1\n",
        "df_IQR = df[(df['capital-loss'] > (Q1-1.5*IQR)) & (df['capital-loss'] < (Q3+1.5*IQR))]\n",
        "df = df_IQR\n",
        "df_IQR.shape"
      ],
      "id": "G8TzXl8Pxv7k"
    },
    {
      "cell_type": "code",
      "execution_count": 259,
      "metadata": {
        "id": "nk7zIs9cxxzg",
        "colab": {
          "base_uri": "https://localhost:8080/",
          "height": 466
        },
        "outputId": "27204dd6-3c4a-428d-fbaf-38fca01fc4d8"
      },
      "outputs": [
        {
          "output_type": "execute_result",
          "data": {
            "text/plain": [
              "<Axes: xlabel='hours-per-week', ylabel='Count'>"
            ]
          },
          "metadata": {},
          "execution_count": 259
        },
        {
          "output_type": "display_data",
          "data": {
            "text/plain": [
              "<Figure size 640x480 with 1 Axes>"
            ],
            "image/png": "[encoded data removed]"
          },
          "metadata": {}
        }
      ],
      "source": [
        "sns.histplot(df['hours-per-week'], kde=True, bins=50, color = 'darkblue')"
      ],
      "id": "nk7zIs9cxxzg"
    },
    {
      "cell_type": "code",
      "execution_count": 260,
      "metadata": {
        "id": "P7G4Pwg8xzQ9",
        "colab": {
          "base_uri": "https://localhost:8080/"
        },
        "outputId": "885d4332-61f5-42f7-db47-85632ff7d927"
      },
      "outputs": [
        {
          "output_type": "execute_result",
          "data": {
            "text/plain": [
              "(48493, 15)"
            ]
          },
          "metadata": {},
          "execution_count": 260
        }
      ],
      "source": [
        "Q1 =  df['hours-per-week'].quantile(q=0.025)\n",
        "Q3 = df['hours-per-week'].quantile(q=0.975)\n",
        "IQR = Q3 - Q1\n",
        "df_IQR = df[(df['hours-per-week'] > (Q1-1.5*IQR)) & (df['hours-per-week'] < (Q3+1.5*IQR))]\n",
        "df = df_IQR\n",
        "df_IQR.shape"
      ],
      "id": "P7G4Pwg8xzQ9"
    },
    {
      "cell_type": "markdown",
      "metadata": {
        "id": "35d24013"
      },
      "source": [
        "- Продобработка категориальных признаков"
      ],
      "id": "35d24013"
    },
    {
      "cell_type": "code",
      "execution_count": 261,
      "metadata": {
        "id": "A5GZcgYgx4Eu"
      },
      "outputs": [],
      "source": [
        "from sklearn.preprocessing import LabelEncoder\n",
        "\n",
        "name = ['workclass', 'education', 'marital-status', 'occupation', 'relationship', 'race', 'gender', 'native-country']\n",
        "categorial_data = pd.DataFrame()\n",
        "for i in name:\n",
        "  categorial_data[i] = df[i]\n",
        "# признаки name являются категориальными\n",
        "# переведем значения этих столбцов в числа\n",
        "le = LabelEncoder()\n",
        "X = pd.DataFrame()\n",
        "for i in name:\n",
        "  le.fit(categorial_data[i])\n",
        "  X[i] = le.transform(categorial_data[i])\n",
        "df0 = df\n",
        "for i in name:\n",
        "  df0[i] = X[i]"
      ],
      "id": "A5GZcgYgx4Eu"
    },
    {
      "cell_type": "code",
      "execution_count": 262,
      "metadata": {
        "id": "U_7lVy2Yx53K",
        "colab": {
          "base_uri": "https://localhost:8080/",
          "height": 470
        },
        "outputId": "a67a5628-30cb-4ed2-bc00-267f3cceaea5"
      },
      "outputs": [
        {
          "output_type": "execute_result",
          "data": {
            "text/plain": [
              "<Axes: xlabel='workclass', ylabel='Count'>"
            ]
          },
          "metadata": {},
          "execution_count": 262
        },
        {
          "output_type": "display_data",
          "data": {
            "text/plain": [
              "<Figure size 640x480 with 1 Axes>"
            ],
            "image/png": "[encoded data removed]"
          },
          "metadata": {}
        }
      ],
      "source": [
        "sns.histplot(df0['workclass'], kde=True, bins=50, color = 'darkblue')"
      ],
      "id": "U_7lVy2Yx53K"
    },
    {
      "cell_type": "code",
      "execution_count": 263,
      "metadata": {
        "id": "301T-Xffx6aO",
        "colab": {
          "base_uri": "https://localhost:8080/"
        },
        "outputId": "90538cdc-5c32-49dd-8eb7-7d9331edabef"
      },
      "outputs": [
        {
          "output_type": "execute_result",
          "data": {
            "text/plain": [
              "(48147, 15)"
            ]
          },
          "metadata": {},
          "execution_count": 263
        }
      ],
      "source": [
        "Q1 =  df0['workclass'].quantile(q=0.025)\n",
        "Q3 = df0['workclass'].quantile(q=0.975)\n",
        "IQR = Q3 - Q1\n",
        "df_IQR = df0[(df0['workclass'] > (Q1-1.5*IQR)) & (df0['workclass'] < (Q3+1.5*IQR))]\n",
        "df0 = df_IQR\n",
        "df_IQR.shape"
      ],
      "id": "301T-Xffx6aO"
    },
    {
      "cell_type": "code",
      "execution_count": 264,
      "metadata": {
        "id": "EbvrAFWfx74f",
        "colab": {
          "base_uri": "https://localhost:8080/",
          "height": 466
        },
        "outputId": "a5b869f8-3ecb-4815-f69b-09ec213b079a"
      },
      "outputs": [
        {
          "output_type": "execute_result",
          "data": {
            "text/plain": [
              "<Axes: xlabel='education', ylabel='Count'>"
            ]
          },
          "metadata": {},
          "execution_count": 264
        },
        {
          "output_type": "display_data",
          "data": {
            "text/plain": [
              "<Figure size 640x480 with 1 Axes>"
            ],
            "image/png": "[encoded data removed]"
          },
          "metadata": {}
        }
      ],
      "source": [
        "sns.histplot(df0['education'], kde=True, bins=50, color = 'darkblue')"
      ],
      "id": "EbvrAFWfx74f"
    },
    {
      "cell_type": "code",
      "execution_count": 265,
      "metadata": {
        "id": "oTytOVHVx-Iu",
        "colab": {
          "base_uri": "https://localhost:8080/"
        },
        "outputId": "959ff0c9-5dbf-42d4-db1e-d3803ebcdc0e"
      },
      "outputs": [
        {
          "output_type": "execute_result",
          "data": {
            "text/plain": [
              "(48147, 15)"
            ]
          },
          "metadata": {},
          "execution_count": 265
        }
      ],
      "source": [
        "Q1 =  df0['education'].quantile(q=0.025)\n",
        "Q3 = df0['education'].quantile(q=0.975)\n",
        "IQR = Q3 - Q1\n",
        "df_IQR = df0[(df0['education'] > (Q1-1.5*IQR)) & (df0['education'] < (Q3+1.5*IQR))]\n",
        "df0 = df_IQR\n",
        "df_IQR.shape"
      ],
      "id": "oTytOVHVx-Iu"
    },
    {
      "cell_type": "code",
      "execution_count": 266,
      "metadata": {
        "id": "M26F-IiJyAIf",
        "colab": {
          "base_uri": "https://localhost:8080/",
          "height": 466
        },
        "outputId": "78eb14e3-c648-46a5-8d13-893c58fb584c"
      },
      "outputs": [
        {
          "output_type": "execute_result",
          "data": {
            "text/plain": [
              "<Axes: xlabel='marital-status', ylabel='Count'>"
            ]
          },
          "metadata": {},
          "execution_count": 266
        },
        {
          "output_type": "display_data",
          "data": {
            "text/plain": [
              "<Figure size 640x480 with 1 Axes>"
            ],
            "image/png": "[encoded data removed]"
          },
          "metadata": {}
        }
      ],
      "source": [
        "sns.histplot(df0['marital-status'], kde=True, bins=50, color = 'darkblue')"
      ],
      "id": "M26F-IiJyAIf"
    },
    {
      "cell_type": "code",
      "execution_count": 267,
      "metadata": {
        "id": "pTgg1UeVyBnU",
        "colab": {
          "base_uri": "https://localhost:8080/"
        },
        "outputId": "bed92faa-c76e-455c-f514-a58c76b13caa"
      },
      "outputs": [
        {
          "output_type": "execute_result",
          "data": {
            "text/plain": [
              "(48147, 15)"
            ]
          },
          "metadata": {},
          "execution_count": 267
        }
      ],
      "source": [
        "Q1 =  df0['marital-status'].quantile(q=0.025)\n",
        "Q3 = df0['marital-status'].quantile(q=0.975)\n",
        "IQR = Q3 - Q1\n",
        "df_IQR = df0[(df0['marital-status'] > (Q1-1.5*IQR)) & (df0['marital-status'] < (Q3+1.5*IQR))]\n",
        "df0 = df_IQR\n",
        "df_IQR.shape"
      ],
      "id": "pTgg1UeVyBnU"
    },
    {
      "cell_type": "code",
      "execution_count": 268,
      "metadata": {
        "id": "sJy0wBiYyFw8",
        "colab": {
          "base_uri": "https://localhost:8080/",
          "height": 466
        },
        "outputId": "ce6e3068-2b9c-470a-b2bf-96338ac53456"
      },
      "outputs": [
        {
          "output_type": "execute_result",
          "data": {
            "text/plain": [
              "<Axes: xlabel='occupation', ylabel='Count'>"
            ]
          },
          "metadata": {},
          "execution_count": 268
        },
        {
          "output_type": "display_data",
          "data": {
            "text/plain": [
              "<Figure size 640x480 with 1 Axes>"
            ],
            "image/png": "[encoded data removed]"
          },
          "metadata": {}
        }
      ],
      "source": [
        "sns.histplot(df0['occupation'], kde=True, bins=50, color = 'darkblue')"
      ],
      "id": "sJy0wBiYyFw8"
    },
    {
      "cell_type": "code",
      "execution_count": 269,
      "metadata": {
        "id": "Z7W2lh2qyHZY",
        "colab": {
          "base_uri": "https://localhost:8080/"
        },
        "outputId": "05b2a4b2-746d-4c4b-9594-42a0f0f26db5"
      },
      "outputs": [
        {
          "output_type": "execute_result",
          "data": {
            "text/plain": [
              "(48147, 15)"
            ]
          },
          "metadata": {},
          "execution_count": 269
        }
      ],
      "source": [
        "Q1 =  df0['occupation'].quantile(q=0.025)\n",
        "Q3 = df0['occupation'].quantile(q=0.975)\n",
        "IQR = Q3 - Q1\n",
        "df_IQR = df0[(df0['occupation'] > (Q1-1.5*IQR)) & (df0['occupation'] < (Q3+1.5*IQR))]\n",
        "df0 = df_IQR\n",
        "df_IQR.shape"
      ],
      "id": "Z7W2lh2qyHZY"
    },
    {
      "cell_type": "code",
      "execution_count": 270,
      "metadata": {
        "id": "ljXZ8AQIyIzV",
        "colab": {
          "base_uri": "https://localhost:8080/",
          "height": 466
        },
        "outputId": "bd060f44-fbaa-4445-d774-fae0fd019dab"
      },
      "outputs": [
        {
          "output_type": "execute_result",
          "data": {
            "text/plain": [
              "<Axes: xlabel='relationship', ylabel='Count'>"
            ]
          },
          "metadata": {},
          "execution_count": 270
        },
        {
          "output_type": "display_data",
          "data": {
            "text/plain": [
              "<Figure size 640x480 with 1 Axes>"
            ],
            "image/png": "[encoded data removed]"
          },
          "metadata": {}
        }
      ],
      "source": [
        "sns.histplot(df0['relationship'], kde=True, bins=50, color = 'darkblue')"
      ],
      "id": "ljXZ8AQIyIzV"
    },
    {
      "cell_type": "code",
      "execution_count": 271,
      "metadata": {
        "id": "-S2xDgvhyKhE",
        "colab": {
          "base_uri": "https://localhost:8080/"
        },
        "outputId": "3871052d-abdb-4be4-c749-d186f9ba86c7"
      },
      "outputs": [
        {
          "output_type": "execute_result",
          "data": {
            "text/plain": [
              "(48147, 15)"
            ]
          },
          "metadata": {},
          "execution_count": 271
        }
      ],
      "source": [
        "Q1 =  df0['relationship'].quantile(q=0.025)\n",
        "Q3 = df0['relationship'].quantile(q=0.975)\n",
        "IQR = Q3 - Q1\n",
        "df_IQR = df0[(df0['relationship'] > (Q1-1.5*IQR)) & (df0['relationship'] < (Q3+1.5*IQR))]\n",
        "df0 = df_IQR\n",
        "df_IQR.shape"
      ],
      "id": "-S2xDgvhyKhE"
    },
    {
      "cell_type": "code",
      "execution_count": 272,
      "metadata": {
        "id": "7tesIYVOyLw_",
        "colab": {
          "base_uri": "https://localhost:8080/",
          "height": 466
        },
        "outputId": "cc593d07-46d4-4235-edc3-e2231f0391c3"
      },
      "outputs": [
        {
          "output_type": "execute_result",
          "data": {
            "text/plain": [
              "<Axes: xlabel='race', ylabel='Count'>"
            ]
          },
          "metadata": {},
          "execution_count": 272
        },
        {
          "output_type": "display_data",
          "data": {
            "text/plain": [
              "<Figure size 640x480 with 1 Axes>"
            ],
            "image/png": "[encoded data removed]"
          },
          "metadata": {}
        }
      ],
      "source": [
        "sns.histplot(df0['race'], kde=True, bins=50, color = 'darkblue')"
      ],
      "id": "7tesIYVOyLw_"
    },
    {
      "cell_type": "code",
      "execution_count": 273,
      "metadata": {
        "id": "AsOZV4MWyNSd",
        "colab": {
          "base_uri": "https://localhost:8080/"
        },
        "outputId": "7a83afde-5e58-4b4c-9980-f934ad98e53e"
      },
      "outputs": [
        {
          "output_type": "execute_result",
          "data": {
            "text/plain": [
              "(48147, 15)"
            ]
          },
          "metadata": {},
          "execution_count": 273
        }
      ],
      "source": [
        "Q1 =  df0['race'].quantile(q=0.025)\n",
        "Q3 = df0['race'].quantile(q=0.975)\n",
        "IQR = Q3 - Q1\n",
        "df_IQR = df0[(df0['race'] > (Q1-1.5*IQR)) & (df0['race'] < (Q3+1.5*IQR))]\n",
        "df0 = df_IQR\n",
        "df_IQR.shape"
      ],
      "id": "AsOZV4MWyNSd"
    },
    {
      "cell_type": "code",
      "execution_count": 274,
      "metadata": {
        "id": "IacuwoZCyO8I",
        "colab": {
          "base_uri": "https://localhost:8080/",
          "height": 466
        },
        "outputId": "c5419cce-b367-43b0-c829-0740ed849c75"
      },
      "outputs": [
        {
          "output_type": "execute_result",
          "data": {
            "text/plain": [
              "<Axes: xlabel='gender', ylabel='Count'>"
            ]
          },
          "metadata": {},
          "execution_count": 274
        },
        {
          "output_type": "display_data",
          "data": {
            "text/plain": [
              "<Figure size 640x480 with 1 Axes>"
            ],
            "image/png": "[encoded data removed]"
          },
          "metadata": {}
        }
      ],
      "source": [
        "sns.histplot(df0['gender'], kde=True, bins=50, color = 'darkblue')"
      ],
      "id": "IacuwoZCyO8I"
    },
    {
      "cell_type": "code",
      "execution_count": 275,
      "metadata": {
        "id": "YBoD348dyNzY",
        "colab": {
          "base_uri": "https://localhost:8080/"
        },
        "outputId": "325659f6-c084-4b44-b679-d68cf09ad867"
      },
      "outputs": [
        {
          "output_type": "execute_result",
          "data": {
            "text/plain": [
              "(48147, 15)"
            ]
          },
          "metadata": {},
          "execution_count": 275
        }
      ],
      "source": [
        "Q1 =  df0['gender'].quantile(q=0.025)\n",
        "Q3 = df0['gender'].quantile(q=0.975)\n",
        "IQR = Q3 - Q1\n",
        "df_IQR = df0[(df0['gender'] > (Q1-1.5*IQR)) & (df0['gender'] < (Q3+1.5*IQR))]\n",
        "df0 = df_IQR\n",
        "df_IQR.shape"
      ],
      "id": "YBoD348dyNzY"
    },
    {
      "cell_type": "code",
      "execution_count": 276,
      "metadata": {
        "id": "JgnfNROqyQ3z",
        "colab": {
          "base_uri": "https://localhost:8080/",
          "height": 466
        },
        "outputId": "937aa78d-7eeb-473e-f554-882173052116"
      },
      "outputs": [
        {
          "output_type": "execute_result",
          "data": {
            "text/plain": [
              "<Axes: xlabel='native-country', ylabel='Count'>"
            ]
          },
          "metadata": {},
          "execution_count": 276
        },
        {
          "output_type": "display_data",
          "data": {
            "text/plain": [
              "<Figure size 640x480 with 1 Axes>"
            ],
            "image/png": "[encoded data removed]"
          },
          "metadata": {}
        }
      ],
      "source": [
        "sns.histplot(df0['native-country'], kde=True, bins=50, color = 'darkblue')"
      ],
      "id": "JgnfNROqyQ3z"
    },
    {
      "cell_type": "code",
      "execution_count": 277,
      "metadata": {
        "id": "yn2y_rNrySpT",
        "colab": {
          "base_uri": "https://localhost:8080/"
        },
        "outputId": "64fd8967-3b8f-4d7b-c7f6-ca6a79857212"
      },
      "outputs": [
        {
          "output_type": "execute_result",
          "data": {
            "text/plain": [
              "(48147, 15)"
            ]
          },
          "metadata": {},
          "execution_count": 277
        }
      ],
      "source": [
        "Q1 =  df0['native-country'].quantile(q=0.025)\n",
        "Q3 = df0['native-country'].quantile(q=0.975)\n",
        "IQR = Q3 - Q1\n",
        "df_IQR = df0[(df0['native-country'] > (Q1-1.5*IQR)) & (df0['native-country'] < (Q3+1.5*IQR))]\n",
        "df0 = df_IQR\n",
        "df_IQR.shape"
      ],
      "id": "yn2y_rNrySpT"
    },
    {
      "cell_type": "code",
      "execution_count": 278,
      "metadata": {
        "id": "4f34a731",
        "colab": {
          "base_uri": "https://localhost:8080/",
          "height": 466
        },
        "outputId": "7c4c49d4-a48f-43d1-ce30-a49a92403f4d"
      },
      "outputs": [
        {
          "output_type": "execute_result",
          "data": {
            "text/plain": [
              "<Axes: xlabel='income', ylabel='Count'>"
            ]
          },
          "metadata": {},
          "execution_count": 278
        },
        {
          "output_type": "display_data",
          "data": {
            "text/plain": [
              "<Figure size 640x480 with 1 Axes>"
            ],
            "image/png": "[encoded data removed]"
          },
          "metadata": {}
        }
      ],
      "source": [
        "# целевая переменная (столбец income) снова является категориальной\n",
        "# переведем значения столбца в числа, оставив один столбец\n",
        "\n",
        "from sklearn.preprocessing import LabelEncoder\n",
        "le = LabelEncoder()\n",
        "le.fit(df0['income'])\n",
        "y = le.transform(df0['income'])\n",
        "df0['income'] = y\n",
        "sns.histplot(df0['income'], kde=True, bins=50, color = 'darkblue')"
      ],
      "id": "4f34a731"
    },
    {
      "cell_type": "code",
      "execution_count": 279,
      "metadata": {
        "id": "T98sBpfqymk8",
        "colab": {
          "base_uri": "https://localhost:8080/"
        },
        "outputId": "0bb04498-0334-4a60-8e97-1005b70d2356"
      },
      "outputs": [
        {
          "output_type": "execute_result",
          "data": {
            "text/plain": [
              "(48147, 15)"
            ]
          },
          "metadata": {},
          "execution_count": 279
        }
      ],
      "source": [
        "Q1 =  df0['income'].quantile(q=0.025)\n",
        "Q3 = df0['income'].quantile(q=0.975)\n",
        "IQR = Q3 - Q1\n",
        "df_IQR = df0[(df0['income'] > (Q1-1.5*IQR)) & (df0['income'] < (Q3+1.5*IQR))]\n",
        "df0 = df_IQR\n",
        "df_IQR.shape"
      ],
      "id": "T98sBpfqymk8"
    },
    {
      "cell_type": "code",
      "execution_count": 280,
      "metadata": {
        "id": "ceBaRdrzypYp",
        "colab": {
          "base_uri": "https://localhost:8080/"
        },
        "outputId": "eb9ec15a-996c-4f0b-c557-bc4ba45e87f9"
      },
      "outputs": [
        {
          "output_type": "stream",
          "name": "stdout",
          "text": [
            "float64\n",
            "0.0 8.0\n",
            "int8\n"
          ]
        }
      ],
      "source": [
        "print(df0['workclass'].dtype)\n",
        "print(df0['workclass'].min(), df0['workclass'].max())\n",
        "df0['workclass'] = df0['workclass'].astype('int8')\n",
        "print(df0['workclass'].dtype)"
      ],
      "id": "ceBaRdrzypYp"
    },
    {
      "cell_type": "code",
      "execution_count": 281,
      "metadata": {
        "id": "NgHaiNZuyrr2",
        "colab": {
          "base_uri": "https://localhost:8080/"
        },
        "outputId": "8622a09a-32d1-42f2-831e-4d6a7cb54999"
      },
      "outputs": [
        {
          "output_type": "stream",
          "name": "stdout",
          "text": [
            "float64\n",
            "0.0 15.0\n",
            "int8\n"
          ]
        }
      ],
      "source": [
        "print(df0['education'].dtype)\n",
        "print(df0['education'].min(), df0['education'].max())\n",
        "df0['education'] = df0['education'].astype('int8')\n",
        "print(df0['education'].dtype)"
      ],
      "id": "NgHaiNZuyrr2"
    },
    {
      "cell_type": "code",
      "execution_count": 282,
      "metadata": {
        "id": "bCHPnqD9ys_y",
        "colab": {
          "base_uri": "https://localhost:8080/"
        },
        "outputId": "02300fd3-f13f-4ce8-a504-5873e02804e0"
      },
      "outputs": [
        {
          "output_type": "stream",
          "name": "stdout",
          "text": [
            "float64\n",
            "0.0 6.0\n",
            "int8\n"
          ]
        }
      ],
      "source": [
        "print(df0['marital-status'].dtype)\n",
        "print(df0['marital-status'].min(), df0['marital-status'].max())\n",
        "df0['marital-status'] = df0['marital-status'].astype('int8')\n",
        "print(df0['marital-status'].dtype)"
      ],
      "id": "bCHPnqD9ys_y"
    },
    {
      "cell_type": "code",
      "execution_count": 283,
      "metadata": {
        "id": "16U2oWVWyuj1",
        "colab": {
          "base_uri": "https://localhost:8080/"
        },
        "outputId": "492ef340-95be-434f-8a50-648ac1ac28fd"
      },
      "outputs": [
        {
          "output_type": "stream",
          "name": "stdout",
          "text": [
            "float64\n",
            "0.0 14.0\n",
            "int8\n"
          ]
        }
      ],
      "source": [
        "print(df0['occupation'].dtype)\n",
        "print(df0['occupation'].min(), df0['occupation'].max())\n",
        "df0['occupation'] = df0['occupation'].astype('int8')\n",
        "print(df0['occupation'].dtype)"
      ],
      "id": "16U2oWVWyuj1"
    },
    {
      "cell_type": "code",
      "execution_count": 284,
      "metadata": {
        "id": "iXen-xn9yyCR",
        "colab": {
          "base_uri": "https://localhost:8080/"
        },
        "outputId": "391cacf9-2742-4ac5-c229-cb42a60a0105"
      },
      "outputs": [
        {
          "output_type": "stream",
          "name": "stdout",
          "text": [
            "float64\n",
            "0.0 5.0\n",
            "int8\n"
          ]
        }
      ],
      "source": [
        "print(df0['relationship'].dtype)\n",
        "print(df0['relationship'].min(), df0['relationship'].max())\n",
        "df0['relationship'] = df0['relationship'].astype('int8')\n",
        "print(df0['relationship'].dtype)"
      ],
      "id": "iXen-xn9yyCR"
    },
    {
      "cell_type": "code",
      "execution_count": 285,
      "metadata": {
        "id": "S9IkAbmryzM4",
        "colab": {
          "base_uri": "https://localhost:8080/"
        },
        "outputId": "f6227b0c-3574-4866-9f85-03fedf8fa9f8"
      },
      "outputs": [
        {
          "output_type": "stream",
          "name": "stdout",
          "text": [
            "float64\n",
            "0.0 4.0\n",
            "int8\n"
          ]
        }
      ],
      "source": [
        "print(df0['race'].dtype)\n",
        "print(df0['race'].min(), df0['race'].max())\n",
        "df0['race'] = df0['race'].astype('int8')\n",
        "print(df0['race'].dtype)"
      ],
      "id": "S9IkAbmryzM4"
    },
    {
      "cell_type": "code",
      "execution_count": 286,
      "metadata": {
        "id": "3PVe332fy0bG",
        "colab": {
          "base_uri": "https://localhost:8080/"
        },
        "outputId": "14e3c833-6c51-4d30-e1f6-b07d818569a6"
      },
      "outputs": [
        {
          "output_type": "stream",
          "name": "stdout",
          "text": [
            "float64\n",
            "0.0 1.0\n",
            "int8\n"
          ]
        }
      ],
      "source": [
        "print(df0['gender'].dtype)\n",
        "print(df0['gender'].min(), df0['gender'].max())\n",
        "df0['gender'] = df0['gender'].astype('int8')\n",
        "print(df0['gender'].dtype)"
      ],
      "id": "3PVe332fy0bG"
    },
    {
      "cell_type": "code",
      "execution_count": 287,
      "metadata": {
        "id": "wd8En2Eny1nN",
        "colab": {
          "base_uri": "https://localhost:8080/"
        },
        "outputId": "9e8ed129-188a-4426-9662-9ff03b86285a"
      },
      "outputs": [
        {
          "output_type": "stream",
          "name": "stdout",
          "text": [
            "float64\n",
            "0.0 41.0\n",
            "int8\n"
          ]
        }
      ],
      "source": [
        "print(df0['native-country'].dtype)\n",
        "print(df0['native-country'].min(), df0['native-country'].max())\n",
        "df0['native-country'] = df0['native-country'].astype('int8')\n",
        "print(df0['native-country'].dtype)"
      ],
      "id": "wd8En2Eny1nN"
    },
    {
      "cell_type": "code",
      "execution_count": 288,
      "metadata": {
        "id": "gpcmCaoBy3M5",
        "colab": {
          "base_uri": "https://localhost:8080/"
        },
        "outputId": "c44525fb-3958-4f87-8e23-a1c6e2da83cb"
      },
      "outputs": [
        {
          "output_type": "stream",
          "name": "stdout",
          "text": [
            "int64\n",
            "0 1\n",
            "int8\n"
          ]
        }
      ],
      "source": [
        "print(df0['income'].dtype)\n",
        "print(df0['income'].min(), df0['income'].max())\n",
        "df0['income'] = df0['income'].astype('int8')\n",
        "print(df0['income'].dtype)"
      ],
      "id": "gpcmCaoBy3M5"
    },
    {
      "cell_type": "code",
      "execution_count": 289,
      "metadata": {
        "id": "l8HwCbzby4nX",
        "colab": {
          "base_uri": "https://localhost:8080/"
        },
        "outputId": "bc6b67f1-0184-42cd-cffa-f901388c1faf"
      },
      "outputs": [
        {
          "output_type": "stream",
          "name": "stdout",
          "text": [
            "<class 'pandas.core.frame.DataFrame'>\n",
            "Int64Index: 48147 entries, 0 to 48492\n",
            "Data columns (total 15 columns):\n",
            " #   Column           Non-Null Count  Dtype\n",
            "---  ------           --------------  -----\n",
            " 0   age              48147 non-null  int8 \n",
            " 1   workclass        48147 non-null  int8 \n",
            " 2   fnlwgt           48147 non-null  int32\n",
            " 3   education        48147 non-null  int8 \n",
            " 4   educational-num  48147 non-null  int8 \n",
            " 5   marital-status   48147 non-null  int8 \n",
            " 6   occupation       48147 non-null  int8 \n",
            " 7   relationship     48147 non-null  int8 \n",
            " 8   race             48147 non-null  int8 \n",
            " 9   gender           48147 non-null  int8 \n",
            " 10  capital-gain     48147 non-null  int32\n",
            " 11  capital-loss     48147 non-null  int16\n",
            " 12  hours-per-week   48147 non-null  int8 \n",
            " 13  native-country   48147 non-null  int8 \n",
            " 14  income           48147 non-null  int8 \n",
            "dtypes: int16(1), int32(2), int8(12)\n",
            "memory usage: 1.4 MB\n",
            "None\n"
          ]
        }
      ],
      "source": [
        "print(df0.info())\n",
        "y = df0['income']\n",
        "df0 = df0.drop(columns = 'income', axis = 1)\n",
        "X = np.array(df0)"
      ],
      "id": "l8HwCbzby4nX"
    },
    {
      "cell_type": "markdown",
      "metadata": {
        "id": "6b142fa6"
      },
      "source": [
        "- Разделим данные на обучающие и тестовы"
      ],
      "id": "6b142fa6"
    },
    {
      "cell_type": "code",
      "execution_count": 290,
      "metadata": {
        "id": "21bd4556"
      },
      "outputs": [],
      "source": [
        "X_train, X_test, y_train, y_test = train_test_split(X, y, test_size=0.2, stratify=y, random_state=42)"
      ],
      "id": "21bd4556"
    },
    {
      "cell_type": "code",
      "execution_count": 291,
      "metadata": {
        "id": "C5IWLc7jy9og"
      },
      "outputs": [],
      "source": [
        "from sklearn.preprocessing import StandardScaler\n",
        "sc = StandardScaler()\n",
        "sc.fit(X_train)\n",
        "X_train, X_test = sc.transform(X_train), sc.transform(X_test)"
      ],
      "id": "C5IWLc7jy9og"
    },
    {
      "cell_type": "markdown",
      "metadata": {
        "id": "547d7eed"
      },
      "source": [
        "- Обучите модели логиcтической регрессии и опорных векторов (SVC)"
      ],
      "id": "547d7eed"
    },
    {
      "cell_type": "code",
      "execution_count": 292,
      "metadata": {
        "id": "4f3213fe",
        "colab": {
          "base_uri": "https://localhost:8080/",
          "height": 74
        },
        "outputId": "3af36710-af32-4a80-bbb3-e73d5569712a"
      },
      "outputs": [
        {
          "output_type": "execute_result",
          "data": {
            "text/plain": [
              "LogisticRegression()"
            ],
            "text/html": [
              "<style>#sk-container-id-2 {color: black;background-color: white;}#sk-container-id-2 pre{padding: 0;}#sk-container-id-2 div.sk-toggleable {background-color: white;}#sk-container-id-2 label.sk-toggleable__label {cursor: pointer;display: block;width: 100%;margin-bottom: 0;padding: 0.3em;box-sizing: border-box;text-align: center;}#sk-container-id-2 label.sk-toggleable__label-arrow:before {content: \"▸\";float: left;margin-right: 0.25em;color: #696969;}#sk-container-id-2 label.sk-toggleable__label-arrow:hover:before {color: black;}#sk-container-id-2 div.sk-estimator:hover label.sk-toggleable__label-arrow:before {color: black;}#sk-container-id-2 div.sk-toggleable__content {max-height: 0;max-width: 0;overflow: hidden;text-align: left;background-color: #f0f8ff;}#sk-container-id-2 div.sk-toggleable__content pre {margin: 0.2em;color: black;border-radius: 0.25em;background-color: #f0f8ff;}#sk-container-id-2 input.sk-toggleable__control:checked~div.sk-toggleable__content {max-height: 200px;max-width: 100%;overflow: auto;}#sk-container-id-2 input.sk-toggleable__control:checked~label.sk-toggleable__label-arrow:before {content: \"▾\";}#sk-container-id-2 div.sk-estimator input.sk-toggleable__control:checked~label.sk-toggleable__label {background-color: #d4ebff;}#sk-container-id-2 div.sk-label input.sk-toggleable__control:checked~label.sk-toggleable__label {background-color: #d4ebff;}#sk-container-id-2 input.sk-hidden--visually {border: 0;clip: rect(1px 1px 1px 1px);clip: rect(1px, 1px, 1px, 1px);height: 1px;margin: -1px;overflow: hidden;padding: 0;position: absolute;width: 1px;}#sk-container-id-2 div.sk-estimator {font-family: monospace;background-color: #f0f8ff;border: 1px dotted black;border-radius: 0.25em;box-sizing: border-box;margin-bottom: 0.5em;}#sk-container-id-2 div.sk-estimator:hover {background-color: #d4ebff;}#sk-container-id-2 div.sk-parallel-item::after {content: \"\";width: 100%;border-bottom: 1px solid gray;flex-grow: 1;}#sk-container-id-2 div.sk-label:hover label.sk-toggleable__label {background-color: #d4ebff;}#sk-container-id-2 div.sk-serial::before {content: \"\";position: absolute;border-left: 1px solid gray;box-sizing: border-box;top: 0;bottom: 0;left: 50%;z-index: 0;}#sk-container-id-2 div.sk-serial {display: flex;flex-direction: column;align-items: center;background-color: white;padding-right: 0.2em;padding-left: 0.2em;position: relative;}#sk-container-id-2 div.sk-item {position: relative;z-index: 1;}#sk-container-id-2 div.sk-parallel {display: flex;align-items: stretch;justify-content: center;background-color: white;position: relative;}#sk-container-id-2 div.sk-item::before, #sk-container-id-2 div.sk-parallel-item::before {content: \"\";position: absolute;border-left: 1px solid gray;box-sizing: border-box;top: 0;bottom: 0;left: 50%;z-index: -1;}#sk-container-id-2 div.sk-parallel-item {display: flex;flex-direction: column;z-index: 1;position: relative;background-color: white;}#sk-container-id-2 div.sk-parallel-item:first-child::after {align-self: flex-end;width: 50%;}#sk-container-id-2 div.sk-parallel-item:last-child::after {align-self: flex-start;width: 50%;}#sk-container-id-2 div.sk-parallel-item:only-child::after {width: 0;}#sk-container-id-2 div.sk-dashed-wrapped {border: 1px dashed gray;margin: 0 0.4em 0.5em 0.4em;box-sizing: border-box;padding-bottom: 0.4em;background-color: white;}#sk-container-id-2 div.sk-label label {font-family: monospace;font-weight: bold;display: inline-block;line-height: 1.2em;}#sk-container-id-2 div.sk-label-container {text-align: center;}#sk-container-id-2 div.sk-container {/* jupyter's `normalize.less` sets `[hidden] { display: none; }` but bootstrap.min.css set `[hidden] { display: none !important; }` so we also need the `!important` here to be able to override the default hidden behavior on the sphinx rendered scikit-learn.org. See: https://github.com/scikit-learn/scikit-learn/issues/21755 */display: inline-block !important;position: relative;}#sk-container-id-2 div.sk-text-repr-fallback {display: none;}</style><div id=\"sk-container-id-2\" class=\"sk-top-container\"><div class=\"sk-text-repr-fallback\"><pre>LogisticRegression()</pre><b>In a Jupyter environment, please rerun this cell to show the HTML representation or trust the notebook. <br />On GitHub, the HTML representation is unable to render, please try loading this page with nbviewer.org.</b></div><div class=\"sk-container\" hidden><div class=\"sk-item\"><div class=\"sk-estimator sk-toggleable\"><input class=\"sk-toggleable__control sk-hidden--visually\" id=\"sk-estimator-id-2\" type=\"checkbox\" checked><label for=\"sk-estimator-id-2\" class=\"sk-toggleable__label sk-toggleable__label-arrow\">LogisticRegression</label><div class=\"sk-toggleable__content\"><pre>LogisticRegression()</pre></div></div></div></div></div>"
            ]
          },
          "metadata": {},
          "execution_count": 292
        }
      ],
      "source": [
        "from sklearn.svm import SVC\n",
        "from sklearn.linear_model import LogisticRegression\n",
        "SVM = SVC()\n",
        "SVM.fit(X_train, y_train)\n",
        "log_model = LogisticRegression()\n",
        "log_model.fit(X_train, y_train)"
      ],
      "id": "4f3213fe"
    },
    {
      "cell_type": "markdown",
      "metadata": {
        "id": "4d579d07"
      },
      "source": [
        "- Сделайте предикт обоими моделями на тесте и посмотрите качество обоих моделей"
      ],
      "id": "4d579d07"
    },
    {
      "cell_type": "code",
      "execution_count": 293,
      "metadata": {
        "id": "ea2e2ae5"
      },
      "outputs": [],
      "source": [
        "from sklearn.metrics import f1_score\n",
        "from sklearn.metrics import roc_auc_score\n",
        "pred_SVM = SVM.predict(X_test)\n",
        "pred_log = log_model.predict(X_test)"
      ],
      "id": "ea2e2ae5"
    },
    {
      "cell_type": "code",
      "execution_count": 294,
      "metadata": {
        "id": "D3XZGTYSmy_J",
        "colab": {
          "base_uri": "https://localhost:8080/"
        },
        "outputId": "e0296361-dbc3-4cd9-f83b-47d01dd1a8f0"
      },
      "outputs": [
        {
          "output_type": "stream",
          "name": "stdout",
          "text": [
            "f1_score SVM: 0.45723370429252774\n",
            "f1_score log: 0.48540884137532503\n",
            "roc_auc_score SVM: 0.6478214979381175\n",
            "roc_auc_score log: 0.661403066824487\n"
          ]
        }
      ],
      "source": [
        "from sklearn.metrics import f1_score\n",
        "acc_SVM = f1_score(y_test, pred_SVM)\n",
        "acc_log = f1_score(y_test, pred_log)\n",
        "print(\"f1_score SVM:\", acc_SVM)\n",
        "print(\"f1_score log:\", acc_log)\n",
        "from sklearn.metrics import roc_auc_score\n",
        "racc_SVM = roc_auc_score(y_test, pred_SVM)\n",
        "racc_log = roc_auc_score(y_test, pred_log)\n",
        "print(\"roc_auc_score SVM:\", racc_SVM)\n",
        "print(\"roc_auc_score log:\", racc_log)"
      ],
      "id": "D3XZGTYSmy_J"
    },
    {
      "cell_type": "markdown",
      "metadata": {
        "id": "e20ca56e"
      },
      "source": [
        "- Какая моджель лучше работает на этих данных?\n",
        "- Почему и как это можно объяснить?\n",
        "- Сделайте предположения\\выводы"
      ],
      "id": "e20ca56e"
    },
    {
      "cell_type": "markdown",
      "metadata": {
        "id": "gRjk4b1jnO1q"
      },
      "source": [
        "В данных присутсвует дисбаланс в классах, поэтому в качестве основной метрики был выбран ROC_AUC.\n",
        "\n",
        "LogisticRegression сработала лучше на этих данных чем SVM.\n",
        "\n",
        "Логистическая регрессия производит вероятностные значения, в то время как SVM выдает 1 или 0.\n",
        "\n",
        "LR более чувствителен к выбросам, чем SVM, потому что функция потерь LR расходится быстрее, чем функция SVM. Возможно в данных остались выбросы, котрые LR определил правильно."
      ],
      "id": "gRjk4b1jnO1q"
    },
    {
      "cell_type": "markdown",
      "metadata": {
        "id": "f5b45de6"
      },
      "source": [
        "### Задание 5. SVM kernel trick"
      ],
      "id": "f5b45de6"
    },
    {
      "cell_type": "markdown",
      "metadata": {
        "id": "1131a5c7"
      },
      "source": [
        "Данные не всегда могут быть хорошо разделены (гипер)плоскостью. Например, рассмотрим следующее: у нас есть данные по дозировке лекарства и 2 класса — пациенты, которые поправились, и те, которым лучше не стало."
      ],
      "id": "1131a5c7"
    },
    {
      "cell_type": "code",
      "execution_count": 295,
      "metadata": {
        "id": "2d58f5a0",
        "colab": {
          "base_uri": "https://localhost:8080/",
          "height": 311
        },
        "outputId": "63eec0b0-82f1-47a0-d73b-76f46ec75816"
      },
      "outputs": [
        {
          "output_type": "display_data",
          "data": {
            "text/plain": [
              "<Figure size 500x300 with 1 Axes>"
            ],
            "image/png": "[encoded data removed]"
          },
          "metadata": {}
        }
      ],
      "source": [
        "from matplotlib import pyplot as plt\n",
        "import seaborn as sns\n",
        "import numpy as np\n",
        "\n",
        "\n",
        "def generate_patients_data(total_len=40):\n",
        "    x = np.random.uniform(0, 50, total_len)\n",
        "    y = np.zeros_like(x)\n",
        "    y[(x > 15) & (x < 35)] = 1\n",
        "    return x, y\n",
        "\n",
        "\n",
        "def plot_data(x, y, total_len=40, s=50):\n",
        "    plt.figure(figsize=(5, 3))\n",
        "    ax = sns.scatterplot(x=x, y=np.zeros(len(x)), hue=y, s=s)\n",
        "    handles, labels = ax.get_legend_handles_labels()\n",
        "    ax.legend(handles, [\"Recover\", \"Sick\"])\n",
        "    ax.set(xlabel=\"dose, mg\")\n",
        "    return ax\n",
        "\n",
        "\n",
        "total_len = 40\n",
        "x, y = generate_patients_data(total_len=total_len)\n",
        "ax = plot_data(x, y, total_len=total_len)\n",
        "plt.show()"
      ],
      "id": "2d58f5a0"
    },
    {
      "cell_type": "markdown",
      "metadata": {
        "id": "1db615b1"
      },
      "source": [
        "Соответственно, мы не можем найти такое пороговое значение, которое будет разделять наши классы на больных и здоровых, а, следовательно, и Support Vector Classifier работать тоже не будет.  Для начала давайте преобразуем наши данные таким образом, чтобы они стали 2-хмерными. В качестве значений по оси Y будем использовать дозу, возведенную в квадрат (**доза**$^2$)."
      ],
      "id": "1db615b1"
    },
    {
      "cell_type": "code",
      "execution_count": 296,
      "metadata": {
        "id": "5d989587",
        "colab": {
          "base_uri": "https://localhost:8080/",
          "height": 311
        },
        "outputId": "92c9063f-6726-46d2-9a59-af5e8455a659"
      },
      "outputs": [
        {
          "output_type": "display_data",
          "data": {
            "text/plain": [
              "<Figure size 500x300 with 1 Axes>"
            ],
            "image/png": "[encoded data removed]"
          },
          "metadata": {}
        }
      ],
      "source": [
        "def plot_data(x, y, total_len=40, s=50):\n",
        "    plt.figure(figsize=(5, 3))\n",
        "    ax = sns.scatterplot(x=x[0, :], y=x[1, :], hue=y, s=s)\n",
        "    handles, labels = ax.get_legend_handles_labels()\n",
        "    ax.legend(handles, [\"Recover\", \"Sick\"])\n",
        "    ax.set(xlabel=\"Dose, mg\")\n",
        "    ax.set(ylabel=\"Dose$^2$\")\n",
        "    return ax\n",
        "\n",
        "\n",
        "total_len = 40\n",
        "x_1, y = generate_patients_data(total_len=total_len)\n",
        "x_2 = x_1**2\n",
        "\n",
        "x1 = np.vstack([x_1, x_2])\n",
        "plot_data(x1, y, total_len=40, s=50)\n",
        "plt.show()"
      ],
      "id": "5d989587"
    },
    {
      "cell_type": "markdown",
      "metadata": {
        "id": "bdb3a775"
      },
      "source": [
        "Теперь мы можем вновь использовать Support Vector Classifier для классификации"
      ],
      "id": "bdb3a775"
    },
    {
      "cell_type": "code",
      "execution_count": 297,
      "metadata": {
        "id": "b3fc3aed"
      },
      "outputs": [],
      "source": [
        "from sklearn.svm import SVC\n",
        "SVC1 = SVC()\n",
        "SVC_1 = SVC()\n",
        "a = [0]*len(x_1)\n",
        "x = np.concatenate (([x_1], [a]), axis= 0 )\n",
        "# fit the model on raw and on squared data\n",
        "SVC1.fit(x1.T, y)\n",
        "pre_squarred = SVC1.predict(x1.T)\n",
        "SVC_1.fit(x.T, y)\n",
        "pred_lin = SVC_1.predict(x.T)"
      ],
      "id": "b3fc3aed"
    },
    {
      "cell_type": "markdown",
      "metadata": {
        "id": "77375926"
      },
      "source": [
        " - Сравните качество моделей на сырых данных, и линейно разделимыхъ после квадратичного преобразования"
      ],
      "id": "77375926"
    },
    {
      "cell_type": "code",
      "execution_count": 298,
      "metadata": {
        "id": "f3717451",
        "colab": {
          "base_uri": "https://localhost:8080/"
        },
        "outputId": "02f8fea2-c00c-4628-ca5b-ce5315e8db8f"
      },
      "outputs": [
        {
          "output_type": "stream",
          "name": "stdout",
          "text": [
            "0.9142857142857143\n",
            "0.967741935483871\n"
          ]
        }
      ],
      "source": [
        "acc_lin = f1_score(y, pred_lin)\n",
        "acc_squared = f1_score(y, pre_squarred)\n",
        "print(acc_lin)\n",
        "print(acc_squared)"
      ],
      "id": "f3717451"
    },
    {
      "cell_type": "markdown",
      "metadata": {
        "id": "bc3e137f"
      },
      "source": [
        "Но тут возникает резонный вопрос: почему мы решили возвести в квадрат? Почему не в куб? Или, наоборот, не извлечь корень? Как нам решить, какое преобразование использовать?\n",
        "\n",
        "И у нас есть **вторая проблема** — а если перейти надо в пространство очень большой размерности? В этом случае наши данные очень сильно увеличатся в размере.\n",
        "\n",
        "Комбинация двух проблем дает нам **много сложности**: надо перебирать большое число возможных пространств большей размерности\n"
      ],
      "id": "bc3e137f"
    },
    {
      "cell_type": "markdown",
      "metadata": {
        "id": "d31015d3"
      },
      "source": [
        "Однако основная фишка Support Vector Machine состоит в том, что внутри он работает на скалярных произведениях. И можно эти скалярные произведения считать, **не переходя в пространство большей размерности**\n",
        "\n",
        "Для этого SVM использует **Kernel Function**.\n",
        "\n",
        "Kernel Function может, например, быть полиномом (**Polynomial Kernel Function**), который имеет параметр $d$ — сколько размерностей выбрать.\n"
      ],
      "id": "d31015d3"
    },
    {
      "cell_type": "markdown",
      "metadata": {
        "id": "892ed000"
      },
      "source": [
        "<img src=\"https://edunet.kea.su/repo/EduNet-content/L02/out/svm_kernel_function.png\" width=\"700\">\n"
      ],
      "id": "892ed000"
    },
    {
      "cell_type": "markdown",
      "metadata": {
        "id": "75ea62f0"
      },
      "source": [
        "- инициализируйте модель SVM с параметром kernel = rbf и обучите ее на сырых, линейно неразделимых данных (x1, y):"
      ],
      "id": "75ea62f0"
    },
    {
      "cell_type": "code",
      "execution_count": 299,
      "metadata": {
        "id": "f57ef0de",
        "colab": {
          "base_uri": "https://localhost:8080/"
        },
        "outputId": "6760e2cc-f134-40c5-bd0b-facc05e47c16"
      },
      "outputs": [
        {
          "output_type": "stream",
          "name": "stdout",
          "text": [
            "0.9142857142857143\n"
          ]
        }
      ],
      "source": [
        "SVM_kernel = SVC(kernel='rbf')\n",
        "# fit the model\n",
        "SVM_kernel.fit(x.T, y)\n",
        "pred_rbf = SVM_kernel.predict(x.T)\n",
        "acc_rbf = f1_score(y, pred_rbf)\n",
        "print(acc_rbf)"
      ],
      "id": "f57ef0de"
    },
    {
      "cell_type": "markdown",
      "metadata": {
        "id": "6c196685"
      },
      "source": [
        "- Напишите ыводы о важности параметра kernel"
      ],
      "id": "6c196685"
    },
    {
      "cell_type": "markdown",
      "metadata": {
        "id": "66lPp8gGj9Nv"
      },
      "source": [
        "SVM может проверять пространства признаков бесконечного размера, если для такого пространства существует kernel function. Для решения практических задач иногда такие бесконечномерные пространства признаков могут оказаться удобными. Широко применяемое на практике RFB ядро как раз соответствует такому случаю бесконечномерного пространства признаков."
      ],
      "id": "66lPp8gGj9Nv"
    }
  ],
  "metadata": {
    "colab": {
      "provenance": []
    },
    "kernelspec": {
      "display_name": "Python 3 (ipykernel)",
      "language": "python",
      "name": "python3"
    },
    "language_info": {
      "codemirror_mode": {
        "name": "ipython",
        "version": 3
      },
      "file_extension": ".py",
      "mimetype": "text/x-python",
      "name": "python",
      "nbconvert_exporter": "python",
      "pygments_lexer": "ipython3",
      "version": "3.10.9"
    },
    "widgets": {
      "application/vnd.jupyter.widget-state+json": {
        "14728d0ba6d045d292795465eb392e91": {
          "model_module": "@jupyter-widgets/controls",
          "model_name": "HBoxModel",
          "model_module_version": "1.5.0",
          "state": {
            "_dom_classes": [],
            "_model_module": "@jupyter-widgets/controls",
            "_model_module_version": "1.5.0",
            "_model_name": "HBoxModel",
            "_view_count": null,
            "_view_module": "@jupyter-widgets/controls",
            "_view_module_version": "1.5.0",
            "_view_name": "HBoxView",
            "box_style": "",
            "children": [
              "IPY_MODEL_39df154db7aa417ba2e2f09bee34bf8a",
              "IPY_MODEL_c9378bb0dbb44bb2813361b88af86b65",
              "IPY_MODEL_9c8ffba929504ad39ca587bacbb6b4ad"
            ],
            "layout": "IPY_MODEL_886a0192903445e9846596091c3cb075"
          }
        },
        "39df154db7aa417ba2e2f09bee34bf8a": {
          "model_module": "@jupyter-widgets/controls",
          "model_name": "HTMLModel",
          "model_module_version": "1.5.0",
          "state": {
            "_dom_classes": [],
            "_model_module": "@jupyter-widgets/controls",
            "_model_module_version": "1.5.0",
            "_model_name": "HTMLModel",
            "_view_count": null,
            "_view_module": "@jupyter-widgets/controls",
            "_view_module_version": "1.5.0",
            "_view_name": "HTMLView",
            "description": "",
            "description_tooltip": null,
            "layout": "IPY_MODEL_df0e3d0e21d549469abd95fc208629d1",
            "placeholder": "​",
            "style": "IPY_MODEL_06993f490f3249b6b14447756c66e157",
            "value": "100%"
          }
        },
        "c9378bb0dbb44bb2813361b88af86b65": {
          "model_module": "@jupyter-widgets/controls",
          "model_name": "FloatProgressModel",
          "model_module_version": "1.5.0",
          "state": {
            "_dom_classes": [],
            "_model_module": "@jupyter-widgets/controls",
            "_model_module_version": "1.5.0",
            "_model_name": "FloatProgressModel",
            "_view_count": null,
            "_view_module": "@jupyter-widgets/controls",
            "_view_module_version": "1.5.0",
            "_view_name": "ProgressView",
            "bar_style": "success",
            "description": "",
            "description_tooltip": null,
            "layout": "IPY_MODEL_6e2f9b9705714bb5a339f0414e004421",
            "max": 2000,
            "min": 0,
            "orientation": "horizontal",
            "style": "IPY_MODEL_a4184facc6924466bed88448e89b2e30",
            "value": 2000
          }
        },
        "9c8ffba929504ad39ca587bacbb6b4ad": {
          "model_module": "@jupyter-widgets/controls",
          "model_name": "HTMLModel",
          "model_module_version": "1.5.0",
          "state": {
            "_dom_classes": [],
            "_model_module": "@jupyter-widgets/controls",
            "_model_module_version": "1.5.0",
            "_model_name": "HTMLModel",
            "_view_count": null,
            "_view_module": "@jupyter-widgets/controls",
            "_view_module_version": "1.5.0",
            "_view_name": "HTMLView",
            "description": "",
            "description_tooltip": null,
            "layout": "IPY_MODEL_e28833b60a49480798db5b6df897041e",
            "placeholder": "​",
            "style": "IPY_MODEL_d939201bf34c4cb890a59749457f4e7f",
            "value": " 2000/2000 [40:59&lt;00:00,  1.13s/it]"
          }
        },
        "886a0192903445e9846596091c3cb075": {
          "model_module": "@jupyter-widgets/base",
          "model_name": "LayoutModel",
          "model_module_version": "1.2.0",
          "state": {
            "_model_module": "@jupyter-widgets/base",
            "_model_module_version": "1.2.0",
            "_model_name": "LayoutModel",
            "_view_count": null,
            "_view_module": "@jupyter-widgets/base",
            "_view_module_version": "1.2.0",
            "_view_name": "LayoutView",
            "align_content": null,
            "align_items": null,
            "align_self": null,
            "border": null,
            "bottom": null,
            "display": null,
            "flex": null,
            "flex_flow": null,
            "grid_area": null,
            "grid_auto_columns": null,
            "grid_auto_flow": null,
            "grid_auto_rows": null,
            "grid_column": null,
            "grid_gap": null,
            "grid_row": null,
            "grid_template_areas": null,
            "grid_template_columns": null,
            "grid_template_rows": null,
            "height": null,
            "justify_content": null,
            "justify_items": null,
            "left": null,
            "margin": null,
            "max_height": null,
            "max_width": null,
            "min_height": null,
            "min_width": null,
            "object_fit": null,
            "object_position": null,
            "order": null,
            "overflow": null,
            "overflow_x": null,
            "overflow_y": null,
            "padding": null,
            "right": null,
            "top": null,
            "visibility": null,
            "width": null
          }
        },
        "df0e3d0e21d549469abd95fc208629d1": {
          "model_module": "@jupyter-widgets/base",
          "model_name": "LayoutModel",
          "model_module_version": "1.2.0",
          "state": {
            "_model_module": "@jupyter-widgets/base",
            "_model_module_version": "1.2.0",
            "_model_name": "LayoutModel",
            "_view_count": null,
            "_view_module": "@jupyter-widgets/base",
            "_view_module_version": "1.2.0",
            "_view_name": "LayoutView",
            "align_content": null,
            "align_items": null,
            "align_self": null,
            "border": null,
            "bottom": null,
            "display": null,
            "flex": null,
            "flex_flow": null,
            "grid_area": null,
            "grid_auto_columns": null,
            "grid_auto_flow": null,
            "grid_auto_rows": null,
            "grid_column": null,
            "grid_gap": null,
            "grid_row": null,
            "grid_template_areas": null,
            "grid_template_columns": null,
            "grid_template_rows": null,
            "height": null,
            "justify_content": null,
            "justify_items": null,
            "left": null,
            "margin": null,
            "max_height": null,
            "max_width": null,
            "min_height": null,
            "min_width": null,
            "object_fit": null,
            "object_position": null,
            "order": null,
            "overflow": null,
            "overflow_x": null,
            "overflow_y": null,
            "padding": null,
            "right": null,
            "top": null,
            "visibility": null,
            "width": null
          }
        },
        "06993f490f3249b6b14447756c66e157": {
          "model_module": "@jupyter-widgets/controls",
          "model_name": "DescriptionStyleModel",
          "model_module_version": "1.5.0",
          "state": {
            "_model_module": "@jupyter-widgets/controls",
            "_model_module_version": "1.5.0",
            "_model_name": "DescriptionStyleModel",
            "_view_count": null,
            "_view_module": "@jupyter-widgets/base",
            "_view_module_version": "1.2.0",
            "_view_name": "StyleView",
            "description_width": ""
          }
        },
        "6e2f9b9705714bb5a339f0414e004421": {
          "model_module": "@jupyter-widgets/base",
          "model_name": "LayoutModel",
          "model_module_version": "1.2.0",
          "state": {
            "_model_module": "@jupyter-widgets/base",
            "_model_module_version": "1.2.0",
            "_model_name": "LayoutModel",
            "_view_count": null,
            "_view_module": "@jupyter-widgets/base",
            "_view_module_version": "1.2.0",
            "_view_name": "LayoutView",
            "align_content": null,
            "align_items": null,
            "align_self": null,
            "border": null,
            "bottom": null,
            "display": null,
            "flex": null,
            "flex_flow": null,
            "grid_area": null,
            "grid_auto_columns": null,
            "grid_auto_flow": null,
            "grid_auto_rows": null,
            "grid_column": null,
            "grid_gap": null,
            "grid_row": null,
            "grid_template_areas": null,
            "grid_template_columns": null,
            "grid_template_rows": null,
            "height": null,
            "justify_content": null,
            "justify_items": null,
            "left": null,
            "margin": null,
            "max_height": null,
            "max_width": null,
            "min_height": null,
            "min_width": null,
            "object_fit": null,
            "object_position": null,
            "order": null,
            "overflow": null,
            "overflow_x": null,
            "overflow_y": null,
            "padding": null,
            "right": null,
            "top": null,
            "visibility": null,
            "width": null
          }
        },
        "a4184facc6924466bed88448e89b2e30": {
          "model_module": "@jupyter-widgets/controls",
          "model_name": "ProgressStyleModel",
          "model_module_version": "1.5.0",
          "state": {
            "_model_module": "@jupyter-widgets/controls",
            "_model_module_version": "1.5.0",
            "_model_name": "ProgressStyleModel",
            "_view_count": null,
            "_view_module": "@jupyter-widgets/base",
            "_view_module_version": "1.2.0",
            "_view_name": "StyleView",
            "bar_color": null,
            "description_width": ""
          }
        },
        "e28833b60a49480798db5b6df897041e": {
          "model_module": "@jupyter-widgets/base",
          "model_name": "LayoutModel",
          "model_module_version": "1.2.0",
          "state": {
            "_model_module": "@jupyter-widgets/base",
            "_model_module_version": "1.2.0",
            "_model_name": "LayoutModel",
            "_view_count": null,
            "_view_module": "@jupyter-widgets/base",
            "_view_module_version": "1.2.0",
            "_view_name": "LayoutView",
            "align_content": null,
            "align_items": null,
            "align_self": null,
            "border": null,
            "bottom": null,
            "display": null,
            "flex": null,
            "flex_flow": null,
            "grid_area": null,
            "grid_auto_columns": null,
            "grid_auto_flow": null,
            "grid_auto_rows": null,
            "grid_column": null,
            "grid_gap": null,
            "grid_row": null,
            "grid_template_areas": null,
            "grid_template_columns": null,
            "grid_template_rows": null,
            "height": null,
            "justify_content": null,
            "justify_items": null,
            "left": null,
            "margin": null,
            "max_height": null,
            "max_width": null,
            "min_height": null,
            "min_width": null,
            "object_fit": null,
            "object_position": null,
            "order": null,
            "overflow": null,
            "overflow_x": null,
            "overflow_y": null,
            "padding": null,
            "right": null,
            "top": null,
            "visibility": null,
            "width": null
          }
        },
        "d939201bf34c4cb890a59749457f4e7f": {
          "model_module": "@jupyter-widgets/controls",
          "model_name": "DescriptionStyleModel",
          "model_module_version": "1.5.0",
          "state": {
            "_model_module": "@jupyter-widgets/controls",
            "_model_module_version": "1.5.0",
            "_model_name": "DescriptionStyleModel",
            "_view_count": null,
            "_view_module": "@jupyter-widgets/base",
            "_view_module_version": "1.2.0",
            "_view_name": "StyleView",
            "description_width": ""
          }
        },
        "eff9d55e2f094ad4acfb2222c9c2b57e": {
          "model_module": "@jupyter-widgets/controls",
          "model_name": "HBoxModel",
          "model_module_version": "1.5.0",
          "state": {
            "_dom_classes": [],
            "_model_module": "@jupyter-widgets/controls",
            "_model_module_version": "1.5.0",
            "_model_name": "HBoxModel",
            "_view_count": null,
            "_view_module": "@jupyter-widgets/controls",
            "_view_module_version": "1.5.0",
            "_view_name": "HBoxView",
            "box_style": "",
            "children": [
              "IPY_MODEL_58a6f472573c4656bc7ace8ba656f70c",
              "IPY_MODEL_d8ef69933fea4b6da0af76514fab66f6",
              "IPY_MODEL_3d773c74ec6c4589801e11fff3825eef"
            ],
            "layout": "IPY_MODEL_c27bb5d4ee204531b4cf544d41231f0e"
          }
        },
        "58a6f472573c4656bc7ace8ba656f70c": {
          "model_module": "@jupyter-widgets/controls",
          "model_name": "HTMLModel",
          "model_module_version": "1.5.0",
          "state": {
            "_dom_classes": [],
            "_model_module": "@jupyter-widgets/controls",
            "_model_module_version": "1.5.0",
            "_model_name": "HTMLModel",
            "_view_count": null,
            "_view_module": "@jupyter-widgets/controls",
            "_view_module_version": "1.5.0",
            "_view_name": "HTMLView",
            "description": "",
            "description_tooltip": null,
            "layout": "IPY_MODEL_b54257678d3c40a18ae65116862ad171",
            "placeholder": "​",
            "style": "IPY_MODEL_2616432ad1bb42cc92f6c9d05ad4012c",
            "value": "100%"
          }
        },
        "d8ef69933fea4b6da0af76514fab66f6": {
          "model_module": "@jupyter-widgets/controls",
          "model_name": "FloatProgressModel",
          "model_module_version": "1.5.0",
          "state": {
            "_dom_classes": [],
            "_model_module": "@jupyter-widgets/controls",
            "_model_module_version": "1.5.0",
            "_model_name": "FloatProgressModel",
            "_view_count": null,
            "_view_module": "@jupyter-widgets/controls",
            "_view_module_version": "1.5.0",
            "_view_name": "ProgressView",
            "bar_style": "success",
            "description": "",
            "description_tooltip": null,
            "layout": "IPY_MODEL_9b50055eb559407a82c44fcd9e9a7580",
            "max": 99,
            "min": 0,
            "orientation": "horizontal",
            "style": "IPY_MODEL_21249314d36d4922971fe53dadf0b145",
            "value": 99
          }
        },
        "3d773c74ec6c4589801e11fff3825eef": {
          "model_module": "@jupyter-widgets/controls",
          "model_name": "HTMLModel",
          "model_module_version": "1.5.0",
          "state": {
            "_dom_classes": [],
            "_model_module": "@jupyter-widgets/controls",
            "_model_module_version": "1.5.0",
            "_model_name": "HTMLModel",
            "_view_count": null,
            "_view_module": "@jupyter-widgets/controls",
            "_view_module_version": "1.5.0",
            "_view_name": "HTMLView",
            "description": "",
            "description_tooltip": null,
            "layout": "IPY_MODEL_49abc60881c44b3caaeac90cee461bbd",
            "placeholder": "​",
            "style": "IPY_MODEL_ece4b280955b4ed89dcca82b0270bde1",
            "value": " 99/99 [00:56&lt;00:00,  1.51it/s]"
          }
        },
        "c27bb5d4ee204531b4cf544d41231f0e": {
          "model_module": "@jupyter-widgets/base",
          "model_name": "LayoutModel",
          "model_module_version": "1.2.0",
          "state": {
            "_model_module": "@jupyter-widgets/base",
            "_model_module_version": "1.2.0",
            "_model_name": "LayoutModel",
            "_view_count": null,
            "_view_module": "@jupyter-widgets/base",
            "_view_module_version": "1.2.0",
            "_view_name": "LayoutView",
            "align_content": null,
            "align_items": null,
            "align_self": null,
            "border": null,
            "bottom": null,
            "display": null,
            "flex": null,
            "flex_flow": null,
            "grid_area": null,
            "grid_auto_columns": null,
            "grid_auto_flow": null,
            "grid_auto_rows": null,
            "grid_column": null,
            "grid_gap": null,
            "grid_row": null,
            "grid_template_areas": null,
            "grid_template_columns": null,
            "grid_template_rows": null,
            "height": null,
            "justify_content": null,
            "justify_items": null,
            "left": null,
            "margin": null,
            "max_height": null,
            "max_width": null,
            "min_height": null,
            "min_width": null,
            "object_fit": null,
            "object_position": null,
            "order": null,
            "overflow": null,
            "overflow_x": null,
            "overflow_y": null,
            "padding": null,
            "right": null,
            "top": null,
            "visibility": null,
            "width": null
          }
        },
        "b54257678d3c40a18ae65116862ad171": {
          "model_module": "@jupyter-widgets/base",
          "model_name": "LayoutModel",
          "model_module_version": "1.2.0",
          "state": {
            "_model_module": "@jupyter-widgets/base",
            "_model_module_version": "1.2.0",
            "_model_name": "LayoutModel",
            "_view_count": null,
            "_view_module": "@jupyter-widgets/base",
            "_view_module_version": "1.2.0",
            "_view_name": "LayoutView",
            "align_content": null,
            "align_items": null,
            "align_self": null,
            "border": null,
            "bottom": null,
            "display": null,
            "flex": null,
            "flex_flow": null,
            "grid_area": null,
            "grid_auto_columns": null,
            "grid_auto_flow": null,
            "grid_auto_rows": null,
            "grid_column": null,
            "grid_gap": null,
            "grid_row": null,
            "grid_template_areas": null,
            "grid_template_columns": null,
            "grid_template_rows": null,
            "height": null,
            "justify_content": null,
            "justify_items": null,
            "left": null,
            "margin": null,
            "max_height": null,
            "max_width": null,
            "min_height": null,
            "min_width": null,
            "object_fit": null,
            "object_position": null,
            "order": null,
            "overflow": null,
            "overflow_x": null,
            "overflow_y": null,
            "padding": null,
            "right": null,
            "top": null,
            "visibility": null,
            "width": null
          }
        },
        "2616432ad1bb42cc92f6c9d05ad4012c": {
          "model_module": "@jupyter-widgets/controls",
          "model_name": "DescriptionStyleModel",
          "model_module_version": "1.5.0",
          "state": {
            "_model_module": "@jupyter-widgets/controls",
            "_model_module_version": "1.5.0",
            "_model_name": "DescriptionStyleModel",
            "_view_count": null,
            "_view_module": "@jupyter-widgets/base",
            "_view_module_version": "1.2.0",
            "_view_name": "StyleView",
            "description_width": ""
          }
        },
        "9b50055eb559407a82c44fcd9e9a7580": {
          "model_module": "@jupyter-widgets/base",
          "model_name": "LayoutModel",
          "model_module_version": "1.2.0",
          "state": {
            "_model_module": "@jupyter-widgets/base",
            "_model_module_version": "1.2.0",
            "_model_name": "LayoutModel",
            "_view_count": null,
            "_view_module": "@jupyter-widgets/base",
            "_view_module_version": "1.2.0",
            "_view_name": "LayoutView",
            "align_content": null,
            "align_items": null,
            "align_self": null,
            "border": null,
            "bottom": null,
            "display": null,
            "flex": null,
            "flex_flow": null,
            "grid_area": null,
            "grid_auto_columns": null,
            "grid_auto_flow": null,
            "grid_auto_rows": null,
            "grid_column": null,
            "grid_gap": null,
            "grid_row": null,
            "grid_template_areas": null,
            "grid_template_columns": null,
            "grid_template_rows": null,
            "height": null,
            "justify_content": null,
            "justify_items": null,
            "left": null,
            "margin": null,
            "max_height": null,
            "max_width": null,
            "min_height": null,
            "min_width": null,
            "object_fit": null,
            "object_position": null,
            "order": null,
            "overflow": null,
            "overflow_x": null,
            "overflow_y": null,
            "padding": null,
            "right": null,
            "top": null,
            "visibility": null,
            "width": null
          }
        },
        "21249314d36d4922971fe53dadf0b145": {
          "model_module": "@jupyter-widgets/controls",
          "model_name": "ProgressStyleModel",
          "model_module_version": "1.5.0",
          "state": {
            "_model_module": "@jupyter-widgets/controls",
            "_model_module_version": "1.5.0",
            "_model_name": "ProgressStyleModel",
            "_view_count": null,
            "_view_module": "@jupyter-widgets/base",
            "_view_module_version": "1.2.0",
            "_view_name": "StyleView",
            "bar_color": null,
            "description_width": ""
          }
        },
        "49abc60881c44b3caaeac90cee461bbd": {
          "model_module": "@jupyter-widgets/base",
          "model_name": "LayoutModel",
          "model_module_version": "1.2.0",
          "state": {
            "_model_module": "@jupyter-widgets/base",
            "_model_module_version": "1.2.0",
            "_model_name": "LayoutModel",
            "_view_count": null,
            "_view_module": "@jupyter-widgets/base",
            "_view_module_version": "1.2.0",
            "_view_name": "LayoutView",
            "align_content": null,
            "align_items": null,
            "align_self": null,
            "border": null,
            "bottom": null,
            "display": null,
            "flex": null,
            "flex_flow": null,
            "grid_area": null,
            "grid_auto_columns": null,
            "grid_auto_flow": null,
            "grid_auto_rows": null,
            "grid_column": null,
            "grid_gap": null,
            "grid_row": null,
            "grid_template_areas": null,
            "grid_template_columns": null,
            "grid_template_rows": null,
            "height": null,
            "justify_content": null,
            "justify_items": null,
            "left": null,
            "margin": null,
            "max_height": null,
            "max_width": null,
            "min_height": null,
            "min_width": null,
            "object_fit": null,
            "object_position": null,
            "order": null,
            "overflow": null,
            "overflow_x": null,
            "overflow_y": null,
            "padding": null,
            "right": null,
            "top": null,
            "visibility": null,
            "width": null
          }
        },
        "ece4b280955b4ed89dcca82b0270bde1": {
          "model_module": "@jupyter-widgets/controls",
          "model_name": "DescriptionStyleModel",
          "model_module_version": "1.5.0",
          "state": {
            "_model_module": "@jupyter-widgets/controls",
            "_model_module_version": "1.5.0",
            "_model_name": "DescriptionStyleModel",
            "_view_count": null,
            "_view_module": "@jupyter-widgets/base",
            "_view_module_version": "1.2.0",
            "_view_name": "StyleView",
            "description_width": ""
          }
        },
        "85da69a616bc42dc86f1d2425813391c": {
          "model_module": "@jupyter-widgets/controls",
          "model_name": "HBoxModel",
          "model_module_version": "1.5.0",
          "state": {
            "_dom_classes": [],
            "_model_module": "@jupyter-widgets/controls",
            "_model_module_version": "1.5.0",
            "_model_name": "HBoxModel",
            "_view_count": null,
            "_view_module": "@jupyter-widgets/controls",
            "_view_module_version": "1.5.0",
            "_view_name": "HBoxView",
            "box_style": "",
            "children": [
              "IPY_MODEL_b005b6f45cd449509b503708c139468c",
              "IPY_MODEL_b36b753c77b14d20a5e80ec5eedb6bb4",
              "IPY_MODEL_2c25ed71a33e4c52a6fe39b44c5ba49a"
            ],
            "layout": "IPY_MODEL_7377b3b5abd044408771d508ee585c18"
          }
        },
        "b005b6f45cd449509b503708c139468c": {
          "model_module": "@jupyter-widgets/controls",
          "model_name": "HTMLModel",
          "model_module_version": "1.5.0",
          "state": {
            "_dom_classes": [],
            "_model_module": "@jupyter-widgets/controls",
            "_model_module_version": "1.5.0",
            "_model_name": "HTMLModel",
            "_view_count": null,
            "_view_module": "@jupyter-widgets/controls",
            "_view_module_version": "1.5.0",
            "_view_name": "HTMLView",
            "description": "",
            "description_tooltip": null,
            "layout": "IPY_MODEL_ce5341b77f6542679789f13728afe253",
            "placeholder": "​",
            "style": "IPY_MODEL_de6da886499446e69490a3c31113ea93",
            "value": "100%"
          }
        },
        "b36b753c77b14d20a5e80ec5eedb6bb4": {
          "model_module": "@jupyter-widgets/controls",
          "model_name": "FloatProgressModel",
          "model_module_version": "1.5.0",
          "state": {
            "_dom_classes": [],
            "_model_module": "@jupyter-widgets/controls",
            "_model_module_version": "1.5.0",
            "_model_name": "FloatProgressModel",
            "_view_count": null,
            "_view_module": "@jupyter-widgets/controls",
            "_view_module_version": "1.5.0",
            "_view_name": "ProgressView",
            "bar_style": "success",
            "description": "",
            "description_tooltip": null,
            "layout": "IPY_MODEL_53ead335578d46cfb89ff0e0d0b9d59e",
            "max": 2000,
            "min": 0,
            "orientation": "horizontal",
            "style": "IPY_MODEL_9f3ecc216cfd4d0285e615fd59cd2125",
            "value": 2000
          }
        },
        "2c25ed71a33e4c52a6fe39b44c5ba49a": {
          "model_module": "@jupyter-widgets/controls",
          "model_name": "HTMLModel",
          "model_module_version": "1.5.0",
          "state": {
            "_dom_classes": [],
            "_model_module": "@jupyter-widgets/controls",
            "_model_module_version": "1.5.0",
            "_model_name": "HTMLModel",
            "_view_count": null,
            "_view_module": "@jupyter-widgets/controls",
            "_view_module_version": "1.5.0",
            "_view_name": "HTMLView",
            "description": "",
            "description_tooltip": null,
            "layout": "IPY_MODEL_be941259f5b3405cb2b46d1266bce48f",
            "placeholder": "​",
            "style": "IPY_MODEL_0966385d2e0843aea8c623c4f78810a8",
            "value": " 2000/2000 [41:15&lt;00:00,  1.34s/it]"
          }
        },
        "7377b3b5abd044408771d508ee585c18": {
          "model_module": "@jupyter-widgets/base",
          "model_name": "LayoutModel",
          "model_module_version": "1.2.0",
          "state": {
            "_model_module": "@jupyter-widgets/base",
            "_model_module_version": "1.2.0",
            "_model_name": "LayoutModel",
            "_view_count": null,
            "_view_module": "@jupyter-widgets/base",
            "_view_module_version": "1.2.0",
            "_view_name": "LayoutView",
            "align_content": null,
            "align_items": null,
            "align_self": null,
            "border": null,
            "bottom": null,
            "display": null,
            "flex": null,
            "flex_flow": null,
            "grid_area": null,
            "grid_auto_columns": null,
            "grid_auto_flow": null,
            "grid_auto_rows": null,
            "grid_column": null,
            "grid_gap": null,
            "grid_row": null,
            "grid_template_areas": null,
            "grid_template_columns": null,
            "grid_template_rows": null,
            "height": null,
            "justify_content": null,
            "justify_items": null,
            "left": null,
            "margin": null,
            "max_height": null,
            "max_width": null,
            "min_height": null,
            "min_width": null,
            "object_fit": null,
            "object_position": null,
            "order": null,
            "overflow": null,
            "overflow_x": null,
            "overflow_y": null,
            "padding": null,
            "right": null,
            "top": null,
            "visibility": null,
            "width": null
          }
        },
        "ce5341b77f6542679789f13728afe253": {
          "model_module": "@jupyter-widgets/base",
          "model_name": "LayoutModel",
          "model_module_version": "1.2.0",
          "state": {
            "_model_module": "@jupyter-widgets/base",
            "_model_module_version": "1.2.0",
            "_model_name": "LayoutModel",
            "_view_count": null,
            "_view_module": "@jupyter-widgets/base",
            "_view_module_version": "1.2.0",
            "_view_name": "LayoutView",
            "align_content": null,
            "align_items": null,
            "align_self": null,
            "border": null,
            "bottom": null,
            "display": null,
            "flex": null,
            "flex_flow": null,
            "grid_area": null,
            "grid_auto_columns": null,
            "grid_auto_flow": null,
            "grid_auto_rows": null,
            "grid_column": null,
            "grid_gap": null,
            "grid_row": null,
            "grid_template_areas": null,
            "grid_template_columns": null,
            "grid_template_rows": null,
            "height": null,
            "justify_content": null,
            "justify_items": null,
            "left": null,
            "margin": null,
            "max_height": null,
            "max_width": null,
            "min_height": null,
            "min_width": null,
            "object_fit": null,
            "object_position": null,
            "order": null,
            "overflow": null,
            "overflow_x": null,
            "overflow_y": null,
            "padding": null,
            "right": null,
            "top": null,
            "visibility": null,
            "width": null
          }
        },
        "de6da886499446e69490a3c31113ea93": {
          "model_module": "@jupyter-widgets/controls",
          "model_name": "DescriptionStyleModel",
          "model_module_version": "1.5.0",
          "state": {
            "_model_module": "@jupyter-widgets/controls",
            "_model_module_version": "1.5.0",
            "_model_name": "DescriptionStyleModel",
            "_view_count": null,
            "_view_module": "@jupyter-widgets/base",
            "_view_module_version": "1.2.0",
            "_view_name": "StyleView",
            "description_width": ""
          }
        },
        "53ead335578d46cfb89ff0e0d0b9d59e": {
          "model_module": "@jupyter-widgets/base",
          "model_name": "LayoutModel",
          "model_module_version": "1.2.0",
          "state": {
            "_model_module": "@jupyter-widgets/base",
            "_model_module_version": "1.2.0",
            "_model_name": "LayoutModel",
            "_view_count": null,
            "_view_module": "@jupyter-widgets/base",
            "_view_module_version": "1.2.0",
            "_view_name": "LayoutView",
            "align_content": null,
            "align_items": null,
            "align_self": null,
            "border": null,
            "bottom": null,
            "display": null,
            "flex": null,
            "flex_flow": null,
            "grid_area": null,
            "grid_auto_columns": null,
            "grid_auto_flow": null,
            "grid_auto_rows": null,
            "grid_column": null,
            "grid_gap": null,
            "grid_row": null,
            "grid_template_areas": null,
            "grid_template_columns": null,
            "grid_template_rows": null,
            "height": null,
            "justify_content": null,
            "justify_items": null,
            "left": null,
            "margin": null,
            "max_height": null,
            "max_width": null,
            "min_height": null,
            "min_width": null,
            "object_fit": null,
            "object_position": null,
            "order": null,
            "overflow": null,
            "overflow_x": null,
            "overflow_y": null,
            "padding": null,
            "right": null,
            "top": null,
            "visibility": null,
            "width": null
          }
        },
        "9f3ecc216cfd4d0285e615fd59cd2125": {
          "model_module": "@jupyter-widgets/controls",
          "model_name": "ProgressStyleModel",
          "model_module_version": "1.5.0",
          "state": {
            "_model_module": "@jupyter-widgets/controls",
            "_model_module_version": "1.5.0",
            "_model_name": "ProgressStyleModel",
            "_view_count": null,
            "_view_module": "@jupyter-widgets/base",
            "_view_module_version": "1.2.0",
            "_view_name": "StyleView",
            "bar_color": null,
            "description_width": ""
          }
        },
        "be941259f5b3405cb2b46d1266bce48f": {
          "model_module": "@jupyter-widgets/base",
          "model_name": "LayoutModel",
          "model_module_version": "1.2.0",
          "state": {
            "_model_module": "@jupyter-widgets/base",
            "_model_module_version": "1.2.0",
            "_model_name": "LayoutModel",
            "_view_count": null,
            "_view_module": "@jupyter-widgets/base",
            "_view_module_version": "1.2.0",
            "_view_name": "LayoutView",
            "align_content": null,
            "align_items": null,
            "align_self": null,
            "border": null,
            "bottom": null,
            "display": null,
            "flex": null,
            "flex_flow": null,
            "grid_area": null,
            "grid_auto_columns": null,
            "grid_auto_flow": null,
            "grid_auto_rows": null,
            "grid_column": null,
            "grid_gap": null,
            "grid_row": null,
            "grid_template_areas": null,
            "grid_template_columns": null,
            "grid_template_rows": null,
            "height": null,
            "justify_content": null,
            "justify_items": null,
            "left": null,
            "margin": null,
            "max_height": null,
            "max_width": null,
            "min_height": null,
            "min_width": null,
            "object_fit": null,
            "object_position": null,
            "order": null,
            "overflow": null,
            "overflow_x": null,
            "overflow_y": null,
            "padding": null,
            "right": null,
            "top": null,
            "visibility": null,
            "width": null
          }
        },
        "0966385d2e0843aea8c623c4f78810a8": {
          "model_module": "@jupyter-widgets/controls",
          "model_name": "DescriptionStyleModel",
          "model_module_version": "1.5.0",
          "state": {
            "_model_module": "@jupyter-widgets/controls",
            "_model_module_version": "1.5.0",
            "_model_name": "DescriptionStyleModel",
            "_view_count": null,
            "_view_module": "@jupyter-widgets/base",
            "_view_module_version": "1.2.0",
            "_view_name": "StyleView",
            "description_width": ""
          }
        },
        "469e814fb9334836892612e71f164870": {
          "model_module": "@jupyter-widgets/controls",
          "model_name": "HBoxModel",
          "model_module_version": "1.5.0",
          "state": {
            "_dom_classes": [],
            "_model_module": "@jupyter-widgets/controls",
            "_model_module_version": "1.5.0",
            "_model_name": "HBoxModel",
            "_view_count": null,
            "_view_module": "@jupyter-widgets/controls",
            "_view_module_version": "1.5.0",
            "_view_name": "HBoxView",
            "box_style": "",
            "children": [
              "IPY_MODEL_95a9d012660c464aaa686994498e2170",
              "IPY_MODEL_06bdfe2bcd284ed49ccec68cd340bff6",
              "IPY_MODEL_eaebf4565f414a8eb3bd41fa0fb73c6d"
            ],
            "layout": "IPY_MODEL_061cfb827bcd4997b9a3e02f42fe27a1"
          }
        },
        "95a9d012660c464aaa686994498e2170": {
          "model_module": "@jupyter-widgets/controls",
          "model_name": "HTMLModel",
          "model_module_version": "1.5.0",
          "state": {
            "_dom_classes": [],
            "_model_module": "@jupyter-widgets/controls",
            "_model_module_version": "1.5.0",
            "_model_name": "HTMLModel",
            "_view_count": null,
            "_view_module": "@jupyter-widgets/controls",
            "_view_module_version": "1.5.0",
            "_view_name": "HTMLView",
            "description": "",
            "description_tooltip": null,
            "layout": "IPY_MODEL_d631389524594fbd90927505825817fc",
            "placeholder": "​",
            "style": "IPY_MODEL_2e28fc6308ea4886b2936243cf5d4857",
            "value": "100%"
          }
        },
        "06bdfe2bcd284ed49ccec68cd340bff6": {
          "model_module": "@jupyter-widgets/controls",
          "model_name": "FloatProgressModel",
          "model_module_version": "1.5.0",
          "state": {
            "_dom_classes": [],
            "_model_module": "@jupyter-widgets/controls",
            "_model_module_version": "1.5.0",
            "_model_name": "FloatProgressModel",
            "_view_count": null,
            "_view_module": "@jupyter-widgets/controls",
            "_view_module_version": "1.5.0",
            "_view_name": "ProgressView",
            "bar_style": "success",
            "description": "",
            "description_tooltip": null,
            "layout": "IPY_MODEL_5e06a932866041348646b857685607b7",
            "max": 99,
            "min": 0,
            "orientation": "horizontal",
            "style": "IPY_MODEL_f229c87892da4c6e8e78462c32985066",
            "value": 99
          }
        },
        "eaebf4565f414a8eb3bd41fa0fb73c6d": {
          "model_module": "@jupyter-widgets/controls",
          "model_name": "HTMLModel",
          "model_module_version": "1.5.0",
          "state": {
            "_dom_classes": [],
            "_model_module": "@jupyter-widgets/controls",
            "_model_module_version": "1.5.0",
            "_model_name": "HTMLModel",
            "_view_count": null,
            "_view_module": "@jupyter-widgets/controls",
            "_view_module_version": "1.5.0",
            "_view_name": "HTMLView",
            "description": "",
            "description_tooltip": null,
            "layout": "IPY_MODEL_084ce2250b08491781db6775615972fe",
            "placeholder": "​",
            "style": "IPY_MODEL_f81f3b2c30da48c89f68ffacc49dec8c",
            "value": " 99/99 [00:55&lt;00:00,  1.86it/s]"
          }
        },
        "061cfb827bcd4997b9a3e02f42fe27a1": {
          "model_module": "@jupyter-widgets/base",
          "model_name": "LayoutModel",
          "model_module_version": "1.2.0",
          "state": {
            "_model_module": "@jupyter-widgets/base",
            "_model_module_version": "1.2.0",
            "_model_name": "LayoutModel",
            "_view_count": null,
            "_view_module": "@jupyter-widgets/base",
            "_view_module_version": "1.2.0",
            "_view_name": "LayoutView",
            "align_content": null,
            "align_items": null,
            "align_self": null,
            "border": null,
            "bottom": null,
            "display": null,
            "flex": null,
            "flex_flow": null,
            "grid_area": null,
            "grid_auto_columns": null,
            "grid_auto_flow": null,
            "grid_auto_rows": null,
            "grid_column": null,
            "grid_gap": null,
            "grid_row": null,
            "grid_template_areas": null,
            "grid_template_columns": null,
            "grid_template_rows": null,
            "height": null,
            "justify_content": null,
            "justify_items": null,
            "left": null,
            "margin": null,
            "max_height": null,
            "max_width": null,
            "min_height": null,
            "min_width": null,
            "object_fit": null,
            "object_position": null,
            "order": null,
            "overflow": null,
            "overflow_x": null,
            "overflow_y": null,
            "padding": null,
            "right": null,
            "top": null,
            "visibility": null,
            "width": null
          }
        },
        "d631389524594fbd90927505825817fc": {
          "model_module": "@jupyter-widgets/base",
          "model_name": "LayoutModel",
          "model_module_version": "1.2.0",
          "state": {
            "_model_module": "@jupyter-widgets/base",
            "_model_module_version": "1.2.0",
            "_model_name": "LayoutModel",
            "_view_count": null,
            "_view_module": "@jupyter-widgets/base",
            "_view_module_version": "1.2.0",
            "_view_name": "LayoutView",
            "align_content": null,
            "align_items": null,
            "align_self": null,
            "border": null,
            "bottom": null,
            "display": null,
            "flex": null,
            "flex_flow": null,
            "grid_area": null,
            "grid_auto_columns": null,
            "grid_auto_flow": null,
            "grid_auto_rows": null,
            "grid_column": null,
            "grid_gap": null,
            "grid_row": null,
            "grid_template_areas": null,
            "grid_template_columns": null,
            "grid_template_rows": null,
            "height": null,
            "justify_content": null,
            "justify_items": null,
            "left": null,
            "margin": null,
            "max_height": null,
            "max_width": null,
            "min_height": null,
            "min_width": null,
            "object_fit": null,
            "object_position": null,
            "order": null,
            "overflow": null,
            "overflow_x": null,
            "overflow_y": null,
            "padding": null,
            "right": null,
            "top": null,
            "visibility": null,
            "width": null
          }
        },
        "2e28fc6308ea4886b2936243cf5d4857": {
          "model_module": "@jupyter-widgets/controls",
          "model_name": "DescriptionStyleModel",
          "model_module_version": "1.5.0",
          "state": {
            "_model_module": "@jupyter-widgets/controls",
            "_model_module_version": "1.5.0",
            "_model_name": "DescriptionStyleModel",
            "_view_count": null,
            "_view_module": "@jupyter-widgets/base",
            "_view_module_version": "1.2.0",
            "_view_name": "StyleView",
            "description_width": ""
          }
        },
        "5e06a932866041348646b857685607b7": {
          "model_module": "@jupyter-widgets/base",
          "model_name": "LayoutModel",
          "model_module_version": "1.2.0",
          "state": {
            "_model_module": "@jupyter-widgets/base",
            "_model_module_version": "1.2.0",
            "_model_name": "LayoutModel",
            "_view_count": null,
            "_view_module": "@jupyter-widgets/base",
            "_view_module_version": "1.2.0",
            "_view_name": "LayoutView",
            "align_content": null,
            "align_items": null,
            "align_self": null,
            "border": null,
            "bottom": null,
            "display": null,
            "flex": null,
            "flex_flow": null,
            "grid_area": null,
            "grid_auto_columns": null,
            "grid_auto_flow": null,
            "grid_auto_rows": null,
            "grid_column": null,
            "grid_gap": null,
            "grid_row": null,
            "grid_template_areas": null,
            "grid_template_columns": null,
            "grid_template_rows": null,
            "height": null,
            "justify_content": null,
            "justify_items": null,
            "left": null,
            "margin": null,
            "max_height": null,
            "max_width": null,
            "min_height": null,
            "min_width": null,
            "object_fit": null,
            "object_position": null,
            "order": null,
            "overflow": null,
            "overflow_x": null,
            "overflow_y": null,
            "padding": null,
            "right": null,
            "top": null,
            "visibility": null,
            "width": null
          }
        },
        "f229c87892da4c6e8e78462c32985066": {
          "model_module": "@jupyter-widgets/controls",
          "model_name": "ProgressStyleModel",
          "model_module_version": "1.5.0",
          "state": {
            "_model_module": "@jupyter-widgets/controls",
            "_model_module_version": "1.5.0",
            "_model_name": "ProgressStyleModel",
            "_view_count": null,
            "_view_module": "@jupyter-widgets/base",
            "_view_module_version": "1.2.0",
            "_view_name": "StyleView",
            "bar_color": null,
            "description_width": ""
          }
        },
        "084ce2250b08491781db6775615972fe": {
          "model_module": "@jupyter-widgets/base",
          "model_name": "LayoutModel",
          "model_module_version": "1.2.0",
          "state": {
            "_model_module": "@jupyter-widgets/base",
            "_model_module_version": "1.2.0",
            "_model_name": "LayoutModel",
            "_view_count": null,
            "_view_module": "@jupyter-widgets/base",
            "_view_module_version": "1.2.0",
            "_view_name": "LayoutView",
            "align_content": null,
            "align_items": null,
            "align_self": null,
            "border": null,
            "bottom": null,
            "display": null,
            "flex": null,
            "flex_flow": null,
            "grid_area": null,
            "grid_auto_columns": null,
            "grid_auto_flow": null,
            "grid_auto_rows": null,
            "grid_column": null,
            "grid_gap": null,
            "grid_row": null,
            "grid_template_areas": null,
            "grid_template_columns": null,
            "grid_template_rows": null,
            "height": null,
            "justify_content": null,
            "justify_items": null,
            "left": null,
            "margin": null,
            "max_height": null,
            "max_width": null,
            "min_height": null,
            "min_width": null,
            "object_fit": null,
            "object_position": null,
            "order": null,
            "overflow": null,
            "overflow_x": null,
            "overflow_y": null,
            "padding": null,
            "right": null,
            "top": null,
            "visibility": null,
            "width": null
          }
        },
        "f81f3b2c30da48c89f68ffacc49dec8c": {
          "model_module": "@jupyter-widgets/controls",
          "model_name": "DescriptionStyleModel",
          "model_module_version": "1.5.0",
          "state": {
            "_model_module": "@jupyter-widgets/controls",
            "_model_module_version": "1.5.0",
            "_model_name": "DescriptionStyleModel",
            "_view_count": null,
            "_view_module": "@jupyter-widgets/base",
            "_view_module_version": "1.2.0",
            "_view_name": "StyleView",
            "description_width": ""
          }
        },
        "1a10caeff0a543fb9626db9458b7863a": {
          "model_module": "@jupyter-widgets/controls",
          "model_name": "HBoxModel",
          "model_module_version": "1.5.0",
          "state": {
            "_dom_classes": [],
            "_model_module": "@jupyter-widgets/controls",
            "_model_module_version": "1.5.0",
            "_model_name": "HBoxModel",
            "_view_count": null,
            "_view_module": "@jupyter-widgets/controls",
            "_view_module_version": "1.5.0",
            "_view_name": "HBoxView",
            "box_style": "",
            "children": [
              "IPY_MODEL_41e49cbcf3104c139d841e3b9b30c86f",
              "IPY_MODEL_53b9528ff2874f74b48ba1bd8cd516de",
              "IPY_MODEL_0793334e7e704439bb98a388c15f8f3d"
            ],
            "layout": "IPY_MODEL_316547333f444d9f88a3b36fb12f9997"
          }
        },
        "41e49cbcf3104c139d841e3b9b30c86f": {
          "model_module": "@jupyter-widgets/controls",
          "model_name": "HTMLModel",
          "model_module_version": "1.5.0",
          "state": {
            "_dom_classes": [],
            "_model_module": "@jupyter-widgets/controls",
            "_model_module_version": "1.5.0",
            "_model_name": "HTMLModel",
            "_view_count": null,
            "_view_module": "@jupyter-widgets/controls",
            "_view_module_version": "1.5.0",
            "_view_name": "HTMLView",
            "description": "",
            "description_tooltip": null,
            "layout": "IPY_MODEL_fede4d9c56fa4c3087e4688df2f32afc",
            "placeholder": "​",
            "style": "IPY_MODEL_06b54a30179e4549ac61a55902a71a30",
            "value": "100%"
          }
        },
        "53b9528ff2874f74b48ba1bd8cd516de": {
          "model_module": "@jupyter-widgets/controls",
          "model_name": "FloatProgressModel",
          "model_module_version": "1.5.0",
          "state": {
            "_dom_classes": [],
            "_model_module": "@jupyter-widgets/controls",
            "_model_module_version": "1.5.0",
            "_model_name": "FloatProgressModel",
            "_view_count": null,
            "_view_module": "@jupyter-widgets/controls",
            "_view_module_version": "1.5.0",
            "_view_name": "ProgressView",
            "bar_style": "success",
            "description": "",
            "description_tooltip": null,
            "layout": "IPY_MODEL_02c0f49bd4294a03892ff87ac188de05",
            "max": 2000,
            "min": 0,
            "orientation": "horizontal",
            "style": "IPY_MODEL_bb049e353a494ad29a2300961d6e3ba3",
            "value": 2000
          }
        },
        "0793334e7e704439bb98a388c15f8f3d": {
          "model_module": "@jupyter-widgets/controls",
          "model_name": "HTMLModel",
          "model_module_version": "1.5.0",
          "state": {
            "_dom_classes": [],
            "_model_module": "@jupyter-widgets/controls",
            "_model_module_version": "1.5.0",
            "_model_name": "HTMLModel",
            "_view_count": null,
            "_view_module": "@jupyter-widgets/controls",
            "_view_module_version": "1.5.0",
            "_view_name": "HTMLView",
            "description": "",
            "description_tooltip": null,
            "layout": "IPY_MODEL_a96fda4945ac4028a7adfcc9c4ac0bf8",
            "placeholder": "​",
            "style": "IPY_MODEL_04b34948cd834b26b3afe7942ea7f5eb",
            "value": " 2000/2000 [37:56&lt;00:00,  1.09s/it]"
          }
        },
        "316547333f444d9f88a3b36fb12f9997": {
          "model_module": "@jupyter-widgets/base",
          "model_name": "LayoutModel",
          "model_module_version": "1.2.0",
          "state": {
            "_model_module": "@jupyter-widgets/base",
            "_model_module_version": "1.2.0",
            "_model_name": "LayoutModel",
            "_view_count": null,
            "_view_module": "@jupyter-widgets/base",
            "_view_module_version": "1.2.0",
            "_view_name": "LayoutView",
            "align_content": null,
            "align_items": null,
            "align_self": null,
            "border": null,
            "bottom": null,
            "display": null,
            "flex": null,
            "flex_flow": null,
            "grid_area": null,
            "grid_auto_columns": null,
            "grid_auto_flow": null,
            "grid_auto_rows": null,
            "grid_column": null,
            "grid_gap": null,
            "grid_row": null,
            "grid_template_areas": null,
            "grid_template_columns": null,
            "grid_template_rows": null,
            "height": null,
            "justify_content": null,
            "justify_items": null,
            "left": null,
            "margin": null,
            "max_height": null,
            "max_width": null,
            "min_height": null,
            "min_width": null,
            "object_fit": null,
            "object_position": null,
            "order": null,
            "overflow": null,
            "overflow_x": null,
            "overflow_y": null,
            "padding": null,
            "right": null,
            "top": null,
            "visibility": null,
            "width": null
          }
        },
        "fede4d9c56fa4c3087e4688df2f32afc": {
          "model_module": "@jupyter-widgets/base",
          "model_name": "LayoutModel",
          "model_module_version": "1.2.0",
          "state": {
            "_model_module": "@jupyter-widgets/base",
            "_model_module_version": "1.2.0",
            "_model_name": "LayoutModel",
            "_view_count": null,
            "_view_module": "@jupyter-widgets/base",
            "_view_module_version": "1.2.0",
            "_view_name": "LayoutView",
            "align_content": null,
            "align_items": null,
            "align_self": null,
            "border": null,
            "bottom": null,
            "display": null,
            "flex": null,
            "flex_flow": null,
            "grid_area": null,
            "grid_auto_columns": null,
            "grid_auto_flow": null,
            "grid_auto_rows": null,
            "grid_column": null,
            "grid_gap": null,
            "grid_row": null,
            "grid_template_areas": null,
            "grid_template_columns": null,
            "grid_template_rows": null,
            "height": null,
            "justify_content": null,
            "justify_items": null,
            "left": null,
            "margin": null,
            "max_height": null,
            "max_width": null,
            "min_height": null,
            "min_width": null,
            "object_fit": null,
            "object_position": null,
            "order": null,
            "overflow": null,
            "overflow_x": null,
            "overflow_y": null,
            "padding": null,
            "right": null,
            "top": null,
            "visibility": null,
            "width": null
          }
        },
        "06b54a30179e4549ac61a55902a71a30": {
          "model_module": "@jupyter-widgets/controls",
          "model_name": "DescriptionStyleModel",
          "model_module_version": "1.5.0",
          "state": {
            "_model_module": "@jupyter-widgets/controls",
            "_model_module_version": "1.5.0",
            "_model_name": "DescriptionStyleModel",
            "_view_count": null,
            "_view_module": "@jupyter-widgets/base",
            "_view_module_version": "1.2.0",
            "_view_name": "StyleView",
            "description_width": ""
          }
        },
        "02c0f49bd4294a03892ff87ac188de05": {
          "model_module": "@jupyter-widgets/base",
          "model_name": "LayoutModel",
          "model_module_version": "1.2.0",
          "state": {
            "_model_module": "@jupyter-widgets/base",
            "_model_module_version": "1.2.0",
            "_model_name": "LayoutModel",
            "_view_count": null,
            "_view_module": "@jupyter-widgets/base",
            "_view_module_version": "1.2.0",
            "_view_name": "LayoutView",
            "align_content": null,
            "align_items": null,
            "align_self": null,
            "border": null,
            "bottom": null,
            "display": null,
            "flex": null,
            "flex_flow": null,
            "grid_area": null,
            "grid_auto_columns": null,
            "grid_auto_flow": null,
            "grid_auto_rows": null,
            "grid_column": null,
            "grid_gap": null,
            "grid_row": null,
            "grid_template_areas": null,
            "grid_template_columns": null,
            "grid_template_rows": null,
            "height": null,
            "justify_content": null,
            "justify_items": null,
            "left": null,
            "margin": null,
            "max_height": null,
            "max_width": null,
            "min_height": null,
            "min_width": null,
            "object_fit": null,
            "object_position": null,
            "order": null,
            "overflow": null,
            "overflow_x": null,
            "overflow_y": null,
            "padding": null,
            "right": null,
            "top": null,
            "visibility": null,
            "width": null
          }
        },
        "bb049e353a494ad29a2300961d6e3ba3": {
          "model_module": "@jupyter-widgets/controls",
          "model_name": "ProgressStyleModel",
          "model_module_version": "1.5.0",
          "state": {
            "_model_module": "@jupyter-widgets/controls",
            "_model_module_version": "1.5.0",
            "_model_name": "ProgressStyleModel",
            "_view_count": null,
            "_view_module": "@jupyter-widgets/base",
            "_view_module_version": "1.2.0",
            "_view_name": "StyleView",
            "bar_color": null,
            "description_width": ""
          }
        },
        "a96fda4945ac4028a7adfcc9c4ac0bf8": {
          "model_module": "@jupyter-widgets/base",
          "model_name": "LayoutModel",
          "model_module_version": "1.2.0",
          "state": {
            "_model_module": "@jupyter-widgets/base",
            "_model_module_version": "1.2.0",
            "_model_name": "LayoutModel",
            "_view_count": null,
            "_view_module": "@jupyter-widgets/base",
            "_view_module_version": "1.2.0",
            "_view_name": "LayoutView",
            "align_content": null,
            "align_items": null,
            "align_self": null,
            "border": null,
            "bottom": null,
            "display": null,
            "flex": null,
            "flex_flow": null,
            "grid_area": null,
            "grid_auto_columns": null,
            "grid_auto_flow": null,
            "grid_auto_rows": null,
            "grid_column": null,
            "grid_gap": null,
            "grid_row": null,
            "grid_template_areas": null,
            "grid_template_columns": null,
            "grid_template_rows": null,
            "height": null,
            "justify_content": null,
            "justify_items": null,
            "left": null,
            "margin": null,
            "max_height": null,
            "max_width": null,
            "min_height": null,
            "min_width": null,
            "object_fit": null,
            "object_position": null,
            "order": null,
            "overflow": null,
            "overflow_x": null,
            "overflow_y": null,
            "padding": null,
            "right": null,
            "top": null,
            "visibility": null,
            "width": null
          }
        },
        "04b34948cd834b26b3afe7942ea7f5eb": {
          "model_module": "@jupyter-widgets/controls",
          "model_name": "DescriptionStyleModel",
          "model_module_version": "1.5.0",
          "state": {
            "_model_module": "@jupyter-widgets/controls",
            "_model_module_version": "1.5.0",
            "_model_name": "DescriptionStyleModel",
            "_view_count": null,
            "_view_module": "@jupyter-widgets/base",
            "_view_module_version": "1.2.0",
            "_view_name": "StyleView",
            "description_width": ""
          }
        }
      }
    }
  },
  "nbformat": 4,
  "nbformat_minor": 5
}