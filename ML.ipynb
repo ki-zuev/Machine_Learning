{
  "nbformat": 4,
  "nbformat_minor": 0,
  "metadata": {
    "colab": {
      "provenance": []
    },
    "kernelspec": {
      "name": "python3",
      "display_name": "Python 3"
    },
    "language_info": {
      "name": "python"
    }
  },
  "cells": [
    {
      "cell_type": "markdown",
      "source": [
        "**Задание 1**"
      ],
      "metadata": {
        "id": "neN3kJxXtzJL"
      }
    },
    {
      "cell_type": "code",
      "execution_count": null,
      "metadata": {
        "colab": {
          "base_uri": "https://localhost:8080/"
        },
        "id": "I-e4egz266Mf",
        "outputId": "173173fa-fc3b-45d5-ebce-c390f7f43499"
      },
      "outputs": [
        {
          "output_type": "execute_result",
          "data": {
            "text/plain": [
              "19"
            ]
          },
          "metadata": {},
          "execution_count": 67
        }
      ],
      "source": [
        "from math import sqrt\n",
        "\n",
        "def manhattan(a, b):\n",
        " return sum ( abs (val1-val2) for val1, val2 in zip (a,b))\n",
        "\n",
        "A = [1, 5]\n",
        "B = [10, 15]\n",
        "\n",
        "manhattan(A, B)"
      ]
    },
    {
      "cell_type": "markdown",
      "source": [
        " Код решения задачи бинарной классификации на основе классификатора KNN"
      ],
      "metadata": {
        "id": "A2XlH3V__2n4"
      }
    },
    {
      "cell_type": "code",
      "source": [
        "import sklearn\n",
        "import numpy as np\n",
        "from sklearn.neighbors import KNeighborsClassifier\n",
        "from sklearn.datasets import load_breast_cancer\n",
        "from sklearn.metrics import accuracy_score\n",
        "from sklearn.model_selection import train_test_split\n",
        "\n",
        "random_seed = 4238\n",
        "np.random.seed(random_seed)\n",
        "\n",
        "X, y = load_breast_cancer(return_X_y=True)\n",
        "X_train, x_test, y_train, y_test = train_test_split(X, y, test_size=0.3, shuffle=True, random_state=42)\n",
        "\n",
        "clf = KNeighborsClassifier(n_neighbors=8, p=1)\n",
        "clf.fit(X_train, y_train)\n",
        "\n",
        "predictions = clf.predict(x_test)\n",
        "acc = accuracy_score(y_test, predictions)\n",
        "\n",
        "print(acc)"
      ],
      "metadata": {
        "colab": {
          "base_uri": "https://localhost:8080/"
        },
        "id": "lzopC_IcBBgf",
        "outputId": "c099fc5e-8c56-44e4-a4aa-d936714bfc21"
      },
      "execution_count": null,
      "outputs": [
        {
          "output_type": "stream",
          "name": "stdout",
          "text": [
            "0.9766081871345029\n"
          ]
        }
      ]
    },
    {
      "cell_type": "markdown",
      "source": [
        "Часть кода для выбора оптимального гиперпараметра K для решения задачи бинарной классификации на основе датасета breast cancer"
      ],
      "metadata": {
        "id": "2qhZiH89AJFI"
      }
    },
    {
      "cell_type": "code",
      "source": [
        "import sklearn\n",
        "import numpy as np\n",
        "from sklearn.metrics import accuracy_score\n",
        "from sklearn.model_selection import cross_val_score\n",
        "from sklearn.neighbors import KNeighborsClassifier\n",
        "from statistics import mean\n",
        "random_seed = 4238\n",
        "\n",
        "np.random.seed(random_seed)\n",
        "n_splits = 3\n",
        "\n",
        "from sklearn.datasets import load_breast_cancer\n",
        "\n",
        "X, y = load_breast_cancer(return_X_y=True)\n",
        "\n",
        "cv_scores = [0]*50\n",
        "for k in range(1,51):\n",
        "  clf = KNeighborsClassifier(n_neighbors=k, p=2)\n",
        "  score = cross_val_score(clf, X, y, cv=n_splits)\n",
        "  cv_scores[k-1] = mean(score)\n",
        "\n",
        "print(np.argmax(cv_scores)+1)"
      ],
      "metadata": {
        "colab": {
          "base_uri": "https://localhost:8080/"
        },
        "id": "pThwWzL2G0aa",
        "outputId": "fcf99578-c201-41f6-b94d-bf28e5d23f73"
      },
      "execution_count": null,
      "outputs": [
        {
          "output_type": "stream",
          "name": "stdout",
          "text": [
            "11\n"
          ]
        }
      ]
    },
    {
      "cell_type": "markdown",
      "source": [
        "Алгоритм KNN для объектов произвольных пространств для решения задачи многоклассовой классификации"
      ],
      "metadata": {
        "id": "C_qM47N6A0x2"
      }
    },
    {
      "cell_type": "code",
      "source": [
        "import numpy as np\n",
        "\n",
        "class KNN_classifier:\n",
        "  def __init__(self, n_neighbors: int, **kwargs):\n",
        "    self.K = n_neighbors\n",
        "    self.trainX = []\n",
        "    self.trainY = []\n",
        "\n",
        "  def fit(self, x: np.array, y: np.array):\n",
        "    self.trainX = x\n",
        "    self.trainY = y\n",
        "\n",
        "  def predict(self, x: np.array):\n",
        "    def dist(a: np.array ,b: np.array):\n",
        "      d = a - b\n",
        "      r = np.linalg.norm(d)\n",
        "      return r\n",
        "    a = self.trainY[np.argmax(self.trainY)]+1\n",
        "    mass = [0]*a\n",
        "    predictions = []\n",
        "    test = []\n",
        "    for testPoint in x:\n",
        "      test.clear()\n",
        "      for i in range(self.trainX.shape[0]):\n",
        "        test.append(dist(testPoint, self.trainX[i]))\n",
        "\n",
        "      testDist = np.array(test)\n",
        "      for i in range(len(test)-1):\n",
        "        for k in range(len(test)-i-1):\n",
        "          if testDist[k] > testDist[k+1]:\n",
        "            testDist[k], testDist[k+1] = testDist[k+1], testDist[k]\n",
        "            self.trainY[k], self.trainY[k+1] = self.trainY[k+1], self.trainY[k]\n",
        "            for o in range(self.trainX.shape[1]):\n",
        "              self.trainX[k][o], self.trainX[k+1][o] = self.trainX[k+1][o], self.trainX[k][o]\n",
        "\n",
        "      for j in range(a):\n",
        "        for i in range(self.K):\n",
        "          if self.trainY[i] == j:\n",
        "            mass[j] = mass[j]+1\n",
        "\n",
        "      predictions.append(np.argmax(mass))\n",
        "      for j in range(a):\n",
        "            mass[j] = 0\n",
        "    predictions = np.array(predictions)\n",
        "    return predictions\n",
        "\n",
        "X = np.array([[ 0.56510722,  0.68599596, -0.92388505, -0.29546048, -0.12437532],\n",
        "       [-0.79617537,  0.98406791,  1.19542652, -0.05626863, -0.69868076],\n",
        "       [ 0.9629688 , -1.00423925, -0.53842833, -0.23744358,  0.83226685],\n",
        "       [ 0.24671269, -0.41624448,  0.81679337,  1.59227446,  0.16192583],\n",
        "       [-0.36972363,  0.17425997,  1.33668078,  1.16687907,  0.31709134],\n",
        "       [-1.30482844, -0.05354323, -0.88862186, -1.121785  , -0.78442809],\n",
        "       [-0.53975018,  0.90074877, -1.09317408,  1.52989481, -0.43375015],\n",
        "       [-0.64709803, -0.09775791,  1.3506503 , -1.46957788,  1.63325543],\n",
        "       [-0.73858464, -0.60678229,  0.31420272, -0.43100129, -0.37665876],\n",
        "       [-0.29208809, -0.68795722,  0.06586655,  0.9583851 ,  1.70640775]])\n",
        "\n",
        "y = np.array([1, 0, 0, 1, 0, 1, 0, 1, 0, 1])\n",
        "\n",
        "knn = KNN_classifier(n_neighbors=3)\n",
        "\n",
        "knn.fit(X, y)\n",
        "\n",
        "x_test = np.array([[-0.12489725,  0.65791923, -0.73112495,  1.42660225,  1.64728976],\n",
        "       [ 0.01913388, -1.11351208, -0.63244098, -0.98121107,  0.38060892],\n",
        "       [-0.92074931,  1.39812225,  0.39692147,  0.7717827 ,  0.44604002]])\n",
        "\n",
        "knn.predict(x_test)"
      ],
      "metadata": {
        "colab": {
          "base_uri": "https://localhost:8080/"
        },
        "id": "9Gi3cee-fj3Z",
        "outputId": "8ebc54b6-9d2c-4339-b7d6-58c609995bfa"
      },
      "execution_count": null,
      "outputs": [
        {
          "output_type": "execute_result",
          "data": {
            "text/plain": [
              "array([1, 0, 0])"
            ]
          },
          "metadata": {},
          "execution_count": 1
        }
      ]
    },
    {
      "cell_type": "code",
      "source": [
        "import sklearn\n",
        "import numpy as np\n",
        "from sklearn.neighbors import KNeighborsClassifier\n",
        "from sklearn.datasets import load_breast_cancer\n",
        "from sklearn.metrics import accuracy_score\n",
        "from sklearn.model_selection import train_test_split\n",
        "\n",
        "X = np.array([[ 0.56510722,  0.68599596, -0.92388505, -0.29546048, -0.12437532],\n",
        "       [-0.79617537,  0.98406791,  1.19542652, -0.05626863, -0.69868076],\n",
        "       [ 0.9629688 , -1.00423925, -0.53842833, -0.23744358,  0.83226685],\n",
        "       [ 0.24671269, -0.41624448,  0.81679337,  1.59227446,  0.16192583],\n",
        "       [-0.36972363,  0.17425997,  1.33668078,  1.16687907,  0.31709134],\n",
        "       [-1.30482844, -0.05354323, -0.88862186, -1.121785  , -0.78442809],\n",
        "       [-0.53975018,  0.90074877, -1.09317408,  1.52989481, -0.43375015],\n",
        "       [-0.64709803, -0.09775791,  1.3506503 , -1.46957788,  1.63325543],\n",
        "       [-0.73858464, -0.60678229,  0.31420272, -0.43100129, -0.37665876],\n",
        "       [-0.29208809, -0.68795722,  0.06586655,  0.9583851 ,  1.70640775]])\n",
        "\n",
        "y = np.array([1, 0, 0, 1, 0, 1, 0, 1, 0, 1])\n",
        "\n",
        "clf = KNeighborsClassifier(n_neighbors=3)\n",
        "\n",
        "clf.fit(X, y)\n",
        "\n",
        "x_test = np.array([[-0.12489725,  0.65791923, -0.73112495,  1.42660225,  1.64728976],\n",
        "       [ 0.01913388, -1.11351208, -0.63244098, -0.98121107,  0.38060892],\n",
        "       [-0.92074931,  1.39812225,  0.39692147,  0.7717827 ,  0.44604002]])\n",
        "\n",
        "predictions = clf.predict(x_test)\n",
        "print(predictions)"
      ],
      "metadata": {
        "colab": {
          "base_uri": "https://localhost:8080/"
        },
        "id": "rCGioPdQGWW3",
        "outputId": "99220bcf-8c32-4f04-e031-41e130195a21"
      },
      "execution_count": null,
      "outputs": [
        {
          "output_type": "stream",
          "name": "stdout",
          "text": [
            "[1 0 0]\n"
          ]
        }
      ]
    },
    {
      "cell_type": "markdown",
      "source": [
        "**Задание 2**"
      ],
      "metadata": {
        "id": "044-dKcEt_jo"
      }
    },
    {
      "cell_type": "markdown",
      "source": [
        "Производные функции H по параметрам модели ω0...ωn"
      ],
      "metadata": {
        "id": "DNZTkDBHBdXz"
      }
    },
    {
      "cell_type": "code",
      "source": [
        "import numpy as np\n",
        "\n",
        "def sig(x):\n",
        " return 1/(1 + np.exp(-x))\n",
        "\n",
        "def H(p, y):\n",
        "  return -(y*np.log(p)+(1-y)*np.log(1-p))\n",
        "\n",
        "def dH(xi, p, y):\n",
        "  return xi*((1-y)*p-y*(1-p))\n",
        "\n",
        "n = 3\n",
        "y = 1\n",
        "x = np.array([0]*n)\n",
        "x[0] = 1\n",
        "sum = 0\n",
        "w = np.array([0]*n)\n",
        "w[0] = 0\n",
        "w[1] = 2\n",
        "w[2] = -1\n",
        "for i in range(1, n):\n",
        "  x[i] = i\n",
        "  sum = sum+w[i]*x[i]\n",
        "p = sig(sum)\n",
        "result = 1\n",
        "for i in range(n):\n",
        "  result = result*dH(x[i], p, y)\n",
        "print(result)"
      ],
      "metadata": {
        "id": "zzTnFOMpuBKf",
        "colab": {
          "base_uri": "https://localhost:8080/"
        },
        "outputId": "3444eb4c-063a-43e2-e819-fe02076a0876"
      },
      "execution_count": null,
      "outputs": [
        {
          "output_type": "stream",
          "name": "stdout",
          "text": [
            "-0.25\n"
          ]
        }
      ]
    },
    {
      "cell_type": "markdown",
      "source": [
        "Классический алгоритм градиентного спуска для обучения модели логистической регрессии"
      ],
      "metadata": {
        "id": "z3ckbQWxeELZ"
      }
    },
    {
      "cell_type": "code",
      "source": [
        "import numpy as np\n",
        "\n",
        "np.random.seed(42)\n",
        "\n",
        "def sig(x):\n",
        " return 1/(1 + np.exp(-x))\n",
        "\n",
        "def dH(xi, p, y):\n",
        "  return xi*((1-y)*p-y*(1-p))\n",
        "\n",
        "def gradient(y_true: int, y_pred: float, x: np.array) -> np.array:\n",
        "  n = len(x)\n",
        "  grad = [0]*(n+1)\n",
        "  for i in range(0, n):\n",
        "    k = dH(x[i], y_pred, y_true)\n",
        "    grad[i] = k\n",
        "  grad[n] = dH(1, y_pred, y_true)\n",
        "  return grad\n",
        "\n",
        "def update(alpha: np.array, gradient: np.array, lr: float):\n",
        "  alpha_new = alpha-lr*gradient\n",
        "  return alpha_new\n",
        "\n",
        "def train(alpha0: np.array, x_train: np.array, y_train: np.array, lr: float, num_epoch: int):\n",
        "  alpha = alpha0.copy()\n",
        "  for epo in range(num_epoch):\n",
        "    for i,x in enumerate(x_train):\n",
        "      n = len(x)\n",
        "      sum = 0\n",
        "      for j in range(0, n):\n",
        "        sum = sum+alpha[j]*x[j]\n",
        "      sum = sum+alpha[n]\n",
        "      p = sig(sum)\n",
        "      grad = np.array(gradient(y_train[i], p, x))\n",
        "      alpha = update(alpha, grad, lr)\n",
        "  return alpha\n",
        "\n",
        "\n",
        "\n",
        "\n",
        "X = np.array([[ 0.56510722,  0.68599596, -0.92388505, -0.29546048, -0.12437532],\n",
        "       [-0.79617537,  0.98406791,  1.19542652, -0.05626863, -0.69868076],\n",
        "       [ 0.9629688 , -1.00423925, -0.53842833, -0.23744358,  0.83226685],\n",
        "       [ 0.24671269, -0.41624448,  0.81679337,  1.59227446,  0.16192583],\n",
        "       [-0.36972363,  0.17425997,  1.33668078,  1.16687907,  0.31709134],\n",
        "       [-1.30482844, -0.05354323, -0.88862186, -1.121785  , -0.78442809],\n",
        "       [-0.53975018,  0.90074877, -1.09317408,  1.52989481, -0.43375015],\n",
        "       [-0.64709803, -0.09775791,  1.3506503 , -1.46957788,  1.63325543],\n",
        "       [-0.73858464, -0.60678229,  0.31420272, -0.43100129, -0.37665876],\n",
        "       [-0.29208809, -0.68795722,  0.06586655,  0.9583851 ,  1.70640775]])\n",
        "\n",
        "y = np.array([1, 0, 1, 0, 1, 0, 1, 0, 1, 0])\n",
        "\n",
        "alpha0 = np.random.randn(6)\n",
        "\n",
        "print(train(alpha0, X, y, 0.00001, 5))"
      ],
      "metadata": {
        "colab": {
          "base_uri": "https://localhost:8080/"
        },
        "id": "FboKtzeQeN4k",
        "outputId": "9e40237a-1b1c-4797-b5d5-fb97fa0deb06"
      },
      "execution_count": null,
      "outputs": [
        {
          "output_type": "stream",
          "name": "stdout",
          "text": [
            "[ 0.49675594 -0.13826107  0.64756566  1.52292394 -0.2342032  -0.23413027]\n"
          ]
        }
      ]
    },
    {
      "cell_type": "markdown",
      "source": [
        "**Задание 3**"
      ],
      "metadata": {
        "id": "y_jRn_lmDHre"
      }
    },
    {
      "cell_type": "markdown",
      "source": [
        "Алгоритм линейной регрессии"
      ],
      "metadata": {
        "id": "Z7r_893JF5Yu"
      }
    },
    {
      "cell_type": "code",
      "source": [
        "import numpy as np\n",
        "np.random.seed(42)\n",
        "\n",
        "class LinearRegression:\n",
        "    def __init__(self, **kwargs):\n",
        "      self.coef_ = None\n",
        "\n",
        "    def fit(self, x: np.array, y: np.array):\n",
        "      if len(x.shape) == 2:\n",
        "        n = x.shape[0]\n",
        "        m = x.shape[1]\n",
        "      else:\n",
        "        n = x.shape[0]\n",
        "        m = 1\n",
        "      e = [1]*n\n",
        "      if len(x.shape) == 2:\n",
        "        x = np.insert(x, m, e, axis=1)\n",
        "      else:\n",
        "        x = np.column_stack((x,e))\n",
        "      xt = np.transpose(x)\n",
        "      xu0 = np.dot(xt,x)\n",
        "      xo = np.linalg.inv(xu0)\n",
        "      xu1 = np.dot(xo,xt)\n",
        "      self.coef_ = np.dot(xu1,y)\n",
        "\n",
        "    def predict(self, x: np.array):\n",
        "      if len(x.shape) == 2:\n",
        "        n = x.shape[0]\n",
        "        m = x.shape[1]\n",
        "      else:\n",
        "        n = x.shape[0]\n",
        "        m = 1\n",
        "      e = [1]*n\n",
        "      if len(x.shape) == 2:\n",
        "        x = np.insert(x, m, e, axis=1)\n",
        "      else:\n",
        "        x = np.column_stack((x,e))\n",
        "      return np.dot(x,self.coef_)\n",
        "\n",
        "from sklearn.datasets import load_diabetes\n",
        "from sklearn.model_selection import train_test_split\n",
        "\n",
        "X, y = load_diabetes(return_X_y=True)\n",
        "print(X[:5])\n",
        "\n",
        "X_train, x_test, y_train, y_test = train_test_split(X, y, test_size=0.3, shuffle=True, random_state=42)\n",
        "\n",
        "LinReg = LinearRegression()\n",
        "LinReg.fit(X_train, y_train)\n",
        "\n",
        "predictions = LinReg.predict(x_test)\n",
        "predictions"
      ],
      "metadata": {
        "colab": {
          "base_uri": "https://localhost:8080/"
        },
        "id": "acP-eZhgDHEy",
        "outputId": "c25d0ee0-462e-4166-b9c2-9afd258d262e"
      },
      "execution_count": null,
      "outputs": [
        {
          "output_type": "stream",
          "name": "stdout",
          "text": [
            "[[ 0.03807591  0.05068012  0.06169621  0.02187239 -0.0442235  -0.03482076\n",
            "  -0.04340085 -0.00259226  0.01990749 -0.01764613]\n",
            " [-0.00188202 -0.04464164 -0.05147406 -0.02632753 -0.00844872 -0.01916334\n",
            "   0.07441156 -0.03949338 -0.06833155 -0.09220405]\n",
            " [ 0.08529891  0.05068012  0.04445121 -0.00567042 -0.04559945 -0.03419447\n",
            "  -0.03235593 -0.00259226  0.00286131 -0.02593034]\n",
            " [-0.08906294 -0.04464164 -0.01159501 -0.03665608  0.01219057  0.02499059\n",
            "  -0.03603757  0.03430886  0.02268774 -0.00936191]\n",
            " [ 0.00538306 -0.04464164 -0.03638469  0.02187239  0.00393485  0.01559614\n",
            "   0.00814208 -0.00259226 -0.03198764 -0.04664087]]\n"
          ]
        },
        {
          "output_type": "execute_result",
          "data": {
            "text/plain": [
              "array([138.46970031, 181.10052342, 125.34400904, 292.75977277,\n",
              "       123.8830531 ,  91.89830434, 257.26463123, 177.76169318,\n",
              "        84.98549706, 109.15960992,  94.4855284 , 166.13235108,\n",
              "        57.40742502, 206.13897354,  97.7811842 , 131.00472765,\n",
              "       214.29789972, 252.52907661, 199.66656381, 219.49985634,\n",
              "       203.23671317,  88.00656925,  70.65108459, 186.92233427,\n",
              "       155.81266751, 162.81022205, 191.93135706, 184.72924276,\n",
              "        46.62920829, 108.26566599, 178.14743952,  91.35065005,\n",
              "       127.72125745, 184.04205666, 172.23799897, 189.51548863,\n",
              "       121.83265708, 117.75339206, 145.67950306,  58.57563401,\n",
              "        72.55421321, 107.27571105, 166.15280313, 153.29339984,\n",
              "       165.19282154,  62.95752038,  73.58909449, 110.05656189,\n",
              "        54.49723354, 164.88920632, 152.49472803,  63.8874565 ,\n",
              "       111.4354561 , 108.34936269, 179.96973311, 158.70054112,\n",
              "        95.04833555, 209.68990406, 118.37356519,  69.69946093,\n",
              "       189.04680627, 204.99138626, 140.26840176, 105.75963198,\n",
              "       131.22316354, 201.65649349, 173.60251683, 164.25810664,\n",
              "       122.01567481, 143.53425629, 179.42286037, 201.32086534,\n",
              "       234.50804093, 146.96093984,  80.27567403, 160.86822173,\n",
              "       192.72110552, 208.6585054 , 158.56823462, 206.00933474,\n",
              "       111.53729194, 140.28763033,  51.15323818,  54.76434639,\n",
              "       113.02207773,  78.46425825,  80.20416459,  56.97774667,\n",
              "       168.51207071, 185.55749267, 152.33436369, 242.66080008,\n",
              "       106.44250735,  61.34968205,  53.44975218, 197.78538801,\n",
              "       246.62420102, 185.25237675, 105.80114548,  62.42547543,\n",
              "       193.39002547, 107.08821595, 297.08578592,  94.45306615,\n",
              "       148.41869832, 104.10666888, 128.66940497, 126.90012169,\n",
              "       165.84858396, 186.14546255, 108.5888133 , 203.83170771,\n",
              "       204.97622269, 209.10156998, 191.65509488, 161.26918179,\n",
              "       148.51075431, 135.0455994 , 111.74197539, 163.62966339,\n",
              "       170.55301782,  95.53608319,  46.85961143, 164.34533761,\n",
              "       127.1747026 , 176.61035076, 173.47305611, 107.40153597,\n",
              "       202.99778708,  92.10100436, 122.28876806,  80.80866991,\n",
              "       233.21870492])"
            ]
          },
          "metadata": {},
          "execution_count": 183
        }
      ]
    },
    {
      "cell_type": "markdown",
      "source": [
        "R-квадрат"
      ],
      "metadata": {
        "id": "JY81zaZLkgx3"
      }
    },
    {
      "cell_type": "code",
      "source": [
        "import numpy as np\n",
        "\n",
        "def r2(y_true, y_pred):\n",
        "  e = 0\n",
        "  de = 0\n",
        "  dy = 0\n",
        "  n = len(y_true)\n",
        "  for i in range(n):\n",
        "    e = e+y_true[i]\n",
        "  e = e/n\n",
        "  for i in range(n):\n",
        "    de = de+np.power((y_pred[i]-y_true[i]),2)\n",
        "    dy = dy+np.power((y_true[i]-e),2)\n",
        "  return 1-de/dy\n",
        "\n",
        "a = r2(y_test, predictions)\n",
        "print(a)\n",
        "\n",
        "from sklearn.metrics import r2_score\n",
        "\n",
        "r2_score(y_test, predictions)"
      ],
      "metadata": {
        "colab": {
          "base_uri": "https://localhost:8080/"
        },
        "id": "OwGdoFmoVzP4",
        "outputId": "8df7e987-7b36-4da1-b66d-74308831112a"
      },
      "execution_count": null,
      "outputs": [
        {
          "output_type": "stream",
          "name": "stdout",
          "text": [
            "0.47728971643225837\n"
          ]
        },
        {
          "output_type": "execute_result",
          "data": {
            "text/plain": [
              "0.4772897164322587"
            ]
          },
          "metadata": {},
          "execution_count": 140
        }
      ]
    },
    {
      "cell_type": "markdown",
      "source": [
        "Оценка выборки"
      ],
      "metadata": {
        "id": "U84bTmRhqGQi"
      }
    },
    {
      "cell_type": "code",
      "source": [
        "import numpy as np\n",
        "\n",
        "filename = '5.npy'\n",
        "a = np.load(filename)\n",
        "a = np.transpose(a)\n",
        "x = a[0]\n",
        "y = a[1]\n",
        "\n",
        "X_train, x_test, y_train, y_test = train_test_split(x, y, test_size=0.3, shuffle=True)\n",
        "\n",
        "LinReg = LinearRegression()\n",
        "LinReg.fit(X_train, y_train)\n",
        "\n",
        "predictions = LinReg.predict(x_test)\n",
        "predictions\n",
        "\n",
        "a = r2(y_test, predictions)\n",
        "print(a)"
      ],
      "metadata": {
        "colab": {
          "base_uri": "https://localhost:8080/"
        },
        "id": "KcyTFkB4qFCy",
        "outputId": "5a900bdb-45f2-42b7-eab4-b120c334d3bd"
      },
      "execution_count": null,
      "outputs": [
        {
          "output_type": "stream",
          "name": "stdout",
          "text": [
            "0.8307366611313196\n"
          ]
        }
      ]
    },
    {
      "cell_type": "markdown",
      "source": [
        "**Задание 4**"
      ],
      "metadata": {
        "id": "yJ7xXzCG50gf"
      }
    },
    {
      "cell_type": "markdown",
      "source": [
        "Реализации обучения решающего дерева из библиотеки sklearn с определёнными параметрами"
      ],
      "metadata": {
        "id": "EowhOeY9AdR3"
      }
    },
    {
      "cell_type": "code",
      "source": [
        "import pandas as pd\n",
        "import numpy as np\n",
        "\n",
        "np.random.seed(42)\n",
        "\n",
        "from sklearn.tree import DecisionTreeClassifier\n",
        "from sklearn.metrics import accuracy_score\n",
        "from sklearn.model_selection import train_test_split\n",
        "from math import floor\n",
        "\n",
        "from sklearn.datasets import load_iris\n",
        "\n",
        "X, y = load_iris(return_X_y=True)\n",
        "\n",
        "X_train, x_test, y_train, y_test = train_test_split(X, y, test_size=0.4, shuffle=True, random_state = 42)\n",
        "clf = DecisionTreeClassifier(criterion=\"gini\", max_depth=3, random_state=42)\n",
        "\n",
        "clf.fit(X_train, y_train)\n",
        "preds = clf.predict(x_test)\n",
        "\n",
        "acc = accuracy_score(preds, y_test)\n",
        "\n",
        "print(acc)\n",
        "print(round(acc))\n",
        "print(floor(acc))"
      ],
      "metadata": {
        "colab": {
          "base_uri": "https://localhost:8080/"
        },
        "id": "BDPCUjPS54w4",
        "outputId": "16af4b19-9533-4cae-b1b6-93b7a25abada"
      },
      "execution_count": null,
      "outputs": [
        {
          "output_type": "stream",
          "name": "stdout",
          "text": [
            "0.9833333333333333\n",
            "1\n",
            "0\n"
          ]
        }
      ]
    },
    {
      "cell_type": "markdown",
      "source": [
        "Обучить стандартный регрессор на основе решающего дерева решать задачу предсказания стоимости бриллианта по набору его признаков"
      ],
      "metadata": {
        "id": "pNUKPGIiE5uG"
      }
    },
    {
      "cell_type": "code",
      "source": [
        "import numpy as np\n",
        "import pandas as pd\n",
        "from sklearn.preprocessing import LabelEncoder\n",
        "from sklearn.utils import shuffle\n",
        "from sklearn.metrics import mean_squared_error\n",
        "from sklearn.metrics import r2_score\n",
        "from sklearn.model_selection import cross_val_score\n",
        "from sklearn.tree import DecisionTreeRegressor\n",
        "from sklearn.model_selection import cross_validate\n",
        "\n",
        "np.random.seed(42)\n",
        "\n",
        "a = pd.read_csv('TRAIN.csv')\n",
        "a = a.drop('Unnamed: 0', axis = 1)\n",
        "print(a)\n",
        "a = np.array(a)\n",
        "\n",
        "values_of_seq = a[0:,1]\n",
        "label_encoder = LabelEncoder()\n",
        "integer_encoded = label_encoder.fit_transform(values_of_seq)\n",
        "a[0:,1] = integer_encoded\n",
        "\n",
        "values_of_seq = a[0:,2]\n",
        "label_encoder = LabelEncoder()\n",
        "integer_encoded = label_encoder.fit_transform(values_of_seq)\n",
        "a[0:,2] = integer_encoded\n",
        "\n",
        "values_of_seq = a[0:,3]\n",
        "label_encoder = LabelEncoder()\n",
        "integer_encoded = label_encoder.fit_transform(values_of_seq)\n",
        "a[0:,3] = integer_encoded\n",
        "\n",
        "a = shuffle(a, random_state=42)\n",
        "\n",
        "X = a[0:,[0,1,2,3,4,5,7,8,9]]\n",
        "y = a[0:,6].astype('int')\n",
        "\n",
        "clf = DecisionTreeRegressor(criterion=\"squared_error\", max_depth=12, random_state=42)\n",
        "print(cross_validate(clf, X, y, cv=10, scoring=('r2'), return_train_score=True))\n",
        "\n",
        "clf = DecisionTreeRegressor(criterion=\"friedman_mse\", max_depth=16, random_state=42)\n",
        "print(cross_validate(clf, X, y, cv=10, scoring=('r2'), return_train_score=True))\n",
        "\n",
        "clf = DecisionTreeRegressor(criterion=\"poisson\", max_depth=22, random_state=42)\n",
        "print(cross_validate(clf, X, y, cv=10, scoring=('r2'), return_train_score=True))\n",
        "\n",
        "clf = DecisionTreeRegressor(criterion=\"squared_error\", max_depth=45, random_state=42)\n",
        "print(cross_validate(clf, X, y, cv=10, scoring=('r2'), return_train_score=True))\n",
        "\n",
        "clf = DecisionTreeRegressor(criterion=\"friedman_mse\", max_depth=95, random_state=42)\n",
        "print(cross_validate(clf, X, y, cv=10, scoring=('r2'), return_train_score=True))\n",
        "\n",
        "clf = DecisionTreeRegressor(criterion=\"poisson\", max_depth=33, random_state=42)\n",
        "print(cross_validate(clf, X, y, cv=10, scoring=('r2'), return_train_score=True))"
      ],
      "metadata": {
        "colab": {
          "base_uri": "https://localhost:8080/"
        },
        "id": "FHhjXEhxFKJ4",
        "outputId": "9dd4ee9e-6d32-4056-9854-9d29d72137ce"
      },
      "execution_count": null,
      "outputs": [
        {
          "output_type": "stream",
          "name": "stdout",
          "text": [
            "       carat        cut color clarity  depth  table  price     x     y     z\n",
            "0       0.23      Ideal     E     SI2   61.5   55.0    326  3.95  3.98  2.43\n",
            "1       0.21    Premium     E     SI1   59.8   61.0    326  3.89  3.84  2.31\n",
            "2       0.23       Good     E     VS1   56.9   65.0    327  4.05  4.07  2.31\n",
            "3       0.29    Premium     I     VS2   62.4   58.0    334  4.20  4.23  2.63\n",
            "4       0.31       Good     J     SI2   63.3   58.0    335  4.34  4.35  2.75\n",
            "...      ...        ...   ...     ...    ...    ...    ...   ...   ...   ...\n",
            "53935   0.72      Ideal     D     SI1   60.8   57.0   2757  5.75  5.76  3.50\n",
            "53936   0.72       Good     D     SI1   63.1   55.0   2757  5.69  5.75  3.61\n",
            "53937   0.70  Very Good     D     SI1   62.8   60.0   2757  5.66  5.68  3.56\n",
            "53938   0.86    Premium     H     SI2   61.0   58.0   2757  6.15  6.12  3.74\n",
            "53939   0.75      Ideal     D     SI2   62.2   55.0   2757  5.83  5.87  3.64\n",
            "\n",
            "[53940 rows x 10 columns]\n",
            "{'fit_time': array([0.23492908, 0.23555255, 0.2197299 , 0.22271895, 0.2234993 ,\n",
            "       0.22954893, 0.21969295, 0.23137546, 0.23223901, 0.2198236 ]), 'score_time': array([0.00644088, 0.0064671 , 0.00740838, 0.0062871 , 0.00633574,\n",
            "       0.00616527, 0.00662732, 0.00655913, 0.0074203 , 0.007833  ]), 'test_score': array([0.97629353, 0.97581003, 0.97520436, 0.9745081 , 0.970216  ,\n",
            "       0.9746426 , 0.97337845, 0.97366336, 0.97336508, 0.97668219]), 'train_score': array([0.98723965, 0.98685195, 0.98673457, 0.98718279, 0.98713409,\n",
            "       0.98685889, 0.98678898, 0.98696323, 0.98718069, 0.98717403])}\n",
            "{'fit_time': array([0.31273651, 0.34623146, 0.34624815, 0.33822584, 0.30550027,\n",
            "       0.27420306, 0.27787971, 0.2801919 , 0.28113484, 0.28642678]), 'score_time': array([0.00836158, 0.00834441, 0.00808954, 0.0084486 , 0.00670934,\n",
            "       0.00728369, 0.00809836, 0.00720882, 0.00737047, 0.00739384]), 'test_score': array([0.97030443, 0.97227572, 0.97170803, 0.97038065, 0.96477867,\n",
            "       0.97072415, 0.97083492, 0.96596633, 0.96824374, 0.972908  ]), 'train_score': array([0.99536413, 0.99526562, 0.9947187 , 0.99576035, 0.99559185,\n",
            "       0.99503648, 0.99494423, 0.99517366, 0.99550383, 0.99511932])}\n",
            "{'fit_time': array([0.36597371, 0.37977433, 0.37015915, 0.36712265, 0.37193274,\n",
            "       0.35645199, 0.35626459, 0.35535717, 0.36712766, 0.35741711]), 'score_time': array([0.00838494, 0.00835252, 0.00761104, 0.00747228, 0.00741577,\n",
            "       0.00750494, 0.00754023, 0.00849533, 0.00768685, 0.00777173]), 'test_score': array([0.96763913, 0.96781799, 0.96812596, 0.96269693, 0.96101583,\n",
            "       0.96608807, 0.962786  , 0.96170251, 0.96352321, 0.96834032]), 'train_score': array([0.99963721, 0.99960845, 0.99954709, 0.99955649, 0.99965237,\n",
            "       0.99957035, 0.99906045, 0.99964677, 0.99956012, 0.9995907 ])}\n",
            "{'fit_time': array([0.33875465, 0.34121609, 0.33509827, 0.33367896, 0.33806801,\n",
            "       0.33766603, 0.33591413, 0.34221315, 0.34088969, 0.38417006]), 'score_time': array([0.00775933, 0.00810242, 0.00795126, 0.00804424, 0.00777578,\n",
            "       0.00761509, 0.00777245, 0.007761  , 0.00799465, 0.00968266]), 'test_score': array([0.96593259, 0.96858596, 0.96649928, 0.96783196, 0.96452956,\n",
            "       0.96649764, 0.96463086, 0.96208519, 0.96405756, 0.96665464]), 'train_score': array([0.99999452, 0.99999499, 0.99999472, 0.99999538, 0.99999529,\n",
            "       0.99999472, 0.99999446, 0.9999971 , 0.99999519, 0.99999461])}\n",
            "{'fit_time': array([0.43671441, 0.42230368, 0.40036893, 0.34735966, 0.3398819 ,\n",
            "       0.33555937, 0.32770514, 0.33629084, 0.33299351, 0.34255147]), 'score_time': array([0.01045871, 0.00902605, 0.00779247, 0.00782967, 0.00793552,\n",
            "       0.00819659, 0.00797153, 0.00776768, 0.00813508, 0.00786996]), 'test_score': array([0.96593259, 0.9685345 , 0.96650602, 0.96783196, 0.96452956,\n",
            "       0.96649764, 0.96463086, 0.96208474, 0.96405756, 0.96665464]), 'train_score': array([0.99999452, 0.99999499, 0.99999472, 0.99999538, 0.99999529,\n",
            "       0.99999472, 0.99999446, 0.9999971 , 0.99999519, 0.99999461])}\n",
            "{'fit_time': array([0.37901831, 0.36631393, 0.3806963 , 0.36736536, 0.3709352 ,\n",
            "       0.36186051, 0.38784838, 0.37486672, 0.36737299, 0.37779665]), 'score_time': array([0.00781488, 0.00787497, 0.00863338, 0.00773072, 0.00773048,\n",
            "       0.00771594, 0.00793242, 0.00771093, 0.00778174, 0.00847507]), 'test_score': array([0.96806572, 0.96760091, 0.96751202, 0.96355599, 0.95975119,\n",
            "       0.96483123, 0.95967059, 0.96259102, 0.96260278, 0.96878797]), 'train_score': array([0.9999941 , 0.9999948 , 0.99999428, 0.99999532, 0.99999476,\n",
            "       0.99999248, 0.99999382, 0.99999671, 0.99999361, 0.9999946 ])}\n"
          ]
        }
      ]
    },
    {
      "cell_type": "markdown",
      "source": [
        "**Задание 5**"
      ],
      "metadata": {
        "id": "x5ynljEJCIUe"
      }
    },
    {
      "cell_type": "markdown",
      "source": [
        "Алгоритм формирования выборки для случайного леса (bootstrap aggregating + метод случайных подпространств)"
      ],
      "metadata": {
        "id": "97j18Tx4CQs4"
      }
    },
    {
      "cell_type": "code",
      "source": [
        "import numpy as np\n",
        "np.random.seed(42)\n",
        "\n",
        "class sample(object):\n",
        "  def __init__(self, X, n_subspace):\n",
        "    self.idx_subspace = self.random_subspace(X, n_subspace)\n",
        "\n",
        "  def __call__(self, X, y):\n",
        "    idx_obj = self.bootstrap_sample(X)\n",
        "    X_sampled, y_sampled = self.get_subsample(X, y, self.idx_subspace, idx_obj)\n",
        "    return X_sampled, y_sampled\n",
        "\n",
        "  @staticmethod\n",
        "  def bootstrap_sample(X, random_state=42):\n",
        "    ind = []\n",
        "    n = X.shape[0]\n",
        "    for i in range(n):\n",
        "      ind.append(i)\n",
        "    ind = np.array(ind)\n",
        "    ind = np.random.choice(ind, n)\n",
        "    ind = np.unique(ind)\n",
        "    ind = np.sort(ind)\n",
        "    return ind\n",
        "\n",
        "  @staticmethod\n",
        "  def random_subspace(X, n_subspace, random_state=42):\n",
        "    ind = []\n",
        "    m = X.shape[1]\n",
        "    for i in range(m):\n",
        "      ind.append(i)\n",
        "    ind = np.array(ind)\n",
        "    ind = np.random.choice(ind, n_subspace, replace = False)\n",
        "    ind = np.sort(ind)\n",
        "    return ind\n",
        "\n",
        "  @staticmethod\n",
        "  def get_subsample(X, y, idx_subspace, idx_obj):\n",
        "    x_sampled = [0]*len(idx_obj)\n",
        "    for i in range(len(idx_obj)):\n",
        "      x_sampled[i] = [0]*len(idx_subspace)\n",
        "    y_sampled = []\n",
        "    n = 0\n",
        "    m = 0\n",
        "    for i in idx_obj:\n",
        "      y_sampled.append(y[i])\n",
        "      for j in idx_subspace:\n",
        "        x_sampled[n][m] = X[i][j]\n",
        "        m = m+1\n",
        "      m = 0\n",
        "      n = n+1\n",
        "    x_sampled = np.array(x_sampled)\n",
        "    y_sampled = np.array(y_sampled)\n",
        "    return [x_sampled, y_sampled]\n",
        "\n",
        "X = np.array([[1,2,3], [4,5,6], [7,8,9]])\n",
        "Y = np.array([1, 2, 3])\n",
        "s = sample(X, 2)\n",
        "\n",
        "bootstrap_indices = s.bootstrap_sample(X)\n",
        "X_sampled, y_sampled = s.get_subsample(X, Y, s.idx_subspace, bootstrap_indices)\n",
        "\n",
        "print(bootstrap_indices)\n",
        "print(s.idx_subspace)\n",
        "print(X_sampled)\n",
        "print(y_sampled)"
      ],
      "metadata": {
        "id": "M8wvqiJCTOLu",
        "colab": {
          "base_uri": "https://localhost:8080/"
        },
        "outputId": "28cb23ab-0811-464e-b528-43439f183c34"
      },
      "execution_count": null,
      "outputs": [
        {
          "output_type": "stream",
          "name": "stdout",
          "text": [
            "[0 2]\n",
            "[0 1]\n",
            "[[1 2]\n",
            " [7 8]]\n",
            "[1 3]\n"
          ]
        }
      ]
    },
    {
      "cell_type": "markdown",
      "source": [
        "Алгоритм случайного леса на основе решающих деревьев"
      ],
      "metadata": {
        "id": "2ddtt4eDp-o1"
      }
    },
    {
      "cell_type": "code",
      "source": [
        "from sklearn.metrics import accuracy_score\n",
        "from sklearn.datasets import load_iris\n",
        "from sklearn.model_selection import train_test_split\n",
        "import numpy as np\n",
        "from sklearn.tree import DecisionTreeClassifier\n",
        "np.random.seed(42)\n",
        "\n",
        "N_ESTIMATORS = 1\n",
        "MAX_DEPTH = 2\n",
        "SUBSPACE_DIM = 2\n",
        "\n",
        "class random_forest(object):\n",
        "  def __init__(self, n_estimators: int, max_depth: int, subspaces_dim: int, random_state: int):\n",
        "    self.n_estimators = n_estimators\n",
        "    self.max_depth = max_depth\n",
        "    self.subspaces_dim = subspaces_dim\n",
        "    self.random_state = random_state\n",
        "    self._estimators = None\n",
        "    self.subspace_idx = None\n",
        "\n",
        "  def fit(self, X, y):\n",
        "    s = sample(X, self.subspaces_dim)\n",
        "    bootstrap_indices = s.bootstrap_sample(X)\n",
        "    X_train, y_train = s.get_subsample(X, y, s.idx_subspace, bootstrap_indices)\n",
        "    tree = DecisionTreeClassifier(max_depth=self.max_depth, random_state = self.random_state).fit(X_train, y_train)\n",
        "    self._estimators = [tree]*self.n_estimators\n",
        "    self.subspace_idx = [s.idx_subspace]*self.n_estimators\n",
        "    for i in range(self.n_estimators):\n",
        "      s = sample(X, self.subspaces_dim)\n",
        "      bootstrap_indices = s.bootstrap_sample(X)\n",
        "      X_train, y_train = s.get_subsample(X, y, s.idx_subspace, bootstrap_indices)\n",
        "      self.subspace_idx[i] = s.idx_subspace\n",
        "      tree = DecisionTreeClassifier(max_depth=self.max_depth, random_state = self.random_state).fit(X_train, y_train)\n",
        "      self._estimators[i] = tree\n",
        "\n",
        "  def predict(self, X):\n",
        "    preds = [0]*(X.shape[0])\n",
        "    for i0 in range(self.n_estimators):\n",
        "      x_test = [0.]*(X.shape[0])\n",
        "      for i in range(X.shape[0]):\n",
        "        x_test[i] = [0.]*(len(self.subspace_idx[0]))\n",
        "      x_test = np.array(x_test)\n",
        "      n = 0\n",
        "      m = 0\n",
        "      k = 0\n",
        "      for i in range(X.shape[0]):\n",
        "        for j in self.subspace_idx[i0]:\n",
        "          x_test[n][m] = X[i][j]\n",
        "          m = m+1\n",
        "        m = 0\n",
        "        n = n+1\n",
        "      k = 0\n",
        "      x_test = np.array(x_test)\n",
        "      preds_tree = self._estimators[i0].predict(x_test)\n",
        "      for i in range(len(preds_tree)):\n",
        "        preds_tree[i] = preds_tree[i]-1\n",
        "      for i in range(len(preds)):\n",
        "        for j in range(X.shape[0]):\n",
        "          if i == j:\n",
        "            preds[i] = preds[i]+preds_tree[k]\n",
        "            k = k+1\n",
        "\n",
        "    for i in range(len(preds)):\n",
        "      o = 100000\n",
        "      if preds[i] == 0:\n",
        "        preds[i] = 1\n",
        "        o = 0\n",
        "      if np.sign(preds[i]) < 0 and o != 0:\n",
        "        preds[i] = 0\n",
        "      if np.sign(preds[i]) > 0 and o != 0:\n",
        "        preds[i] = 2\n",
        "    return preds\n",
        "\n",
        "iris = load_iris()\n",
        "X, y = iris.data, iris.target\n",
        "\n",
        "X_train, x_test, y_train, y_test = train_test_split(X, y, test_size=0.3, shuffle=True, random_state=42)\n",
        "\n",
        "rf = random_forest(1, 2, 2, 42)\n",
        "rf.fit(X_train, y_train)\n",
        "\n",
        "preds = rf.predict(x_test)\n",
        "\n",
        "print(preds)\n",
        "\n",
        "print(y_test)\n",
        "\n",
        "acc = accuracy_score(preds, y_test)\n",
        "\n",
        "print(acc)"
      ],
      "metadata": {
        "id": "pvPUeeyMqFnB",
        "colab": {
          "base_uri": "https://localhost:8080/"
        },
        "outputId": "e5db841c-70c8-4090-b6e6-71c0d5b00dcd"
      },
      "execution_count": null,
      "outputs": [
        {
          "output_type": "stream",
          "name": "stdout",
          "text": [
            "[1, 0, 2, 1, 1, 0, 1, 2, 1, 1, 2, 0, 0, 0, 0, 1, 2, 1, 1, 2, 0, 2, 0, 2, 2, 2, 2, 2, 0, 0, 0, 0, 1, 0, 0, 2, 1, 0, 0, 0, 2, 1, 1, 0, 0]\n",
            "[1 0 2 1 1 0 1 2 1 1 2 0 0 0 0 1 2 1 1 2 0 2 0 2 2 2 2 2 0 0 0 0 1 0 0 2 1\n",
            " 0 0 0 2 1 1 0 0]\n",
            "1.0\n"
          ]
        }
      ]
    },
    {
      "cell_type": "markdown",
      "source": [
        "**Задание 6**"
      ],
      "metadata": {
        "id": "fjzruGb_ysBs"
      }
    },
    {
      "cell_type": "markdown",
      "source": [
        "F1-measure"
      ],
      "metadata": {
        "id": "4UViUeQyyvFa"
      }
    },
    {
      "cell_type": "code",
      "source": [
        "import numpy\n",
        "def precision(y_true, y_pred):\n",
        "  y_true = numpy.array(y_true)\n",
        "  y_pred = numpy.array(y_pred)\n",
        "  TP = (y_pred * y_true).sum()\n",
        "  FP = (y_pred * (1 - y_true)).sum()\n",
        "  p = TP/(TP+FP)\n",
        "  return p\n",
        "\n",
        "def recall(y_true, y_pred):\n",
        "  y_true = numpy.array(y_true)\n",
        "  y_pred = numpy.array(y_pred)\n",
        "  TP = (y_pred * y_true).sum()\n",
        "  FN = ((1 - y_pred) * y_true).sum()\n",
        "  r = TP/(TP+FN)\n",
        "  return r\n",
        "\n",
        "def f1(y_true, y_pred):\n",
        "  f = (2*precision(y_true, y_pred)*recall(y_true, y_pred))/(precision(y_true, y_pred)+recall(y_true, y_pred)+1e-5)\n",
        "  return f\n",
        "\n",
        "y = [0,1,1,0,1]\n",
        "p = [0,1,1,0,1]\n",
        "\n",
        "print(precision(y,p))\n",
        "print(recall(y,p))\n",
        "print(f1(y,p))"
      ],
      "metadata": {
        "colab": {
          "base_uri": "https://localhost:8080/"
        },
        "id": "AUv9FUX1yud7",
        "outputId": "0300d7bf-ac21-4727-bf56-45e8030e484a"
      },
      "execution_count": null,
      "outputs": [
        {
          "output_type": "stream",
          "name": "stdout",
          "text": [
            "1.0\n",
            "1.0\n",
            "0.9999950000249999\n"
          ]
        }
      ]
    },
    {
      "cell_type": "markdown",
      "source": [
        "Значения метрик для 4 различных алгоритмов"
      ],
      "metadata": {
        "id": "ZtyuprYg4EHS"
      }
    },
    {
      "cell_type": "code",
      "source": [
        "from sklearn.datasets import load_breast_cancer\n",
        "from sklearn.model_selection import train_test_split\n",
        "from sklearn.neighbors import KNeighborsClassifier\n",
        "from sklearn.linear_model import LogisticRegression\n",
        "from sklearn.tree import DecisionTreeClassifier\n",
        "from sklearn.svm import SVC\n",
        "from sklearn.preprocessing import StandardScaler\n",
        "from sklearn.metrics import roc_auc_score\n",
        "from sklearn.metrics import auc\n",
        "from sklearn.metrics import precision_recall_curve\n",
        "\n",
        "X, y = load_breast_cancer(return_X_y=True)\n",
        "X_train, x_test, y_train, y_test = train_test_split(X, y, test_size=0.3, random_state=42)\n",
        "\n",
        "sc = StandardScaler()\n",
        "sc.fit(X_train)\n",
        "X_train, x_test = sc.transform(X_train), sc.transform(x_test)\n",
        "\n",
        "tree = DecisionTreeClassifier()\n",
        "lr = LogisticRegression()\n",
        "knn = KNeighborsClassifier()\n",
        "svm = SVC(probability=True)\n",
        "\n",
        "tree.fit(X_train, y_train)\n",
        "y = tree.predict(x_test)\n",
        "auc_roc = roc_auc_score(y_test, y)\n",
        "print(auc_roc)\n",
        "precision, recall, thresholds = precision_recall_curve(y_test, y)\n",
        "auc_pr = auc(recall, precision)\n",
        "print(auc_pr)\n",
        "print()\n",
        "\n",
        "lr.fit(X_train, y_train)\n",
        "y = lr.predict(x_test)\n",
        "auc_roc = roc_auc_score(y_test, y)\n",
        "print(auc_roc)\n",
        "precision, recall, thresholds = precision_recall_curve(y_test, y)\n",
        "auc_pr = auc(recall, precision)\n",
        "print(auc_pr)\n",
        "print()\n",
        "\n",
        "knn.fit(X_train, y_train)\n",
        "y = knn.predict(x_test)\n",
        "auc_roc = roc_auc_score(y_test, y)\n",
        "print(auc_roc)\n",
        "precision, recall, thresholds = precision_recall_curve(y_test, y)\n",
        "auc_pr = auc(recall, precision)\n",
        "print(auc_pr)\n",
        "print()\n",
        "\n",
        "svm.fit(X_train, y_train)\n",
        "y = svm.predict(x_test)\n",
        "auc_roc = roc_auc_score(y_test, y)\n",
        "print(auc_roc)\n",
        "precision, recall, thresholds = precision_recall_curve(y_test, y)\n",
        "auc_pr = auc(recall, precision)\n",
        "print(auc_pr)\n",
        "print()"
      ],
      "metadata": {
        "colab": {
          "base_uri": "https://localhost:8080/"
        },
        "id": "eeh6aZGe4ynE",
        "outputId": "516fa118-7984-4d13-fc6b-cb78fac448cc"
      },
      "execution_count": null,
      "outputs": [
        {
          "output_type": "stream",
          "name": "stdout",
          "text": [
            "0.9140211640211641\n",
            "0.9586716251253808\n",
            "\n",
            "0.9828042328042328\n",
            "0.9919157967608533\n",
            "\n",
            "0.9543650793650794\n",
            "0.9765344170824615\n",
            "\n",
            "0.9748677248677248\n",
            "0.9873294346978557\n",
            "\n"
          ]
        }
      ]
    },
    {
      "cell_type": "markdown",
      "source": [
        "**Задание 7**"
      ],
      "metadata": {
        "id": "Pauf7G0YLPLo"
      }
    },
    {
      "cell_type": "markdown",
      "source": [
        "Эффективная размерность PCA"
      ],
      "metadata": {
        "id": "u7YtEm_dLTO4"
      }
    },
    {
      "cell_type": "code",
      "source": [
        "import numpy\n",
        "\n",
        "def Em(s, m):\n",
        "  sum0 = 0\n",
        "  sum1 = 0\n",
        "  for i in range(len(s)):\n",
        "    sum0 = sum0+s[i]\n",
        "    if i > m:\n",
        "      sum1 = sum1+s[i]\n",
        "  return sum1/sum0\n",
        "\n",
        "a = numpy.load('PCA.npy')\n",
        "u, s, vh = numpy.linalg.svd(a)\n",
        "print(Em(s,11))"
      ],
      "metadata": {
        "colab": {
          "base_uri": "https://localhost:8080/"
        },
        "id": "gbrGFIHvLaU3",
        "outputId": "5920500b-2117-409c-85d7-311606a20124"
      },
      "execution_count": null,
      "outputs": [
        {
          "output_type": "stream",
          "name": "stdout",
          "text": [
            "0.17526034147784197\n"
          ]
        }
      ]
    },
    {
      "cell_type": "markdown",
      "source": [
        "PCA"
      ],
      "metadata": {
        "id": "jmtuxSlSRmkD"
      }
    },
    {
      "cell_type": "code",
      "source": [
        "# JUST RUN THIS CELL\n",
        "from sklearn.datasets import fetch_openml\n",
        "import numpy as np\n",
        "import matplotlib.pyplot as plt\n",
        "from sklearn.model_selection import train_test_split\n",
        "from sklearn.linear_model import LogisticRegression\n",
        "from sklearn.preprocessing import StandardScaler\n",
        "from sklearn.metrics import accuracy_score\n",
        "from sklearn.decomposition import PCA\n",
        "np.random.seed(42)\n",
        "\n",
        "mnist = fetch_openml('mnist_784')\n",
        "\n",
        "X = mnist.data.to_numpy()\n",
        "y = mnist.target.to_numpy()\n",
        "\n",
        "X = X[:2000]\n",
        "y = y[:2000]\n",
        "\n",
        "plt.figure(figsize=(20,4))\n",
        "for index, (image, label) in enumerate(zip(X[0:5], y[0:5])):\n",
        " plt.subplot(1, 5, index + 1)\n",
        " plt.imshow(np.reshape(image, (28,28)), cmap=plt.cm.gray)\n",
        " plt.title('Training: %s\\n' % label, fontsize = 20)\n",
        "\n",
        "N_COMPONENTS = [1,3,5,10,15,20,30,40,50,60]"
      ],
      "metadata": {
        "colab": {
          "base_uri": "https://localhost:8080/",
          "height": 222
        },
        "id": "I_3OnsKaR567",
        "outputId": "4fac2428-13b2-4cf1-fd2a-95a1e46ff54d"
      },
      "execution_count": null,
      "outputs": [
        {
          "output_type": "stream",
          "name": "stderr",
          "text": [
            "/usr/local/lib/python3.9/dist-packages/sklearn/datasets/_openml.py:968: FutureWarning: The default value of `parser` will change from `'liac-arff'` to `'auto'` in 1.4. You can set `parser='auto'` to silence this warning. Therefore, an `ImportError` will be raised from 1.4 if the dataset is dense and pandas is not installed. Note that the pandas parser may return different data types. See the Notes Section in fetch_openml's API doc for details.\n",
            "  warn(\n"
          ]
        },
        {
          "output_type": "display_data",
          "data": {
            "text/plain": [
              "<Figure size 2000x400 with 5 Axes>"
            ],
            "image/png": "[encoded data removed]"
          },
          "metadata": {}
        }
      ]
    },
    {
      "cell_type": "code",
      "source": [
        "for n in N_COMPONENTS:\n",
        "  X_train, X_test, y_train, y_test = train_test_split(\n",
        "      x, y, test_size=0.3, random_state=42\n",
        "  )\n",
        "\n",
        "  sc = StandardScaler()\n",
        "  sc.fit(X_train)\n",
        "\n",
        "  pca = PCA(n_components=n)\n",
        "  x_train = pca.fit_transform(X_train)\n",
        "  x_test = pca.transform(X_test)\n",
        "\n",
        "  lr = LogisticRegression(max_iter=500)\n",
        "\n",
        "  lr.fit(x_train, y_train)\n",
        "  p = lr.predict(x_test)\n",
        "\n",
        "  acc = accuracy_score(y_test, p)\n",
        "\n",
        "  print(n, acc)"
      ],
      "metadata": {
        "colab": {
          "base_uri": "https://localhost:8080/"
        },
        "id": "9Ljj3C5MVQiB",
        "outputId": "3f48fdf4-60e7-456c-d287-95368197a52e"
      },
      "execution_count": null,
      "outputs": [
        {
          "output_type": "stream",
          "name": "stdout",
          "text": [
            "1 0.2833333333333333\n"
          ]
        },
        {
          "output_type": "stream",
          "name": "stderr",
          "text": [
            "/usr/local/lib/python3.9/dist-packages/sklearn/linear_model/_logistic.py:458: ConvergenceWarning: lbfgs failed to converge (status=1):\n",
            "STOP: TOTAL NO. of ITERATIONS REACHED LIMIT.\n",
            "\n",
            "Increase the number of iterations (max_iter) or scale the data as shown in:\n",
            "    https://scikit-learn.org/stable/modules/preprocessing.html\n",
            "Please also refer to the documentation for alternative solver options:\n",
            "    https://scikit-learn.org/stable/modules/linear_model.html#logistic-regression\n",
            "  n_iter_i = _check_optimize_result(\n"
          ]
        },
        {
          "output_type": "stream",
          "name": "stdout",
          "text": [
            "3 0.4533333333333333\n"
          ]
        },
        {
          "output_type": "stream",
          "name": "stderr",
          "text": [
            "/usr/local/lib/python3.9/dist-packages/sklearn/linear_model/_logistic.py:458: ConvergenceWarning: lbfgs failed to converge (status=1):\n",
            "STOP: TOTAL NO. of ITERATIONS REACHED LIMIT.\n",
            "\n",
            "Increase the number of iterations (max_iter) or scale the data as shown in:\n",
            "    https://scikit-learn.org/stable/modules/preprocessing.html\n",
            "Please also refer to the documentation for alternative solver options:\n",
            "    https://scikit-learn.org/stable/modules/linear_model.html#logistic-regression\n",
            "  n_iter_i = _check_optimize_result(\n"
          ]
        },
        {
          "output_type": "stream",
          "name": "stdout",
          "text": [
            "5 0.665\n"
          ]
        },
        {
          "output_type": "stream",
          "name": "stderr",
          "text": [
            "/usr/local/lib/python3.9/dist-packages/sklearn/linear_model/_logistic.py:458: ConvergenceWarning: lbfgs failed to converge (status=1):\n",
            "STOP: TOTAL NO. of ITERATIONS REACHED LIMIT.\n",
            "\n",
            "Increase the number of iterations (max_iter) or scale the data as shown in:\n",
            "    https://scikit-learn.org/stable/modules/preprocessing.html\n",
            "Please also refer to the documentation for alternative solver options:\n",
            "    https://scikit-learn.org/stable/modules/linear_model.html#logistic-regression\n",
            "  n_iter_i = _check_optimize_result(\n"
          ]
        },
        {
          "output_type": "stream",
          "name": "stdout",
          "text": [
            "10 0.8016666666666666\n"
          ]
        },
        {
          "output_type": "stream",
          "name": "stderr",
          "text": [
            "/usr/local/lib/python3.9/dist-packages/sklearn/linear_model/_logistic.py:458: ConvergenceWarning: lbfgs failed to converge (status=1):\n",
            "STOP: TOTAL NO. of ITERATIONS REACHED LIMIT.\n",
            "\n",
            "Increase the number of iterations (max_iter) or scale the data as shown in:\n",
            "    https://scikit-learn.org/stable/modules/preprocessing.html\n",
            "Please also refer to the documentation for alternative solver options:\n",
            "    https://scikit-learn.org/stable/modules/linear_model.html#logistic-regression\n",
            "  n_iter_i = _check_optimize_result(\n"
          ]
        },
        {
          "output_type": "stream",
          "name": "stdout",
          "text": [
            "15 0.8416666666666667\n"
          ]
        },
        {
          "output_type": "stream",
          "name": "stderr",
          "text": [
            "/usr/local/lib/python3.9/dist-packages/sklearn/linear_model/_logistic.py:458: ConvergenceWarning: lbfgs failed to converge (status=1):\n",
            "STOP: TOTAL NO. of ITERATIONS REACHED LIMIT.\n",
            "\n",
            "Increase the number of iterations (max_iter) or scale the data as shown in:\n",
            "    https://scikit-learn.org/stable/modules/preprocessing.html\n",
            "Please also refer to the documentation for alternative solver options:\n",
            "    https://scikit-learn.org/stable/modules/linear_model.html#logistic-regression\n",
            "  n_iter_i = _check_optimize_result(\n"
          ]
        },
        {
          "output_type": "stream",
          "name": "stdout",
          "text": [
            "20 0.8466666666666667\n"
          ]
        },
        {
          "output_type": "stream",
          "name": "stderr",
          "text": [
            "/usr/local/lib/python3.9/dist-packages/sklearn/linear_model/_logistic.py:458: ConvergenceWarning: lbfgs failed to converge (status=1):\n",
            "STOP: TOTAL NO. of ITERATIONS REACHED LIMIT.\n",
            "\n",
            "Increase the number of iterations (max_iter) or scale the data as shown in:\n",
            "    https://scikit-learn.org/stable/modules/preprocessing.html\n",
            "Please also refer to the documentation for alternative solver options:\n",
            "    https://scikit-learn.org/stable/modules/linear_model.html#logistic-regression\n",
            "  n_iter_i = _check_optimize_result(\n"
          ]
        },
        {
          "output_type": "stream",
          "name": "stdout",
          "text": [
            "30 0.8433333333333334\n"
          ]
        },
        {
          "output_type": "stream",
          "name": "stderr",
          "text": [
            "/usr/local/lib/python3.9/dist-packages/sklearn/linear_model/_logistic.py:458: ConvergenceWarning: lbfgs failed to converge (status=1):\n",
            "STOP: TOTAL NO. of ITERATIONS REACHED LIMIT.\n",
            "\n",
            "Increase the number of iterations (max_iter) or scale the data as shown in:\n",
            "    https://scikit-learn.org/stable/modules/preprocessing.html\n",
            "Please also refer to the documentation for alternative solver options:\n",
            "    https://scikit-learn.org/stable/modules/linear_model.html#logistic-regression\n",
            "  n_iter_i = _check_optimize_result(\n"
          ]
        },
        {
          "output_type": "stream",
          "name": "stdout",
          "text": [
            "40 0.8316666666666667\n"
          ]
        },
        {
          "output_type": "stream",
          "name": "stderr",
          "text": [
            "/usr/local/lib/python3.9/dist-packages/sklearn/linear_model/_logistic.py:458: ConvergenceWarning: lbfgs failed to converge (status=1):\n",
            "STOP: TOTAL NO. of ITERATIONS REACHED LIMIT.\n",
            "\n",
            "Increase the number of iterations (max_iter) or scale the data as shown in:\n",
            "    https://scikit-learn.org/stable/modules/preprocessing.html\n",
            "Please also refer to the documentation for alternative solver options:\n",
            "    https://scikit-learn.org/stable/modules/linear_model.html#logistic-regression\n",
            "  n_iter_i = _check_optimize_result(\n"
          ]
        },
        {
          "output_type": "stream",
          "name": "stdout",
          "text": [
            "50 0.8133333333333334\n",
            "60 0.7916666666666666\n"
          ]
        },
        {
          "output_type": "stream",
          "name": "stderr",
          "text": [
            "/usr/local/lib/python3.9/dist-packages/sklearn/linear_model/_logistic.py:458: ConvergenceWarning: lbfgs failed to converge (status=1):\n",
            "STOP: TOTAL NO. of ITERATIONS REACHED LIMIT.\n",
            "\n",
            "Increase the number of iterations (max_iter) or scale the data as shown in:\n",
            "    https://scikit-learn.org/stable/modules/preprocessing.html\n",
            "Please also refer to the documentation for alternative solver options:\n",
            "    https://scikit-learn.org/stable/modules/linear_model.html#logistic-regression\n",
            "  n_iter_i = _check_optimize_result(\n"
          ]
        }
      ]
    },
    {
      "cell_type": "markdown",
      "source": [
        "**Задание 8**"
      ],
      "metadata": {
        "id": "CUtj3skfjFJd"
      }
    },
    {
      "cell_type": "markdown",
      "source": [
        "Использование реализации алгоритма K-Means из sklearn для кластеризации"
      ],
      "metadata": {
        "id": "KOAiyfDOpwa7"
      }
    },
    {
      "cell_type": "code",
      "source": [
        "import numpy as np\n",
        "import pandas as pd\n",
        "from matplotlib import pyplot as plt\n",
        "from sklearn.cluster import KMeans\n",
        "from sklearn.metrics.cluster import adjusted_rand_score\n",
        "\n",
        "np.random.seed(42)\n",
        "\n",
        "a = pd.read_csv('5.csv')\n",
        "print(a)\n",
        "a = np.array(a)\n",
        "x = a[:,0]\n",
        "y = a[:,1]\n",
        "true = a[:,2]\n",
        "a0 = np.vstack([x, y])\n",
        "a0 = a0.T\n",
        "plt.scatter(x, y)\n",
        "kmeans = KMeans(n_clusters=4, random_state=42).fit(a0)\n",
        "adjusted_rand_score(true,kmeans.labels_)"
      ],
      "metadata": {
        "id": "d0XUI7xxjH-d",
        "colab": {
          "base_uri": "https://localhost:8080/",
          "height": 745
        },
        "outputId": "bf3b7575-8cc7-46ac-9263-edb5e70c6f51"
      },
      "execution_count": null,
      "outputs": [
        {
          "output_type": "stream",
          "name": "stdout",
          "text": [
            "           a0        a1  class\n",
            "0   -0.100000  0.500000      0\n",
            "1   -0.100126  0.510052      0\n",
            "2   -0.100505  0.520098      0\n",
            "3   -0.101136  0.530131      0\n",
            "4   -0.102020  0.540145      0\n",
            "..        ...       ...    ...\n",
            "995 -0.400789  0.487467      3\n",
            "996 -0.400505  0.489964      3\n",
            "997 -0.400284  0.492467      3\n",
            "998 -0.400126  0.494976      3\n",
            "999 -0.400032  0.497487      3\n",
            "\n",
            "[1000 rows x 3 columns]\n"
          ]
        },
        {
          "output_type": "stream",
          "name": "stderr",
          "text": [
            "/usr/local/lib/python3.10/dist-packages/sklearn/cluster/_kmeans.py:870: FutureWarning: The default value of `n_init` will change from 10 to 'auto' in 1.4. Set the value of `n_init` explicitly to suppress the warning\n",
            "  warnings.warn(\n"
          ]
        },
        {
          "output_type": "execute_result",
          "data": {
            "text/plain": [
              "-0.003011919294390726"
            ]
          },
          "metadata": {},
          "execution_count": 107
        },
        {
          "output_type": "display_data",
          "data": {
            "text/plain": [
              "<Figure size 640x480 with 1 Axes>"
            ],
            "image/png": "[encoded data removed]"
          },
          "metadata": {}
        }
      ]
    },
    {
      "cell_type": "markdown",
      "source": [
        "Алгоритм K-Средних"
      ],
      "metadata": {
        "id": "YI7B1BcNz0Eg"
      }
    },
    {
      "cell_type": "code",
      "source": [
        "from sklearn.metrics.cluster import adjusted_rand_score\n",
        "from matplotlib import pyplot as plt\n",
        "import pandas as pd\n",
        "import numpy as np\n",
        "\n",
        "def evkl(x,y):\n",
        "  square = np.square(x - y)\n",
        "  sum_square = np.sum(square)\n",
        "  distance = np.sqrt(sum_square)\n",
        "  return distance\n",
        "\n",
        "class KMeans(object):\n",
        "  def __init__(self, K, init):\n",
        "    self.K = K\n",
        "    self.init = np.array(init)\n",
        "\n",
        "  def fit(self, X):\n",
        "    X = np.array(X)\n",
        "    n = X.shape[0]\n",
        "    m = self.init.shape[1]\n",
        "    min = 0\n",
        "    ans = 0\n",
        "    klas = 0\n",
        "    mas = 1\n",
        "    cent = [0.]*self.K\n",
        "    for i in range(self.K):\n",
        "      cent[i] = [0.]*m\n",
        "    cent = np.array(cent)\n",
        "\n",
        "    while mas >= 0.001:\n",
        "      l = [0.]*self.K\n",
        "      for i in range(self.K):\n",
        "        l[i] = [0.]*m\n",
        "      l = np.array(l)\n",
        "      count = [0]*self.K\n",
        "      for i in range(self.K):\n",
        "        for j in range(m):\n",
        "          cent[i][j] = self.init[i][j]\n",
        "      for i in range(n):\n",
        "        min = 0\n",
        "        ans = 0\n",
        "        for j in range(self.K):\n",
        "          min = evkl(X[i,:],cent[j,:])\n",
        "          if ans == 0 or min < ans:\n",
        "            ans = min\n",
        "            klas = j\n",
        "        l[klas,:] += X[i,:]\n",
        "        count[klas] += 1\n",
        "      for j in range(self.K):\n",
        "        self.init[j,:] = l[j,:]/count[j]\n",
        "      for j in range(self.K-1):\n",
        "        mas = max(evkl(self.init[j,:],cent[j,:]),evkl(self.init[j+1,:],cent[j+1,:]))\n",
        "\n",
        "  def predict(self, X):\n",
        "    n = X.shape[0]\n",
        "    m = self.init.shape[1]\n",
        "    min = 0\n",
        "    ans = 0\n",
        "    result = [0]*n\n",
        "    for i in range(n):\n",
        "      min = 0\n",
        "      ans = 0\n",
        "      for j in range(self.K):\n",
        "        min = evkl(X[i,:],self.init[j,:])\n",
        "        if ans == 0 or min < ans:\n",
        "          ans = min\n",
        "          result[i] = j\n",
        "    result = np.array(result)\n",
        "    return result\n",
        "\n",
        "a = pd.read_csv('4.csv')\n",
        "a = np.array(a)\n",
        "x = a[:,1]\n",
        "y = a[:,2]\n",
        "true = a[:,3]\n",
        "a0 = np.vstack([x, y])\n",
        "a0 = a0.T\n",
        "plt.scatter(x, y)\n",
        "k_m = KMeans(3,[[0,0],[0,1],[1,0]])\n",
        "k_m.fit(a0)\n",
        "p = k_m.predict(a0)\n",
        "adjusted_rand_score(true,p)"
      ],
      "metadata": {
        "id": "pOImsvj4z1Dt",
        "colab": {
          "base_uri": "https://localhost:8080/",
          "height": 447
        },
        "outputId": "25960501-34a6-4c49-b17f-36db9bbab36f"
      },
      "execution_count": null,
      "outputs": [
        {
          "output_type": "execute_result",
          "data": {
            "text/plain": [
              "1.0"
            ]
          },
          "metadata": {},
          "execution_count": 54
        },
        {
          "output_type": "display_data",
          "data": {
            "text/plain": [
              "<Figure size 640x480 with 1 Axes>"
            ],
            "image/png": "[encoded data removed]"
          },
          "metadata": {}
        }
      ]
    },
    {
      "cell_type": "markdown",
      "source": [
        "**Задание 9**"
      ],
      "metadata": {
        "id": "7fqvnApCoCkV"
      }
    },
    {
      "cell_type": "markdown",
      "source": [
        "Система оценки схожести пользователей и объектов"
      ],
      "metadata": {
        "id": "Hm4An_m4ozDK"
      }
    },
    {
      "cell_type": "code",
      "source": [
        "import numpy as np\n",
        "from numpy.linalg import svd\n",
        "from sklearn.neighbors import NearestNeighbors\n",
        "\n",
        "class similaryty_analizer(object):\n",
        "  def __init__(self, R: np.array):\n",
        "    self.R = R\n",
        "    self.n_users = 0\n",
        "    self.n_items = 0\n",
        "\n",
        "  def _get_svd(self, new_dim: int):\n",
        "    R = self.R\n",
        "    U, S, V = svd(R)\n",
        "\n",
        "    U = U[0:new_dim+1,0:new_dim+1]\n",
        "    S = np.diag(S[0:new_dim+1])\n",
        "    V = V[0:new_dim+1,0:new_dim+1]\n",
        "\n",
        "    P = np.matmul(U, S)\n",
        "    Q = V\n",
        "\n",
        "    return P, Q\n",
        "\n",
        "  def get_similar_users(self, n_users: int, user_id: int):\n",
        "    self.n_users = n_users\n",
        "    P, Q = self._get_svd(self.n_users)\n",
        "\n",
        "    nn = NearestNeighbors(n_neighbors=n_users+1)\n",
        "    nn = nn.fit(P)\n",
        "\n",
        "    user = P[user_id, :]\n",
        "    neighbours = nn.kneighbors([user], n_neighbors=n_users+1, return_distance=False)[:, 0:].ravel()\n",
        "    return np.array(neighbours[1:])\n",
        "\n",
        "  def get_similar_items(self, n_items: int, item_id: int):\n",
        "    self.n_items = n_items\n",
        "    P, Q = self._get_svd(self.n_items)\n",
        "\n",
        "    nn = NearestNeighbors(n_neighbors=n_items+1)\n",
        "    nn = nn.fit(Q)\n",
        "\n",
        "    item = Q[item_id, :]\n",
        "    neighbours = nn.kneighbors([item], return_distance=False)[:, 0:].ravel()\n",
        "    return np.array(neighbours[1:])\n",
        "\n",
        "r1 = [1, 0, 0]\n",
        "r2 = [1, 1, 0]\n",
        "r3 = [1, 1, 1]\n",
        "\n",
        "R = np.array([r1, r2, r3])\n",
        "print(R)\n",
        "\n",
        "SA = similaryty_analizer(R)\n",
        "print(SA.get_similar_users(1, 0))\n",
        "\n",
        "print(SA.get_similar_users(2, 0))\n",
        "\n",
        "print(SA.get_similar_users(2, 1))"
      ],
      "metadata": {
        "colab": {
          "base_uri": "https://localhost:8080/"
        },
        "id": "4hDzaEDnoGzw",
        "outputId": "4a32c32f-d8a6-42fa-96ec-9f287688bb76"
      },
      "execution_count": null,
      "outputs": [
        {
          "output_type": "stream",
          "name": "stdout",
          "text": [
            "[[1 0 0]\n",
            " [1 1 0]\n",
            " [1 1 1]]\n",
            "[1]\n",
            "[1 2]\n",
            "[0 2]\n"
          ]
        }
      ]
    },
    {
      "cell_type": "markdown",
      "source": [
        "Социальная сеть \"Друзья\""
      ],
      "metadata": {
        "id": "ogTju1Nu2zZd"
      }
    },
    {
      "cell_type": "code",
      "source": [
        "import numpy as np\n",
        "\n",
        "class friendadviser(object):\n",
        "  def fit(self, R: np.array):\n",
        "    self.R = R\n",
        "    self.n_users = R.shape[0]\n",
        "    self.n_items = R.shape[1]\n",
        "\n",
        "  def _sim(self, u1: np.array, u2: np.array):\n",
        "    nxy = 0.\n",
        "    nx = 0.\n",
        "    ny = 0.\n",
        "    for i in range(self.n_items):\n",
        "      if u1[i] == 1 and u2[i] == 1:\n",
        "        nxy += 1\n",
        "      if u1[i] == 1:\n",
        "        nx += 1\n",
        "      if u2[i] == 1:\n",
        "        ny += 1\n",
        "    score = nxy/(nx*ny)\n",
        "    return score\n",
        "\n",
        "\n",
        "  def U_idx(self, u0: np.array, alpha: float):\n",
        "    u = []\n",
        "    for i in range(self.n_users):\n",
        "      if self._sim(u0, self.R[i,:]) >= alpha:\n",
        "        u.append(i)\n",
        "    return np.array(u)\n",
        "\n",
        "  def find_friends(self, u0: np.array, how_many: int):\n",
        "    u = []\n",
        "    a = []\n",
        "    for i in range(self.n_users):\n",
        "      a.append(self._sim(u0, self.R[i,:]))\n",
        "      u.append(i)\n",
        "    for i in range(self.n_users-1):\n",
        "      for j in range(self.n_users-i-1):\n",
        "        if a[j] < a[j+1]:\n",
        "            a[j], a[j+1] = a[j+1], a[j]\n",
        "            u[j], u[j+1] = u[j+1], u[j]\n",
        "    return np.array(u[0:how_many])\n",
        "\n",
        "r1 = [1, 0, 0]\n",
        "r2 = [1, 1, 0]\n",
        "r3 = [1, 1, 1]\n",
        "\n",
        "R = np.array([r1, r2, r3])\n",
        "print(R)\n",
        "\n",
        "F = friendadviser()\n",
        "F.fit(R)\n",
        "\n",
        "print(F.U_idx(R[0,:], 0.9))\n",
        "\n",
        "print(F.U_idx(R[0,:], 1))"
      ],
      "metadata": {
        "colab": {
          "base_uri": "https://localhost:8080/"
        },
        "id": "SWc0NEO220c0",
        "outputId": "21856483-6641-435b-dbee-4f32874b8357"
      },
      "execution_count": null,
      "outputs": [
        {
          "output_type": "stream",
          "name": "stdout",
          "text": [
            "[[1 0 0]\n",
            " [1 1 0]\n",
            " [1 1 1]]\n",
            "[0]\n",
            "[0]\n"
          ]
        }
      ]
    }
  ]
}